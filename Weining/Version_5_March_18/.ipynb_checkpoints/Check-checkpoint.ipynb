{
 "cells": [
  {
   "cell_type": "code",
   "execution_count": 1,
   "metadata": {},
   "outputs": [],
   "source": [
    "import numpy as np\n",
    "import pandas as pd\n"
   ]
  },
  {
   "cell_type": "code",
   "execution_count": 2,
   "metadata": {},
   "outputs": [
    {
     "data": {
      "text/html": [
       "<div>\n",
       "<style scoped>\n",
       "    .dataframe tbody tr th:only-of-type {\n",
       "        vertical-align: middle;\n",
       "    }\n",
       "\n",
       "    .dataframe tbody tr th {\n",
       "        vertical-align: top;\n",
       "    }\n",
       "\n",
       "    .dataframe thead th {\n",
       "        text-align: right;\n",
       "    }\n",
       "</style>\n",
       "<table border=\"1\" class=\"dataframe\">\n",
       "  <thead>\n",
       "    <tr style=\"text-align: right;\">\n",
       "      <th></th>\n",
       "      <th>Country</th>\n",
       "      <th>Region</th>\n",
       "      <th>UN_Region</th>\n",
       "      <th>Influenza2005</th>\n",
       "      <th>Influenza2006</th>\n",
       "      <th>Influenza2007</th>\n",
       "      <th>Influenza2008</th>\n",
       "      <th>Influenza2009</th>\n",
       "      <th>Influenza2010</th>\n",
       "      <th>Influenza2011</th>\n",
       "      <th>Influenza2012</th>\n",
       "      <th>Influenza2013</th>\n",
       "      <th>Influenza2014</th>\n",
       "      <th>Influenza2015</th>\n",
       "      <th>Influenza2016</th>\n",
       "      <th>Influenza2017</th>\n",
       "      <th>Influenza2018</th>\n",
       "      <th>Influenza2019</th>\n",
       "    </tr>\n",
       "  </thead>\n",
       "  <tbody>\n",
       "    <tr>\n",
       "      <th>0</th>\n",
       "      <td>Australia</td>\n",
       "      <td>Australia New Zealand</td>\n",
       "      <td>Oceania</td>\n",
       "      <td>712.0</td>\n",
       "      <td>259.0</td>\n",
       "      <td>1355.0</td>\n",
       "      <td>768.0</td>\n",
       "      <td>5107.0</td>\n",
       "      <td>1252.0</td>\n",
       "      <td>2040.0</td>\n",
       "      <td>4798.0</td>\n",
       "      <td>2002.0</td>\n",
       "      <td>3473.0</td>\n",
       "      <td>3622.0</td>\n",
       "      <td>6705.0</td>\n",
       "      <td>10509.0</td>\n",
       "      <td>4264.0</td>\n",
       "      <td>14002.0</td>\n",
       "    </tr>\n",
       "    <tr>\n",
       "      <th>1</th>\n",
       "      <td>New Zealand</td>\n",
       "      <td>Australia New Zealand</td>\n",
       "      <td>Oceania</td>\n",
       "      <td>269.0</td>\n",
       "      <td>285.0</td>\n",
       "      <td>207.0</td>\n",
       "      <td>548.0</td>\n",
       "      <td>1542.0</td>\n",
       "      <td>326.0</td>\n",
       "      <td>1218.0</td>\n",
       "      <td>2261.0</td>\n",
       "      <td>2185.0</td>\n",
       "      <td>3418.0</td>\n",
       "      <td>5102.0</td>\n",
       "      <td>294.0</td>\n",
       "      <td>945.0</td>\n",
       "      <td>475.0</td>\n",
       "      <td>957.0</td>\n",
       "    </tr>\n",
       "  </tbody>\n",
       "</table>\n",
       "</div>"
      ],
      "text/plain": [
       "       Country                 Region UN_Region  Influenza2005  Influenza2006  \\\n",
       "0    Australia  Australia New Zealand   Oceania          712.0          259.0   \n",
       "1  New Zealand  Australia New Zealand   Oceania          269.0          285.0   \n",
       "\n",
       "   Influenza2007  Influenza2008  Influenza2009  Influenza2010  Influenza2011  \\\n",
       "0         1355.0          768.0         5107.0         1252.0         2040.0   \n",
       "1          207.0          548.0         1542.0          326.0         1218.0   \n",
       "\n",
       "   Influenza2012  Influenza2013  Influenza2014  Influenza2015  Influenza2016  \\\n",
       "0         4798.0         2002.0         3473.0         3622.0         6705.0   \n",
       "1         2261.0         2185.0         3418.0         5102.0          294.0   \n",
       "\n",
       "   Influenza2017  Influenza2018  Influenza2019  \n",
       "0        10509.0         4264.0        14002.0  \n",
       "1          945.0          475.0          957.0  "
      ]
     },
     "execution_count": 2,
     "metadata": {},
     "output_type": "execute_result"
    }
   ],
   "source": [
    "df_nodes = pd.read_csv('CountryNodes_Influenza232.csv', header = 0)\n",
    "df_nodes.head(2)"
   ]
  },
  {
   "cell_type": "code",
   "execution_count": 3,
   "metadata": {},
   "outputs": [
    {
     "data": {
      "text/plain": [
       "232"
      ]
     },
     "execution_count": 3,
     "metadata": {},
     "output_type": "execute_result"
    }
   ],
   "source": [
    "# check the number of distinct countries:\n",
    "len(df_nodes['Country'].unique())"
   ]
  },
  {
   "cell_type": "code",
   "execution_count": 4,
   "metadata": {},
   "outputs": [
    {
     "data": {
      "text/html": [
       "<div>\n",
       "<style scoped>\n",
       "    .dataframe tbody tr th:only-of-type {\n",
       "        vertical-align: middle;\n",
       "    }\n",
       "\n",
       "    .dataframe tbody tr th {\n",
       "        vertical-align: top;\n",
       "    }\n",
       "\n",
       "    .dataframe thead th {\n",
       "        text-align: right;\n",
       "    }\n",
       "</style>\n",
       "<table border=\"1\" class=\"dataframe\">\n",
       "  <thead>\n",
       "    <tr style=\"text-align: right;\">\n",
       "      <th></th>\n",
       "      <th>Destination</th>\n",
       "      <th>Origin</th>\n",
       "      <th>flow2000</th>\n",
       "      <th>flow2005</th>\n",
       "      <th>flow2010</th>\n",
       "      <th>flow2015</th>\n",
       "      <th>flow2019</th>\n",
       "      <th>increase_rate_2000_2005</th>\n",
       "      <th>increase_rate_2005_2010</th>\n",
       "      <th>increase_rate_2010_2015</th>\n",
       "      <th>increase_rate_2015_2019</th>\n",
       "    </tr>\n",
       "  </thead>\n",
       "  <tbody>\n",
       "    <tr>\n",
       "      <th>0</th>\n",
       "      <td>Afghanistan</td>\n",
       "      <td>Albania</td>\n",
       "      <td>0.0</td>\n",
       "      <td>0.0</td>\n",
       "      <td>0.0</td>\n",
       "      <td>0.0</td>\n",
       "      <td>0.0</td>\n",
       "      <td>0.0</td>\n",
       "      <td>0.0</td>\n",
       "      <td>0.0</td>\n",
       "      <td>0.0</td>\n",
       "    </tr>\n",
       "    <tr>\n",
       "      <th>1</th>\n",
       "      <td>Afghanistan</td>\n",
       "      <td>Algeria</td>\n",
       "      <td>0.0</td>\n",
       "      <td>0.0</td>\n",
       "      <td>0.0</td>\n",
       "      <td>0.0</td>\n",
       "      <td>0.0</td>\n",
       "      <td>0.0</td>\n",
       "      <td>0.0</td>\n",
       "      <td>0.0</td>\n",
       "      <td>0.0</td>\n",
       "    </tr>\n",
       "  </tbody>\n",
       "</table>\n",
       "</div>"
      ],
      "text/plain": [
       "   Destination   Origin  flow2000  flow2005  flow2010  flow2015  flow2019  \\\n",
       "0  Afghanistan  Albania       0.0       0.0       0.0       0.0       0.0   \n",
       "1  Afghanistan  Algeria       0.0       0.0       0.0       0.0       0.0   \n",
       "\n",
       "   increase_rate_2000_2005  increase_rate_2005_2010  increase_rate_2010_2015  \\\n",
       "0                      0.0                      0.0                      0.0   \n",
       "1                      0.0                      0.0                      0.0   \n",
       "\n",
       "   increase_rate_2015_2019  \n",
       "0                      0.0  \n",
       "1                      0.0  "
      ]
     },
     "execution_count": 4,
     "metadata": {},
     "output_type": "execute_result"
    }
   ],
   "source": [
    "df_links = pd.read_csv('EdgeList_All.csv', header = 0)\n",
    "df_links.head(2)"
   ]
  },
  {
   "cell_type": "code",
   "execution_count": 5,
   "metadata": {},
   "outputs": [
    {
     "data": {
      "text/plain": [
       "232"
      ]
     },
     "execution_count": 5,
     "metadata": {},
     "output_type": "execute_result"
    }
   ],
   "source": [
    "# check the number of distinct countries in df_links\n",
    "len(df_links['Destination'].unique())"
   ]
  },
  {
   "cell_type": "code",
   "execution_count": 6,
   "metadata": {},
   "outputs": [
    {
     "data": {
      "text/plain": [
       "{'CuraÃ§ao', \"CÃ´te d'Ivoire\", 'RÃ©union'}"
      ]
     },
     "execution_count": 6,
     "metadata": {},
     "output_type": "execute_result"
    }
   ],
   "source": [
    "# check if these two distinct lists are the same\n",
    "a = set(df_nodes['Country'].unique())\n",
    "b = set(df_links['Destination'].unique())\n",
    "c = a.difference(b)\n",
    "c"
   ]
  },
  {
   "cell_type": "code",
   "execution_count": 7,
   "metadata": {},
   "outputs": [
    {
     "data": {
      "text/plain": [
       "{'Curaçao', \"Côte d'Ivoire\", 'Réunion'}"
      ]
     },
     "execution_count": 7,
     "metadata": {},
     "output_type": "execute_result"
    }
   ],
   "source": [
    "d = b.difference(a)\n",
    "d"
   ]
  },
  {
   "cell_type": "code",
   "execution_count": null,
   "metadata": {},
   "outputs": [],
   "source": []
  },
  {
   "cell_type": "markdown",
   "metadata": {},
   "source": [
    "## 1 change Curacao"
   ]
  },
  {
   "cell_type": "code",
   "execution_count": 8,
   "metadata": {},
   "outputs": [
    {
     "data": {
      "text/plain": [
       "[191]"
      ]
     },
     "execution_count": 8,
     "metadata": {},
     "output_type": "execute_result"
    }
   ],
   "source": [
    "# change replace names in df_nodes\n",
    "index1 = df_nodes.loc[df_nodes['Country'] == list(c)[0]].index.tolist()\n",
    "index1"
   ]
  },
  {
   "cell_type": "code",
   "execution_count": 9,
   "metadata": {},
   "outputs": [],
   "source": [
    "df_nodes.loc[index1, ['Country']] = list(d)[0]"
   ]
  },
  {
   "cell_type": "code",
   "execution_count": 10,
   "metadata": {},
   "outputs": [
    {
     "data": {
      "text/plain": [
       "Country                   RÃ©union\n",
       "Region              Eastern Africa\n",
       "UN_Region        Sub_Saharan Arica\n",
       "Influenza2005                    0\n",
       "Influenza2006                    0\n",
       "Influenza2007                    0\n",
       "Influenza2008                    0\n",
       "Influenza2009                    0\n",
       "Influenza2010                    0\n",
       "Influenza2011                    0\n",
       "Influenza2012                    0\n",
       "Influenza2013                    0\n",
       "Influenza2014                    0\n",
       "Influenza2015                    0\n",
       "Influenza2016                    0\n",
       "Influenza2017                    0\n",
       "Influenza2018                    0\n",
       "Influenza2019                    0\n",
       "Name: 52, dtype: object"
      ]
     },
     "execution_count": 10,
     "metadata": {},
     "output_type": "execute_result"
    }
   ],
   "source": [
    "df_nodes.iloc[52]"
   ]
  },
  {
   "cell_type": "markdown",
   "metadata": {},
   "source": [
    "## 2 change  Côte d'Ivoire"
   ]
  },
  {
   "cell_type": "code",
   "execution_count": 11,
   "metadata": {},
   "outputs": [
    {
     "data": {
      "text/plain": [
       "[11]"
      ]
     },
     "execution_count": 11,
     "metadata": {},
     "output_type": "execute_result"
    }
   ],
   "source": [
    "# change replace names in df_nodes\n",
    "index2 = df_nodes.loc[df_nodes['Country'] == list(c)[1]].index.tolist()\n",
    "index2"
   ]
  },
  {
   "cell_type": "code",
   "execution_count": 12,
   "metadata": {},
   "outputs": [],
   "source": [
    "df_nodes.loc[index2, ['Country']] = list(d)[1]"
   ]
  },
  {
   "cell_type": "code",
   "execution_count": 13,
   "metadata": {},
   "outputs": [
    {
     "data": {
      "text/plain": [
       "Country                    Réunion\n",
       "Region              Western Africa\n",
       "UN_Region        Sub_Saharan Arica\n",
       "Influenza2005                    0\n",
       "Influenza2006                    0\n",
       "Influenza2007                    0\n",
       "Influenza2008                    0\n",
       "Influenza2009                  344\n",
       "Influenza2010                  214\n",
       "Influenza2011                  417\n",
       "Influenza2012                  261\n",
       "Influenza2013                  351\n",
       "Influenza2014                  212\n",
       "Influenza2015                  287\n",
       "Influenza2016                  360\n",
       "Influenza2017                  337\n",
       "Influenza2018                  262\n",
       "Influenza2019                  458\n",
       "Name: 191, dtype: object"
      ]
     },
     "execution_count": 13,
     "metadata": {},
     "output_type": "execute_result"
    }
   ],
   "source": [
    "df_nodes.iloc[191]"
   ]
  },
  {
   "cell_type": "markdown",
   "metadata": {},
   "source": [
    "## 3 change  Réunion"
   ]
  },
  {
   "cell_type": "code",
   "execution_count": 14,
   "metadata": {},
   "outputs": [
    {
     "data": {
      "text/plain": [
       "[52]"
      ]
     },
     "execution_count": 14,
     "metadata": {},
     "output_type": "execute_result"
    }
   ],
   "source": [
    "# change replace names in df_nodes\n",
    "index3 = df_nodes.loc[df_nodes['Country'] == list(c)[2]].index.tolist()\n",
    "index3"
   ]
  },
  {
   "cell_type": "code",
   "execution_count": 15,
   "metadata": {},
   "outputs": [],
   "source": [
    "df_nodes.loc[index3, ['Country']] = list(d)[2]"
   ]
  },
  {
   "cell_type": "code",
   "execution_count": 16,
   "metadata": {},
   "outputs": [
    {
     "data": {
      "text/plain": [
       "Country                                  Curaçao\n",
       "Region                                 Caribbean\n",
       "UN_Region        Latin America and The Caribbean\n",
       "Influenza2005                                  0\n",
       "Influenza2006                                  0\n",
       "Influenza2007                                  0\n",
       "Influenza2008                                  0\n",
       "Influenza2009                                  0\n",
       "Influenza2010                                  0\n",
       "Influenza2011                                  0\n",
       "Influenza2012                                  0\n",
       "Influenza2013                                  0\n",
       "Influenza2014                                  0\n",
       "Influenza2015                                  0\n",
       "Influenza2016                                  0\n",
       "Influenza2017                                  0\n",
       "Influenza2018                                  0\n",
       "Influenza2019                                  0\n",
       "Name: 11, dtype: object"
      ]
     },
     "execution_count": 16,
     "metadata": {},
     "output_type": "execute_result"
    }
   ],
   "source": [
    "df_nodes.iloc[11]"
   ]
  },
  {
   "cell_type": "markdown",
   "metadata": {},
   "source": [
    "## Export new nodes csv "
   ]
  },
  {
   "cell_type": "code",
   "execution_count": 17,
   "metadata": {},
   "outputs": [],
   "source": [
    "df_nodes.to_csv('CountryNodes_Influenza232_updated.csv', index=False)"
   ]
  },
  {
   "cell_type": "code",
   "execution_count": null,
   "metadata": {},
   "outputs": [],
   "source": []
  },
  {
   "cell_type": "code",
   "execution_count": null,
   "metadata": {},
   "outputs": [],
   "source": []
  },
  {
   "cell_type": "code",
   "execution_count": null,
   "metadata": {},
   "outputs": [],
   "source": []
  },
  {
   "cell_type": "code",
   "execution_count": null,
   "metadata": {},
   "outputs": [],
   "source": []
  },
  {
   "cell_type": "code",
   "execution_count": null,
   "metadata": {},
   "outputs": [],
   "source": []
  },
  {
   "cell_type": "code",
   "execution_count": null,
   "metadata": {},
   "outputs": [],
   "source": []
  },
  {
   "cell_type": "code",
   "execution_count": null,
   "metadata": {},
   "outputs": [],
   "source": []
  },
  {
   "cell_type": "code",
   "execution_count": null,
   "metadata": {},
   "outputs": [],
   "source": []
  }
 ],
 "metadata": {
  "kernelspec": {
   "display_name": "Python 3",
   "language": "python",
   "name": "python3"
  },
  "language_info": {
   "codemirror_mode": {
    "name": "ipython",
    "version": 3
   },
   "file_extension": ".py",
   "mimetype": "text/x-python",
   "name": "python",
   "nbconvert_exporter": "python",
   "pygments_lexer": "ipython3",
   "version": "3.6.5"
  }
 },
 "nbformat": 4,
 "nbformat_minor": 2
}
