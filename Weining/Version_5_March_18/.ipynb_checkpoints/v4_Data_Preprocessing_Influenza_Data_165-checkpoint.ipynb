{
 "cells": [
  {
   "cell_type": "code",
   "execution_count": 1,
   "metadata": {},
   "outputs": [],
   "source": [
    "import numpy as np\n",
    "import pandas as pd\n",
    "import matplotlib as plt\n",
    "%matplotlib inline\n",
    "\n",
    "import os\n",
    "import glob"
   ]
  },
  {
   "cell_type": "markdown",
   "metadata": {},
   "source": [
    "# Part I: Process influenza cases data\n",
    "## 1 Combine all csv files"
   ]
  },
  {
   "cell_type": "code",
   "execution_count": 2,
   "metadata": {},
   "outputs": [],
   "source": [
    "os.chdir(\"./Influenza_165\")"
   ]
  },
  {
   "cell_type": "code",
   "execution_count": 3,
   "metadata": {},
   "outputs": [],
   "source": [
    "# set extension\n",
    "extension = 'csv'\n",
    "all_filenames = [i for i in glob.glob('*.{}'.format(extension))]\n",
    "\n",
    "# combine all files in the list\n",
    "combined_csv = pd.concat([pd.read_csv(f, header = 2, engine=\"python\") for f in all_filenames], sort=False)\n",
    "\n",
    "# export to csv\n",
    "combined_csv.to_csv(\"a_combined_data.csv\", index=False, encoding='utf-8-sig')\n",
    "\n",
    "# reference: https://www.freecodecamp.org/news/how-to-combine-multiple-csv-files-with-8-lines-of-code-265183e0854/"
   ]
  },
  {
   "cell_type": "code",
   "execution_count": 4,
   "metadata": {},
   "outputs": [
    {
     "data": {
      "text/html": [
       "<div>\n",
       "<style scoped>\n",
       "    .dataframe tbody tr th:only-of-type {\n",
       "        vertical-align: middle;\n",
       "    }\n",
       "\n",
       "    .dataframe tbody tr th {\n",
       "        vertical-align: top;\n",
       "    }\n",
       "\n",
       "    .dataframe thead th {\n",
       "        text-align: right;\n",
       "    }\n",
       "</style>\n",
       "<table border=\"1\" class=\"dataframe\">\n",
       "  <thead>\n",
       "    <tr style=\"text-align: right;\">\n",
       "      <th></th>\n",
       "      <th>Country</th>\n",
       "      <th>WHOREGION</th>\n",
       "      <th>FLUREGION</th>\n",
       "      <th>Year</th>\n",
       "      <th>Week</th>\n",
       "      <th>SDATE</th>\n",
       "      <th>EDATE</th>\n",
       "      <th>SPEC_RECEIVED_NB</th>\n",
       "      <th>SPEC_PROCESSED_NB</th>\n",
       "      <th>AH1</th>\n",
       "      <th>...</th>\n",
       "      <th>AH5</th>\n",
       "      <th>ANOTSUBTYPED</th>\n",
       "      <th>INF_A</th>\n",
       "      <th>BYAMAGATA</th>\n",
       "      <th>BVICTORIA</th>\n",
       "      <th>BNOTDETERMINED</th>\n",
       "      <th>INF_B</th>\n",
       "      <th>ALL_INF</th>\n",
       "      <th>ALL_INF2</th>\n",
       "      <th>TITLE</th>\n",
       "    </tr>\n",
       "  </thead>\n",
       "  <tbody>\n",
       "    <tr>\n",
       "      <th>0</th>\n",
       "      <td>Afghanistan</td>\n",
       "      <td>Eastern Mediterranean Region of WHO</td>\n",
       "      <td>Southern Asia</td>\n",
       "      <td>2005</td>\n",
       "      <td>1</td>\n",
       "      <td>2005-01-03</td>\n",
       "      <td>2005-01-09</td>\n",
       "      <td>NaN</td>\n",
       "      <td>NaN</td>\n",
       "      <td>NaN</td>\n",
       "      <td>...</td>\n",
       "      <td>NaN</td>\n",
       "      <td>NaN</td>\n",
       "      <td>NaN</td>\n",
       "      <td>NaN</td>\n",
       "      <td>NaN</td>\n",
       "      <td>NaN</td>\n",
       "      <td>NaN</td>\n",
       "      <td>NaN</td>\n",
       "      <td>NaN</td>\n",
       "      <td>No Report</td>\n",
       "    </tr>\n",
       "    <tr>\n",
       "      <th>1</th>\n",
       "      <td>Afghanistan</td>\n",
       "      <td>Eastern Mediterranean Region of WHO</td>\n",
       "      <td>Southern Asia</td>\n",
       "      <td>2005</td>\n",
       "      <td>2</td>\n",
       "      <td>2005-01-10</td>\n",
       "      <td>2005-01-16</td>\n",
       "      <td>NaN</td>\n",
       "      <td>NaN</td>\n",
       "      <td>NaN</td>\n",
       "      <td>...</td>\n",
       "      <td>NaN</td>\n",
       "      <td>NaN</td>\n",
       "      <td>NaN</td>\n",
       "      <td>NaN</td>\n",
       "      <td>NaN</td>\n",
       "      <td>NaN</td>\n",
       "      <td>NaN</td>\n",
       "      <td>NaN</td>\n",
       "      <td>NaN</td>\n",
       "      <td>No Report</td>\n",
       "    </tr>\n",
       "    <tr>\n",
       "      <th>2</th>\n",
       "      <td>Afghanistan</td>\n",
       "      <td>Eastern Mediterranean Region of WHO</td>\n",
       "      <td>Southern Asia</td>\n",
       "      <td>2005</td>\n",
       "      <td>3</td>\n",
       "      <td>2005-01-17</td>\n",
       "      <td>2005-01-23</td>\n",
       "      <td>NaN</td>\n",
       "      <td>NaN</td>\n",
       "      <td>NaN</td>\n",
       "      <td>...</td>\n",
       "      <td>NaN</td>\n",
       "      <td>NaN</td>\n",
       "      <td>NaN</td>\n",
       "      <td>NaN</td>\n",
       "      <td>NaN</td>\n",
       "      <td>NaN</td>\n",
       "      <td>NaN</td>\n",
       "      <td>NaN</td>\n",
       "      <td>NaN</td>\n",
       "      <td>No Report</td>\n",
       "    </tr>\n",
       "    <tr>\n",
       "      <th>3</th>\n",
       "      <td>Afghanistan</td>\n",
       "      <td>Eastern Mediterranean Region of WHO</td>\n",
       "      <td>Southern Asia</td>\n",
       "      <td>2005</td>\n",
       "      <td>4</td>\n",
       "      <td>2005-01-24</td>\n",
       "      <td>2005-01-30</td>\n",
       "      <td>NaN</td>\n",
       "      <td>NaN</td>\n",
       "      <td>NaN</td>\n",
       "      <td>...</td>\n",
       "      <td>NaN</td>\n",
       "      <td>NaN</td>\n",
       "      <td>NaN</td>\n",
       "      <td>NaN</td>\n",
       "      <td>NaN</td>\n",
       "      <td>NaN</td>\n",
       "      <td>NaN</td>\n",
       "      <td>NaN</td>\n",
       "      <td>NaN</td>\n",
       "      <td>No Report</td>\n",
       "    </tr>\n",
       "    <tr>\n",
       "      <th>4</th>\n",
       "      <td>Afghanistan</td>\n",
       "      <td>Eastern Mediterranean Region of WHO</td>\n",
       "      <td>Southern Asia</td>\n",
       "      <td>2005</td>\n",
       "      <td>5</td>\n",
       "      <td>2005-01-31</td>\n",
       "      <td>2005-02-06</td>\n",
       "      <td>NaN</td>\n",
       "      <td>NaN</td>\n",
       "      <td>NaN</td>\n",
       "      <td>...</td>\n",
       "      <td>NaN</td>\n",
       "      <td>NaN</td>\n",
       "      <td>NaN</td>\n",
       "      <td>NaN</td>\n",
       "      <td>NaN</td>\n",
       "      <td>NaN</td>\n",
       "      <td>NaN</td>\n",
       "      <td>NaN</td>\n",
       "      <td>NaN</td>\n",
       "      <td>No Report</td>\n",
       "    </tr>\n",
       "  </tbody>\n",
       "</table>\n",
       "<p>5 rows × 22 columns</p>\n",
       "</div>"
      ],
      "text/plain": [
       "       Country                            WHOREGION      FLUREGION  Year  \\\n",
       "0  Afghanistan  Eastern Mediterranean Region of WHO  Southern Asia  2005   \n",
       "1  Afghanistan  Eastern Mediterranean Region of WHO  Southern Asia  2005   \n",
       "2  Afghanistan  Eastern Mediterranean Region of WHO  Southern Asia  2005   \n",
       "3  Afghanistan  Eastern Mediterranean Region of WHO  Southern Asia  2005   \n",
       "4  Afghanistan  Eastern Mediterranean Region of WHO  Southern Asia  2005   \n",
       "\n",
       "   Week       SDATE       EDATE  SPEC_RECEIVED_NB  SPEC_PROCESSED_NB  AH1  \\\n",
       "0     1  2005-01-03  2005-01-09               NaN                NaN  NaN   \n",
       "1     2  2005-01-10  2005-01-16               NaN                NaN  NaN   \n",
       "2     3  2005-01-17  2005-01-23               NaN                NaN  NaN   \n",
       "3     4  2005-01-24  2005-01-30               NaN                NaN  NaN   \n",
       "4     5  2005-01-31  2005-02-06               NaN                NaN  NaN   \n",
       "\n",
       "     ...      AH5  ANOTSUBTYPED  INF_A  BYAMAGATA  BVICTORIA  BNOTDETERMINED  \\\n",
       "0    ...      NaN           NaN    NaN        NaN        NaN             NaN   \n",
       "1    ...      NaN           NaN    NaN        NaN        NaN             NaN   \n",
       "2    ...      NaN           NaN    NaN        NaN        NaN             NaN   \n",
       "3    ...      NaN           NaN    NaN        NaN        NaN             NaN   \n",
       "4    ...      NaN           NaN    NaN        NaN        NaN             NaN   \n",
       "\n",
       "   INF_B  ALL_INF  ALL_INF2      TITLE  \n",
       "0    NaN      NaN       NaN  No Report  \n",
       "1    NaN      NaN       NaN  No Report  \n",
       "2    NaN      NaN       NaN  No Report  \n",
       "3    NaN      NaN       NaN  No Report  \n",
       "4    NaN      NaN       NaN  No Report  \n",
       "\n",
       "[5 rows x 22 columns]"
      ]
     },
     "execution_count": 4,
     "metadata": {},
     "output_type": "execute_result"
    }
   ],
   "source": [
    "# read df\n",
    "df = pd.read_csv(\"a_combined_data.csv\", header = 0, low_memory=False)\n",
    "df.head()"
   ]
  },
  {
   "cell_type": "code",
   "execution_count": 5,
   "metadata": {},
   "outputs": [
    {
     "data": {
      "text/plain": [
       "Index(['Country', 'WHOREGION', 'FLUREGION', 'Year', 'Week', 'SDATE', 'EDATE',\n",
       "       'SPEC_RECEIVED_NB', 'SPEC_PROCESSED_NB', 'AH1', 'AH1N12009', 'AH3',\n",
       "       'AH5', 'ANOTSUBTYPED', 'INF_A', 'BYAMAGATA', 'BVICTORIA',\n",
       "       'BNOTDETERMINED', 'INF_B', 'ALL_INF', 'ALL_INF2', 'TITLE'],\n",
       "      dtype='object')"
      ]
     },
     "execution_count": 5,
     "metadata": {},
     "output_type": "execute_result"
    }
   ],
   "source": [
    "df.columns"
   ]
  },
  {
   "cell_type": "markdown",
   "metadata": {},
   "source": [
    "## 2 Calculate the influenza cases by country and by year "
   ]
  },
  {
   "cell_type": "code",
   "execution_count": 6,
   "metadata": {},
   "outputs": [
    {
     "data": {
      "text/html": [
       "<div>\n",
       "<style scoped>\n",
       "    .dataframe tbody tr th:only-of-type {\n",
       "        vertical-align: middle;\n",
       "    }\n",
       "\n",
       "    .dataframe tbody tr th {\n",
       "        vertical-align: top;\n",
       "    }\n",
       "\n",
       "    .dataframe thead th {\n",
       "        text-align: right;\n",
       "    }\n",
       "</style>\n",
       "<table border=\"1\" class=\"dataframe\">\n",
       "  <thead>\n",
       "    <tr style=\"text-align: right;\">\n",
       "      <th></th>\n",
       "      <th>Country</th>\n",
       "      <th>Year</th>\n",
       "      <th>ALL_INF</th>\n",
       "    </tr>\n",
       "  </thead>\n",
       "  <tbody>\n",
       "    <tr>\n",
       "      <th>0</th>\n",
       "      <td>Afghanistan</td>\n",
       "      <td>2005</td>\n",
       "      <td>NaN</td>\n",
       "    </tr>\n",
       "    <tr>\n",
       "      <th>1</th>\n",
       "      <td>Afghanistan</td>\n",
       "      <td>2005</td>\n",
       "      <td>NaN</td>\n",
       "    </tr>\n",
       "  </tbody>\n",
       "</table>\n",
       "</div>"
      ],
      "text/plain": [
       "       Country  Year  ALL_INF\n",
       "0  Afghanistan  2005      NaN\n",
       "1  Afghanistan  2005      NaN"
      ]
     },
     "execution_count": 6,
     "metadata": {},
     "output_type": "execute_result"
    }
   ],
   "source": [
    "# subset only useful columns\n",
    "df = df[['Country', 'Year', 'ALL_INF']]\n",
    "df.head(2)"
   ]
  },
  {
   "cell_type": "code",
   "execution_count": 7,
   "metadata": {},
   "outputs": [
    {
     "data": {
      "text/html": [
       "<div>\n",
       "<style scoped>\n",
       "    .dataframe tbody tr th:only-of-type {\n",
       "        vertical-align: middle;\n",
       "    }\n",
       "\n",
       "    .dataframe tbody tr th {\n",
       "        vertical-align: top;\n",
       "    }\n",
       "\n",
       "    .dataframe thead th {\n",
       "        text-align: right;\n",
       "    }\n",
       "</style>\n",
       "<table border=\"1\" class=\"dataframe\">\n",
       "  <thead>\n",
       "    <tr style=\"text-align: right;\">\n",
       "      <th></th>\n",
       "      <th>Country</th>\n",
       "      <th>Year</th>\n",
       "      <th>ALL_INF</th>\n",
       "    </tr>\n",
       "  </thead>\n",
       "  <tbody>\n",
       "    <tr>\n",
       "      <th>0</th>\n",
       "      <td>Afghanistan</td>\n",
       "      <td>2005</td>\n",
       "      <td>0.0</td>\n",
       "    </tr>\n",
       "    <tr>\n",
       "      <th>1</th>\n",
       "      <td>Afghanistan</td>\n",
       "      <td>2005</td>\n",
       "      <td>0.0</td>\n",
       "    </tr>\n",
       "  </tbody>\n",
       "</table>\n",
       "</div>"
      ],
      "text/plain": [
       "       Country  Year  ALL_INF\n",
       "0  Afghanistan  2005      0.0\n",
       "1  Afghanistan  2005      0.0"
      ]
     },
     "execution_count": 7,
     "metadata": {},
     "output_type": "execute_result"
    }
   ],
   "source": [
    "df_orig = df.copy()\n",
    "df = df.fillna(0)\n",
    "df.head(2)"
   ]
  },
  {
   "cell_type": "code",
   "execution_count": 8,
   "metadata": {},
   "outputs": [
    {
     "data": {
      "text/html": [
       "<div>\n",
       "<style scoped>\n",
       "    .dataframe tbody tr th:only-of-type {\n",
       "        vertical-align: middle;\n",
       "    }\n",
       "\n",
       "    .dataframe tbody tr th {\n",
       "        vertical-align: top;\n",
       "    }\n",
       "\n",
       "    .dataframe thead th {\n",
       "        text-align: right;\n",
       "    }\n",
       "</style>\n",
       "<table border=\"1\" class=\"dataframe\">\n",
       "  <thead>\n",
       "    <tr style=\"text-align: right;\">\n",
       "      <th></th>\n",
       "      <th>Country</th>\n",
       "      <th>Year</th>\n",
       "      <th>ALL_INF</th>\n",
       "    </tr>\n",
       "  </thead>\n",
       "  <tbody>\n",
       "    <tr>\n",
       "      <th>0</th>\n",
       "      <td>Afghanistan</td>\n",
       "      <td>2005</td>\n",
       "      <td>0.0</td>\n",
       "    </tr>\n",
       "    <tr>\n",
       "      <th>1</th>\n",
       "      <td>Afghanistan</td>\n",
       "      <td>2006</td>\n",
       "      <td>0.0</td>\n",
       "    </tr>\n",
       "  </tbody>\n",
       "</table>\n",
       "</div>"
      ],
      "text/plain": [
       "       Country  Year  ALL_INF\n",
       "0  Afghanistan  2005      0.0\n",
       "1  Afghanistan  2006      0.0"
      ]
     },
     "execution_count": 8,
     "metadata": {},
     "output_type": "execute_result"
    }
   ],
   "source": [
    "# apply group by function to the dataframe\n",
    "df_allinf = df.groupby(['Country', 'Year'])['ALL_INF'].sum()\n",
    "df_allinf = pd.DataFrame(df_allinf).reset_index()\n",
    "df_allinf.head(2)"
   ]
  },
  {
   "cell_type": "code",
   "execution_count": 9,
   "metadata": {},
   "outputs": [
    {
     "data": {
      "text/plain": [
       "Country    False\n",
       "Year       False\n",
       "ALL_INF    False\n",
       "dtype: bool"
      ]
     },
     "execution_count": 9,
     "metadata": {},
     "output_type": "execute_result"
    }
   ],
   "source": [
    "df_allinf.isnull().any()"
   ]
  },
  {
   "cell_type": "code",
   "execution_count": 10,
   "metadata": {},
   "outputs": [
    {
     "data": {
      "text/html": [
       "<div>\n",
       "<style scoped>\n",
       "    .dataframe tbody tr th:only-of-type {\n",
       "        vertical-align: middle;\n",
       "    }\n",
       "\n",
       "    .dataframe tbody tr th {\n",
       "        vertical-align: top;\n",
       "    }\n",
       "\n",
       "    .dataframe thead th {\n",
       "        text-align: right;\n",
       "    }\n",
       "</style>\n",
       "<table border=\"1\" class=\"dataframe\">\n",
       "  <thead>\n",
       "    <tr style=\"text-align: right;\">\n",
       "      <th>Year</th>\n",
       "      <th>Country</th>\n",
       "      <th>Influenza2005</th>\n",
       "      <th>Influenza2006</th>\n",
       "      <th>Influenza2007</th>\n",
       "      <th>Influenza2008</th>\n",
       "      <th>Influenza2009</th>\n",
       "      <th>Influenza2010</th>\n",
       "      <th>Influenza2011</th>\n",
       "      <th>Influenza2012</th>\n",
       "      <th>Influenza2013</th>\n",
       "      <th>Influenza2014</th>\n",
       "      <th>Influenza2015</th>\n",
       "      <th>Influenza2016</th>\n",
       "      <th>Influenza2017</th>\n",
       "      <th>Influenza2018</th>\n",
       "      <th>Influenza2019</th>\n",
       "    </tr>\n",
       "  </thead>\n",
       "  <tbody>\n",
       "    <tr>\n",
       "      <th>0</th>\n",
       "      <td>Afghanistan</td>\n",
       "      <td>0.0</td>\n",
       "      <td>0.0</td>\n",
       "      <td>0.0</td>\n",
       "      <td>0.0</td>\n",
       "      <td>283.0</td>\n",
       "      <td>26.0</td>\n",
       "      <td>5.0</td>\n",
       "      <td>2.0</td>\n",
       "      <td>0.0</td>\n",
       "      <td>0.0</td>\n",
       "      <td>13.0</td>\n",
       "      <td>257.0</td>\n",
       "      <td>108.0</td>\n",
       "      <td>187.0</td>\n",
       "      <td>278.0</td>\n",
       "    </tr>\n",
       "    <tr>\n",
       "      <th>1</th>\n",
       "      <td>Albania</td>\n",
       "      <td>0.0</td>\n",
       "      <td>0.0</td>\n",
       "      <td>0.0</td>\n",
       "      <td>0.0</td>\n",
       "      <td>0.0</td>\n",
       "      <td>10.0</td>\n",
       "      <td>133.0</td>\n",
       "      <td>122.0</td>\n",
       "      <td>97.0</td>\n",
       "      <td>157.0</td>\n",
       "      <td>67.0</td>\n",
       "      <td>314.0</td>\n",
       "      <td>136.0</td>\n",
       "      <td>350.0</td>\n",
       "      <td>527.0</td>\n",
       "    </tr>\n",
       "  </tbody>\n",
       "</table>\n",
       "</div>"
      ],
      "text/plain": [
       "Year      Country  Influenza2005  Influenza2006  Influenza2007  Influenza2008  \\\n",
       "0     Afghanistan            0.0            0.0            0.0            0.0   \n",
       "1         Albania            0.0            0.0            0.0            0.0   \n",
       "\n",
       "Year  Influenza2009  Influenza2010  Influenza2011  Influenza2012  \\\n",
       "0             283.0           26.0            5.0            2.0   \n",
       "1               0.0           10.0          133.0          122.0   \n",
       "\n",
       "Year  Influenza2013  Influenza2014  Influenza2015  Influenza2016  \\\n",
       "0               0.0            0.0           13.0          257.0   \n",
       "1              97.0          157.0           67.0          314.0   \n",
       "\n",
       "Year  Influenza2017  Influenza2018  Influenza2019  \n",
       "0             108.0          187.0          278.0  \n",
       "1             136.0          350.0          527.0  "
      ]
     },
     "execution_count": 10,
     "metadata": {},
     "output_type": "execute_result"
    }
   ],
   "source": [
    "# Pivot table\n",
    "df_allinf = df_allinf.pivot(index = 'Country', columns = 'Year',\n",
    "                            values = 'ALL_INF').add_prefix('Influenza').reset_index()\n",
    "df_allinf.head(2)"
   ]
  },
  {
   "cell_type": "code",
   "execution_count": 11,
   "metadata": {},
   "outputs": [
    {
     "data": {
      "text/plain": [
       "165"
      ]
     },
     "execution_count": 11,
     "metadata": {},
     "output_type": "execute_result"
    }
   ],
   "source": [
    "len(df_allinf.Country.unique())"
   ]
  },
  {
   "cell_type": "code",
   "execution_count": 12,
   "metadata": {},
   "outputs": [
    {
     "data": {
      "text/plain": [
       "Year\n",
       "Country          False\n",
       "Influenza2005     True\n",
       "Influenza2006     True\n",
       "Influenza2007     True\n",
       "Influenza2008     True\n",
       "Influenza2009     True\n",
       "Influenza2010    False\n",
       "Influenza2011    False\n",
       "Influenza2012    False\n",
       "Influenza2013    False\n",
       "Influenza2014    False\n",
       "Influenza2015    False\n",
       "Influenza2016    False\n",
       "Influenza2017    False\n",
       "Influenza2018    False\n",
       "Influenza2019    False\n",
       "dtype: bool"
      ]
     },
     "execution_count": 12,
     "metadata": {},
     "output_type": "execute_result"
    }
   ],
   "source": [
    "df_allinf.isnull().any()"
   ]
  },
  {
   "cell_type": "code",
   "execution_count": 13,
   "metadata": {},
   "outputs": [],
   "source": [
    "#df_allinf[df_allinf['Influenza2009'].isnull()]"
   ]
  },
  {
   "cell_type": "code",
   "execution_count": 14,
   "metadata": {},
   "outputs": [
    {
     "data": {
      "text/plain": [
       "Year\n",
       "Country          False\n",
       "Influenza2005    False\n",
       "Influenza2006    False\n",
       "Influenza2007    False\n",
       "Influenza2008    False\n",
       "Influenza2009    False\n",
       "Influenza2010    False\n",
       "Influenza2011    False\n",
       "Influenza2012    False\n",
       "Influenza2013    False\n",
       "Influenza2014    False\n",
       "Influenza2015    False\n",
       "Influenza2016    False\n",
       "Influenza2017    False\n",
       "Influenza2018    False\n",
       "Influenza2019    False\n",
       "dtype: bool"
      ]
     },
     "execution_count": 14,
     "metadata": {},
     "output_type": "execute_result"
    }
   ],
   "source": [
    "df_allinf = df_allinf.fillna(0)\n",
    "df_allinf.isnull().any()"
   ]
  },
  {
   "cell_type": "code",
   "execution_count": 15,
   "metadata": {},
   "outputs": [
    {
     "data": {
      "text/plain": [
       "Year\n",
       "Country           object\n",
       "Influenza2005    float64\n",
       "Influenza2006    float64\n",
       "Influenza2007    float64\n",
       "Influenza2008    float64\n",
       "Influenza2009    float64\n",
       "Influenza2010    float64\n",
       "Influenza2011    float64\n",
       "Influenza2012    float64\n",
       "Influenza2013    float64\n",
       "Influenza2014    float64\n",
       "Influenza2015    float64\n",
       "Influenza2016    float64\n",
       "Influenza2017    float64\n",
       "Influenza2018    float64\n",
       "Influenza2019    float64\n",
       "dtype: object"
      ]
     },
     "execution_count": 15,
     "metadata": {},
     "output_type": "execute_result"
    }
   ],
   "source": [
    "df_allinf.dtypes"
   ]
  },
  {
   "cell_type": "markdown",
   "metadata": {},
   "source": [
    "## 3 Check"
   ]
  },
  {
   "cell_type": "code",
   "execution_count": 16,
   "metadata": {},
   "outputs": [],
   "source": [
    "# get country names from the country df\n",
    "country_list = df_allinf.Country.unique()"
   ]
  },
  {
   "cell_type": "code",
   "execution_count": 17,
   "metadata": {},
   "outputs": [],
   "source": [
    "arr = os.listdir()\n",
    "k = len(arr)\n",
    "arr_short = []\n",
    "for i in range(k):\n",
    "    name = arr[i][:-4]\n",
    "    arr_short.append(name)"
   ]
  },
  {
   "cell_type": "code",
   "execution_count": 18,
   "metadata": {},
   "outputs": [
    {
     "data": {
      "text/plain": [
       "{\"Côte d'Ivoire\",\n",
       " \"Dem. People's Republic of Korea\",\n",
       " 'Turks and Caicos Islands',\n",
       " 'a_combined_data'}"
      ]
     },
     "execution_count": 18,
     "metadata": {},
     "output_type": "execute_result"
    }
   ],
   "source": [
    "a = set(arr_short)\n",
    "b = set(country_list)\n",
    "diff = a.difference(b)\n",
    "diff"
   ]
  },
  {
   "cell_type": "markdown",
   "metadata": {},
   "source": [
    " "
   ]
  },
  {
   "cell_type": "code",
   "execution_count": null,
   "metadata": {},
   "outputs": [],
   "source": []
  },
  {
   "cell_type": "markdown",
   "metadata": {},
   "source": [
    "# Part II: Merge with CountryNodes csv\n",
    "## 1 unify country names"
   ]
  },
  {
   "cell_type": "code",
   "execution_count": 19,
   "metadata": {},
   "outputs": [
    {
     "data": {
      "text/html": [
       "<div>\n",
       "<style scoped>\n",
       "    .dataframe tbody tr th:only-of-type {\n",
       "        vertical-align: middle;\n",
       "    }\n",
       "\n",
       "    .dataframe tbody tr th {\n",
       "        vertical-align: top;\n",
       "    }\n",
       "\n",
       "    .dataframe thead th {\n",
       "        text-align: right;\n",
       "    }\n",
       "</style>\n",
       "<table border=\"1\" class=\"dataframe\">\n",
       "  <thead>\n",
       "    <tr style=\"text-align: right;\">\n",
       "      <th></th>\n",
       "      <th>Country</th>\n",
       "      <th>Region</th>\n",
       "      <th>UN_Region</th>\n",
       "    </tr>\n",
       "  </thead>\n",
       "  <tbody>\n",
       "    <tr>\n",
       "      <th>0</th>\n",
       "      <td>Australia</td>\n",
       "      <td>Australia New Zealand</td>\n",
       "      <td>Oceania</td>\n",
       "    </tr>\n",
       "    <tr>\n",
       "      <th>1</th>\n",
       "      <td>New Zealand</td>\n",
       "      <td>Australia New Zealand</td>\n",
       "      <td>Oceania</td>\n",
       "    </tr>\n",
       "    <tr>\n",
       "      <th>2</th>\n",
       "      <td>Anguilla</td>\n",
       "      <td>Caribbean</td>\n",
       "      <td>Latin America and The Caribbean</td>\n",
       "    </tr>\n",
       "  </tbody>\n",
       "</table>\n",
       "</div>"
      ],
      "text/plain": [
       "       Country                 Region                        UN_Region\n",
       "0    Australia  Australia New Zealand                          Oceania\n",
       "1  New Zealand  Australia New Zealand                          Oceania\n",
       "2     Anguilla              Caribbean  Latin America and The Caribbean"
      ]
     },
     "execution_count": 19,
     "metadata": {},
     "output_type": "execute_result"
    }
   ],
   "source": [
    "path = \"C:/Users/Winnie/Documents/NeilJohnson/Migration/Version_3_March_5/\"\n",
    "df_cn = pd.read_csv(path + 'CountryNodes_All.csv')\n",
    "df_cn.head(3)"
   ]
  },
  {
   "cell_type": "code",
   "execution_count": 20,
   "metadata": {},
   "outputs": [],
   "source": [
    "# replace names in df_allinf\n",
    "df_allinf_unified = df_allinf.replace({\"United Kingdom of Great Britain and Northern Ireland\": \"United Kingdom\",\n",
    "                  \"Lao People's Democratic Republic\": \"Lao People's Democratic Republic\",\n",
    "                  \"Turks and Caicos is.\": \"Turks and Caicos Islands\",\n",
    "                  \"Democratic People's Republic of Korea\": \"Dem. People's Republic of Korea\"})\n"
   ]
  },
  {
   "cell_type": "code",
   "execution_count": 21,
   "metadata": {},
   "outputs": [
    {
     "data": {
      "text/plain": [
       "Year\n",
       "Country          Turks and Caicos Is.\n",
       "Influenza2005                       0\n",
       "Influenza2006                       0\n",
       "Influenza2007                       0\n",
       "Influenza2008                       0\n",
       "Influenza2009                       0\n",
       "Influenza2010                       0\n",
       "Influenza2011                       0\n",
       "Influenza2012                       0\n",
       "Influenza2013                       0\n",
       "Influenza2014                       0\n",
       "Influenza2015                       0\n",
       "Influenza2016                       0\n",
       "Influenza2017                       0\n",
       "Influenza2018                       0\n",
       "Influenza2019                      12\n",
       "Name: 153, dtype: object"
      ]
     },
     "execution_count": 21,
     "metadata": {},
     "output_type": "execute_result"
    }
   ],
   "source": [
    "# check\n",
    "df_allinf_unified.iloc[153]\n",
    "\n",
    "# The following results show that Turks and Caicos Is.'s name has not been changed yet"
   ]
  },
  {
   "cell_type": "code",
   "execution_count": 22,
   "metadata": {},
   "outputs": [
    {
     "data": {
      "text/plain": [
       "Year\n",
       "Country          Turks and Caicos Islands\n",
       "Influenza2005                           0\n",
       "Influenza2006                           0\n",
       "Influenza2007                           0\n",
       "Influenza2008                           0\n",
       "Influenza2009                           0\n",
       "Influenza2010                           0\n",
       "Influenza2011                           0\n",
       "Influenza2012                           0\n",
       "Influenza2013                           0\n",
       "Influenza2014                           0\n",
       "Influenza2015                           0\n",
       "Influenza2016                           0\n",
       "Influenza2017                           0\n",
       "Influenza2018                           0\n",
       "Influenza2019                          12\n",
       "Name: 153, dtype: object"
      ]
     },
     "execution_count": 22,
     "metadata": {},
     "output_type": "execute_result"
    }
   ],
   "source": [
    "# change name by hand\n",
    "df_allinf_unified.at[153, 'Country'] = \"Turks and Caicos Islands\"\n",
    "df_allinf_unified.iloc[153]"
   ]
  },
  {
   "cell_type": "markdown",
   "metadata": {},
   "source": [
    "## 2 Merge 2 dfs"
   ]
  },
  {
   "cell_type": "code",
   "execution_count": 23,
   "metadata": {},
   "outputs": [
    {
     "data": {
      "text/html": [
       "<div>\n",
       "<style scoped>\n",
       "    .dataframe tbody tr th:only-of-type {\n",
       "        vertical-align: middle;\n",
       "    }\n",
       "\n",
       "    .dataframe tbody tr th {\n",
       "        vertical-align: top;\n",
       "    }\n",
       "\n",
       "    .dataframe thead th {\n",
       "        text-align: right;\n",
       "    }\n",
       "</style>\n",
       "<table border=\"1\" class=\"dataframe\">\n",
       "  <thead>\n",
       "    <tr style=\"text-align: right;\">\n",
       "      <th></th>\n",
       "      <th>Country</th>\n",
       "      <th>Region</th>\n",
       "      <th>UN_Region</th>\n",
       "      <th>Influenza2005</th>\n",
       "      <th>Influenza2006</th>\n",
       "      <th>Influenza2007</th>\n",
       "      <th>Influenza2008</th>\n",
       "      <th>Influenza2009</th>\n",
       "      <th>Influenza2010</th>\n",
       "      <th>Influenza2011</th>\n",
       "      <th>Influenza2012</th>\n",
       "      <th>Influenza2013</th>\n",
       "      <th>Influenza2014</th>\n",
       "      <th>Influenza2015</th>\n",
       "      <th>Influenza2016</th>\n",
       "      <th>Influenza2017</th>\n",
       "      <th>Influenza2018</th>\n",
       "      <th>Influenza2019</th>\n",
       "    </tr>\n",
       "  </thead>\n",
       "  <tbody>\n",
       "    <tr>\n",
       "      <th>0</th>\n",
       "      <td>Australia</td>\n",
       "      <td>Australia New Zealand</td>\n",
       "      <td>Oceania</td>\n",
       "      <td>712.0</td>\n",
       "      <td>259.0</td>\n",
       "      <td>1355.0</td>\n",
       "      <td>768.0</td>\n",
       "      <td>5107.0</td>\n",
       "      <td>1252.0</td>\n",
       "      <td>2040.0</td>\n",
       "      <td>4798.0</td>\n",
       "      <td>2002.0</td>\n",
       "      <td>3473.0</td>\n",
       "      <td>3622.0</td>\n",
       "      <td>6705.0</td>\n",
       "      <td>10509.0</td>\n",
       "      <td>4264.0</td>\n",
       "      <td>14002.0</td>\n",
       "    </tr>\n",
       "    <tr>\n",
       "      <th>1</th>\n",
       "      <td>New Zealand</td>\n",
       "      <td>Australia New Zealand</td>\n",
       "      <td>Oceania</td>\n",
       "      <td>269.0</td>\n",
       "      <td>285.0</td>\n",
       "      <td>207.0</td>\n",
       "      <td>548.0</td>\n",
       "      <td>1542.0</td>\n",
       "      <td>326.0</td>\n",
       "      <td>1218.0</td>\n",
       "      <td>2261.0</td>\n",
       "      <td>2185.0</td>\n",
       "      <td>3418.0</td>\n",
       "      <td>5102.0</td>\n",
       "      <td>294.0</td>\n",
       "      <td>945.0</td>\n",
       "      <td>475.0</td>\n",
       "      <td>957.0</td>\n",
       "    </tr>\n",
       "    <tr>\n",
       "      <th>2</th>\n",
       "      <td>Anguilla</td>\n",
       "      <td>Caribbean</td>\n",
       "      <td>Latin America and The Caribbean</td>\n",
       "      <td>0.0</td>\n",
       "      <td>0.0</td>\n",
       "      <td>0.0</td>\n",
       "      <td>0.0</td>\n",
       "      <td>0.0</td>\n",
       "      <td>0.0</td>\n",
       "      <td>0.0</td>\n",
       "      <td>0.0</td>\n",
       "      <td>0.0</td>\n",
       "      <td>0.0</td>\n",
       "      <td>0.0</td>\n",
       "      <td>0.0</td>\n",
       "      <td>1.0</td>\n",
       "      <td>1.0</td>\n",
       "      <td>2.0</td>\n",
       "    </tr>\n",
       "    <tr>\n",
       "      <th>3</th>\n",
       "      <td>Antigua and Barbuda</td>\n",
       "      <td>Caribbean</td>\n",
       "      <td>Latin America and The Caribbean</td>\n",
       "      <td>0.0</td>\n",
       "      <td>0.0</td>\n",
       "      <td>0.0</td>\n",
       "      <td>0.0</td>\n",
       "      <td>0.0</td>\n",
       "      <td>0.0</td>\n",
       "      <td>0.0</td>\n",
       "      <td>0.0</td>\n",
       "      <td>0.0</td>\n",
       "      <td>0.0</td>\n",
       "      <td>0.0</td>\n",
       "      <td>0.0</td>\n",
       "      <td>0.0</td>\n",
       "      <td>1.0</td>\n",
       "      <td>0.0</td>\n",
       "    </tr>\n",
       "    <tr>\n",
       "      <th>4</th>\n",
       "      <td>Aruba</td>\n",
       "      <td>Caribbean</td>\n",
       "      <td>Latin America and The Caribbean</td>\n",
       "      <td>0.0</td>\n",
       "      <td>0.0</td>\n",
       "      <td>0.0</td>\n",
       "      <td>0.0</td>\n",
       "      <td>0.0</td>\n",
       "      <td>0.0</td>\n",
       "      <td>0.0</td>\n",
       "      <td>0.0</td>\n",
       "      <td>0.0</td>\n",
       "      <td>0.0</td>\n",
       "      <td>0.0</td>\n",
       "      <td>0.0</td>\n",
       "      <td>52.0</td>\n",
       "      <td>62.0</td>\n",
       "      <td>166.0</td>\n",
       "    </tr>\n",
       "  </tbody>\n",
       "</table>\n",
       "</div>"
      ],
      "text/plain": [
       "               Country                 Region  \\\n",
       "0            Australia  Australia New Zealand   \n",
       "1          New Zealand  Australia New Zealand   \n",
       "2             Anguilla              Caribbean   \n",
       "3  Antigua and Barbuda              Caribbean   \n",
       "4                Aruba              Caribbean   \n",
       "\n",
       "                         UN_Region  Influenza2005  Influenza2006  \\\n",
       "0                          Oceania          712.0          259.0   \n",
       "1                          Oceania          269.0          285.0   \n",
       "2  Latin America and The Caribbean            0.0            0.0   \n",
       "3  Latin America and The Caribbean            0.0            0.0   \n",
       "4  Latin America and The Caribbean            0.0            0.0   \n",
       "\n",
       "   Influenza2007  Influenza2008  Influenza2009  Influenza2010  Influenza2011  \\\n",
       "0         1355.0          768.0         5107.0         1252.0         2040.0   \n",
       "1          207.0          548.0         1542.0          326.0         1218.0   \n",
       "2            0.0            0.0            0.0            0.0            0.0   \n",
       "3            0.0            0.0            0.0            0.0            0.0   \n",
       "4            0.0            0.0            0.0            0.0            0.0   \n",
       "\n",
       "   Influenza2012  Influenza2013  Influenza2014  Influenza2015  Influenza2016  \\\n",
       "0         4798.0         2002.0         3473.0         3622.0         6705.0   \n",
       "1         2261.0         2185.0         3418.0         5102.0          294.0   \n",
       "2            0.0            0.0            0.0            0.0            0.0   \n",
       "3            0.0            0.0            0.0            0.0            0.0   \n",
       "4            0.0            0.0            0.0            0.0            0.0   \n",
       "\n",
       "   Influenza2017  Influenza2018  Influenza2019  \n",
       "0        10509.0         4264.0        14002.0  \n",
       "1          945.0          475.0          957.0  \n",
       "2            1.0            1.0            2.0  \n",
       "3            0.0            1.0            0.0  \n",
       "4           52.0           62.0          166.0  "
      ]
     },
     "execution_count": 23,
     "metadata": {},
     "output_type": "execute_result"
    }
   ],
   "source": [
    "# merge\n",
    "df_merge = pd.merge(df_cn, df_allinf_unified, how = 'left', \n",
    "                    left_on = 'Country', right_on = 'Country').fillna(0)\n",
    "df_merge.head()"
   ]
  },
  {
   "cell_type": "code",
   "execution_count": 24,
   "metadata": {},
   "outputs": [
    {
     "data": {
      "text/html": [
       "<div>\n",
       "<style scoped>\n",
       "    .dataframe tbody tr th:only-of-type {\n",
       "        vertical-align: middle;\n",
       "    }\n",
       "\n",
       "    .dataframe tbody tr th {\n",
       "        vertical-align: top;\n",
       "    }\n",
       "\n",
       "    .dataframe thead th {\n",
       "        text-align: right;\n",
       "    }\n",
       "</style>\n",
       "<table border=\"1\" class=\"dataframe\">\n",
       "  <thead>\n",
       "    <tr style=\"text-align: right;\">\n",
       "      <th></th>\n",
       "      <th>Country</th>\n",
       "      <th>Region</th>\n",
       "      <th>UN_Region</th>\n",
       "      <th>Influenza2005</th>\n",
       "      <th>Influenza2006</th>\n",
       "      <th>Influenza2007</th>\n",
       "      <th>Influenza2008</th>\n",
       "      <th>Influenza2009</th>\n",
       "      <th>Influenza2010</th>\n",
       "      <th>Influenza2011</th>\n",
       "      <th>Influenza2012</th>\n",
       "      <th>Influenza2013</th>\n",
       "      <th>Influenza2014</th>\n",
       "      <th>Influenza2015</th>\n",
       "      <th>Influenza2016</th>\n",
       "      <th>Influenza2017</th>\n",
       "      <th>Influenza2018</th>\n",
       "      <th>Influenza2019</th>\n",
       "    </tr>\n",
       "  </thead>\n",
       "  <tbody>\n",
       "    <tr>\n",
       "      <th>0</th>\n",
       "      <td>Australia</td>\n",
       "      <td>Australia New Zealand</td>\n",
       "      <td>Oceania</td>\n",
       "      <td>712.0</td>\n",
       "      <td>259.0</td>\n",
       "      <td>1355.0</td>\n",
       "      <td>768.0</td>\n",
       "      <td>5107.0</td>\n",
       "      <td>1252.0</td>\n",
       "      <td>2040.0</td>\n",
       "      <td>4798.0</td>\n",
       "      <td>2002.0</td>\n",
       "      <td>3473.0</td>\n",
       "      <td>3622.0</td>\n",
       "      <td>6705.0</td>\n",
       "      <td>10509.0</td>\n",
       "      <td>4264.0</td>\n",
       "      <td>14002.0</td>\n",
       "    </tr>\n",
       "    <tr>\n",
       "      <th>1</th>\n",
       "      <td>New Zealand</td>\n",
       "      <td>Australia New Zealand</td>\n",
       "      <td>Oceania</td>\n",
       "      <td>269.0</td>\n",
       "      <td>285.0</td>\n",
       "      <td>207.0</td>\n",
       "      <td>548.0</td>\n",
       "      <td>1542.0</td>\n",
       "      <td>326.0</td>\n",
       "      <td>1218.0</td>\n",
       "      <td>2261.0</td>\n",
       "      <td>2185.0</td>\n",
       "      <td>3418.0</td>\n",
       "      <td>5102.0</td>\n",
       "      <td>294.0</td>\n",
       "      <td>945.0</td>\n",
       "      <td>475.0</td>\n",
       "      <td>957.0</td>\n",
       "    </tr>\n",
       "  </tbody>\n",
       "</table>\n",
       "</div>"
      ],
      "text/plain": [
       "       Country                 Region UN_Region  Influenza2005  Influenza2006  \\\n",
       "0    Australia  Australia New Zealand   Oceania          712.0          259.0   \n",
       "1  New Zealand  Australia New Zealand   Oceania          269.0          285.0   \n",
       "\n",
       "   Influenza2007  Influenza2008  Influenza2009  Influenza2010  Influenza2011  \\\n",
       "0         1355.0          768.0         5107.0         1252.0         2040.0   \n",
       "1          207.0          548.0         1542.0          326.0         1218.0   \n",
       "\n",
       "   Influenza2012  Influenza2013  Influenza2014  Influenza2015  Influenza2016  \\\n",
       "0         4798.0         2002.0         3473.0         3622.0         6705.0   \n",
       "1         2261.0         2185.0         3418.0         5102.0          294.0   \n",
       "\n",
       "   Influenza2017  Influenza2018  Influenza2019  \n",
       "0        10509.0         4264.0        14002.0  \n",
       "1          945.0          475.0          957.0  "
      ]
     },
     "execution_count": 24,
     "metadata": {},
     "output_type": "execute_result"
    }
   ],
   "source": [
    "df_merge.head(2)"
   ]
  },
  {
   "cell_type": "code",
   "execution_count": 25,
   "metadata": {},
   "outputs": [
    {
     "data": {
      "text/plain": [
       "0"
      ]
     },
     "execution_count": 25,
     "metadata": {},
     "output_type": "execute_result"
    }
   ],
   "source": [
    "df_merge.isnull().sum().sum()"
   ]
  },
  {
   "cell_type": "markdown",
   "metadata": {},
   "source": [
    "## 3 Export csv files "
   ]
  },
  {
   "cell_type": "markdown",
   "metadata": {},
   "source": [
    "### 3.1 232 countries "
   ]
  },
  {
   "cell_type": "code",
   "execution_count": 26,
   "metadata": {},
   "outputs": [],
   "source": [
    "# export csv files for 232 countres\n",
    "df_merge.to_csv(path + 'CountryNodes_Influenza232.csv', index=False)"
   ]
  },
  {
   "cell_type": "code",
   "execution_count": 27,
   "metadata": {},
   "outputs": [
    {
     "data": {
      "text/html": [
       "<div>\n",
       "<style scoped>\n",
       "    .dataframe tbody tr th:only-of-type {\n",
       "        vertical-align: middle;\n",
       "    }\n",
       "\n",
       "    .dataframe tbody tr th {\n",
       "        vertical-align: top;\n",
       "    }\n",
       "\n",
       "    .dataframe thead th {\n",
       "        text-align: right;\n",
       "    }\n",
       "</style>\n",
       "<table border=\"1\" class=\"dataframe\">\n",
       "  <thead>\n",
       "    <tr style=\"text-align: right;\">\n",
       "      <th></th>\n",
       "      <th>Country</th>\n",
       "      <th>Region</th>\n",
       "      <th>UN_Region</th>\n",
       "      <th>Influenza2005</th>\n",
       "      <th>Influenza2006</th>\n",
       "      <th>Influenza2007</th>\n",
       "      <th>Influenza2008</th>\n",
       "      <th>Influenza2009</th>\n",
       "      <th>Influenza2010</th>\n",
       "      <th>Influenza2011</th>\n",
       "      <th>Influenza2012</th>\n",
       "      <th>Influenza2013</th>\n",
       "      <th>Influenza2014</th>\n",
       "      <th>Influenza2015</th>\n",
       "      <th>Influenza2016</th>\n",
       "      <th>Influenza2017</th>\n",
       "      <th>Influenza2018</th>\n",
       "      <th>Influenza2019</th>\n",
       "    </tr>\n",
       "  </thead>\n",
       "  <tbody>\n",
       "    <tr>\n",
       "      <th>0</th>\n",
       "      <td>Australia</td>\n",
       "      <td>Australia New Zealand</td>\n",
       "      <td>Oceania</td>\n",
       "      <td>712.0</td>\n",
       "      <td>259.0</td>\n",
       "      <td>1355.0</td>\n",
       "      <td>768.0</td>\n",
       "      <td>5107.0</td>\n",
       "      <td>1252.0</td>\n",
       "      <td>2040.0</td>\n",
       "      <td>4798.0</td>\n",
       "      <td>2002.0</td>\n",
       "      <td>3473.0</td>\n",
       "      <td>3622.0</td>\n",
       "      <td>6705.0</td>\n",
       "      <td>10509.0</td>\n",
       "      <td>4264.0</td>\n",
       "      <td>14002.0</td>\n",
       "    </tr>\n",
       "    <tr>\n",
       "      <th>1</th>\n",
       "      <td>New Zealand</td>\n",
       "      <td>Australia New Zealand</td>\n",
       "      <td>Oceania</td>\n",
       "      <td>269.0</td>\n",
       "      <td>285.0</td>\n",
       "      <td>207.0</td>\n",
       "      <td>548.0</td>\n",
       "      <td>1542.0</td>\n",
       "      <td>326.0</td>\n",
       "      <td>1218.0</td>\n",
       "      <td>2261.0</td>\n",
       "      <td>2185.0</td>\n",
       "      <td>3418.0</td>\n",
       "      <td>5102.0</td>\n",
       "      <td>294.0</td>\n",
       "      <td>945.0</td>\n",
       "      <td>475.0</td>\n",
       "      <td>957.0</td>\n",
       "    </tr>\n",
       "  </tbody>\n",
       "</table>\n",
       "</div>"
      ],
      "text/plain": [
       "       Country                 Region UN_Region  Influenza2005  Influenza2006  \\\n",
       "0    Australia  Australia New Zealand   Oceania          712.0          259.0   \n",
       "1  New Zealand  Australia New Zealand   Oceania          269.0          285.0   \n",
       "\n",
       "   Influenza2007  Influenza2008  Influenza2009  Influenza2010  Influenza2011  \\\n",
       "0         1355.0          768.0         5107.0         1252.0         2040.0   \n",
       "1          207.0          548.0         1542.0          326.0         1218.0   \n",
       "\n",
       "   Influenza2012  Influenza2013  Influenza2014  Influenza2015  Influenza2016  \\\n",
       "0         4798.0         2002.0         3473.0         3622.0         6705.0   \n",
       "1         2261.0         2185.0         3418.0         5102.0          294.0   \n",
       "\n",
       "   Influenza2017  Influenza2018  Influenza2019  \n",
       "0        10509.0         4264.0        14002.0  \n",
       "1          945.0          475.0          957.0  "
      ]
     },
     "execution_count": 27,
     "metadata": {},
     "output_type": "execute_result"
    }
   ],
   "source": [
    "df_merge.head(2)"
   ]
  },
  {
   "cell_type": "markdown",
   "metadata": {},
   "source": [
    "### 3.2 165 countries "
   ]
  },
  {
   "cell_type": "code",
   "execution_count": 28,
   "metadata": {},
   "outputs": [
    {
     "data": {
      "text/html": [
       "<div>\n",
       "<style scoped>\n",
       "    .dataframe tbody tr th:only-of-type {\n",
       "        vertical-align: middle;\n",
       "    }\n",
       "\n",
       "    .dataframe tbody tr th {\n",
       "        vertical-align: top;\n",
       "    }\n",
       "\n",
       "    .dataframe thead th {\n",
       "        text-align: right;\n",
       "    }\n",
       "</style>\n",
       "<table border=\"1\" class=\"dataframe\">\n",
       "  <thead>\n",
       "    <tr style=\"text-align: right;\">\n",
       "      <th></th>\n",
       "      <th>Country</th>\n",
       "      <th>Influenza2005</th>\n",
       "      <th>Influenza2006</th>\n",
       "      <th>Influenza2007</th>\n",
       "      <th>Influenza2008</th>\n",
       "      <th>Influenza2009</th>\n",
       "      <th>Influenza2010</th>\n",
       "      <th>Influenza2011</th>\n",
       "      <th>Influenza2012</th>\n",
       "      <th>Influenza2013</th>\n",
       "      <th>Influenza2014</th>\n",
       "      <th>Influenza2015</th>\n",
       "      <th>Influenza2016</th>\n",
       "      <th>Influenza2017</th>\n",
       "      <th>Influenza2018</th>\n",
       "      <th>Influenza2019</th>\n",
       "      <th>Region</th>\n",
       "      <th>UN_Region</th>\n",
       "    </tr>\n",
       "  </thead>\n",
       "  <tbody>\n",
       "    <tr>\n",
       "      <th>163</th>\n",
       "      <td>Yemen</td>\n",
       "      <td>0.0</td>\n",
       "      <td>0.0</td>\n",
       "      <td>0.0</td>\n",
       "      <td>0.0</td>\n",
       "      <td>0.0</td>\n",
       "      <td>0.0</td>\n",
       "      <td>0.0</td>\n",
       "      <td>0.0</td>\n",
       "      <td>0.0</td>\n",
       "      <td>0.0</td>\n",
       "      <td>0.0</td>\n",
       "      <td>0.0</td>\n",
       "      <td>0.0</td>\n",
       "      <td>0.0</td>\n",
       "      <td>239.0</td>\n",
       "      <td>Western Asia</td>\n",
       "      <td>Northern Africa and Western Asia</td>\n",
       "    </tr>\n",
       "    <tr>\n",
       "      <th>164</th>\n",
       "      <td>Zambia</td>\n",
       "      <td>0.0</td>\n",
       "      <td>0.0</td>\n",
       "      <td>0.0</td>\n",
       "      <td>0.0</td>\n",
       "      <td>0.0</td>\n",
       "      <td>61.0</td>\n",
       "      <td>76.0</td>\n",
       "      <td>137.0</td>\n",
       "      <td>115.0</td>\n",
       "      <td>82.0</td>\n",
       "      <td>163.0</td>\n",
       "      <td>166.0</td>\n",
       "      <td>154.0</td>\n",
       "      <td>391.0</td>\n",
       "      <td>426.0</td>\n",
       "      <td>Eastern Africa</td>\n",
       "      <td>Sub_Saharan Arica</td>\n",
       "    </tr>\n",
       "  </tbody>\n",
       "</table>\n",
       "</div>"
      ],
      "text/plain": [
       "    Country  Influenza2005  Influenza2006  Influenza2007  Influenza2008  \\\n",
       "163   Yemen            0.0            0.0            0.0            0.0   \n",
       "164  Zambia            0.0            0.0            0.0            0.0   \n",
       "\n",
       "     Influenza2009  Influenza2010  Influenza2011  Influenza2012  \\\n",
       "163            0.0            0.0            0.0            0.0   \n",
       "164            0.0           61.0           76.0          137.0   \n",
       "\n",
       "     Influenza2013  Influenza2014  Influenza2015  Influenza2016  \\\n",
       "163            0.0            0.0            0.0            0.0   \n",
       "164          115.0           82.0          163.0          166.0   \n",
       "\n",
       "     Influenza2017  Influenza2018  Influenza2019          Region  \\\n",
       "163            0.0            0.0          239.0    Western Asia   \n",
       "164          154.0          391.0          426.0  Eastern Africa   \n",
       "\n",
       "                            UN_Region  \n",
       "163  Northern Africa and Western Asia  \n",
       "164                 Sub_Saharan Arica  "
      ]
     },
     "execution_count": 28,
     "metadata": {},
     "output_type": "execute_result"
    }
   ],
   "source": [
    "# export csv files for 165 countries\n",
    "df_merge_165 = pd.merge(df_allinf_unified, df_cn, how = 'left', \n",
    "                    left_on = 'Country', right_on = 'Country').fillna(0)\n",
    "df_merge_165.tail(2)"
   ]
  },
  {
   "cell_type": "code",
   "execution_count": 29,
   "metadata": {},
   "outputs": [
    {
     "data": {
      "text/plain": [
       "165"
      ]
     },
     "execution_count": 29,
     "metadata": {},
     "output_type": "execute_result"
    }
   ],
   "source": [
    "len(df_merge_165.Country)"
   ]
  },
  {
   "cell_type": "code",
   "execution_count": 30,
   "metadata": {},
   "outputs": [
    {
     "data": {
      "text/plain": [
       "['Country',\n",
       " 'Region',\n",
       " 'UN_Region',\n",
       " 'Influenza2005',\n",
       " 'Influenza2006',\n",
       " 'Influenza2007',\n",
       " 'Influenza2008',\n",
       " 'Influenza2009',\n",
       " 'Influenza2010',\n",
       " 'Influenza2011',\n",
       " 'Influenza2012',\n",
       " 'Influenza2013',\n",
       " 'Influenza2014',\n",
       " 'Influenza2015',\n",
       " 'Influenza2016',\n",
       " 'Influenza2017',\n",
       " 'Influenza2018',\n",
       " 'Influenza2019']"
      ]
     },
     "execution_count": 30,
     "metadata": {},
     "output_type": "execute_result"
    }
   ],
   "source": [
    "# move region and UN_region up to the front\n",
    "cols = df_merge_165.columns.tolist()\n",
    "cols = cols[:1] + cols[-2:] + cols[1:-2]\n",
    "cols"
   ]
  },
  {
   "cell_type": "code",
   "execution_count": 31,
   "metadata": {},
   "outputs": [
    {
     "data": {
      "text/html": [
       "<div>\n",
       "<style scoped>\n",
       "    .dataframe tbody tr th:only-of-type {\n",
       "        vertical-align: middle;\n",
       "    }\n",
       "\n",
       "    .dataframe tbody tr th {\n",
       "        vertical-align: top;\n",
       "    }\n",
       "\n",
       "    .dataframe thead th {\n",
       "        text-align: right;\n",
       "    }\n",
       "</style>\n",
       "<table border=\"1\" class=\"dataframe\">\n",
       "  <thead>\n",
       "    <tr style=\"text-align: right;\">\n",
       "      <th></th>\n",
       "      <th>Country</th>\n",
       "      <th>Region</th>\n",
       "      <th>UN_Region</th>\n",
       "      <th>Influenza2005</th>\n",
       "      <th>Influenza2006</th>\n",
       "      <th>Influenza2007</th>\n",
       "      <th>Influenza2008</th>\n",
       "      <th>Influenza2009</th>\n",
       "      <th>Influenza2010</th>\n",
       "      <th>Influenza2011</th>\n",
       "      <th>Influenza2012</th>\n",
       "      <th>Influenza2013</th>\n",
       "      <th>Influenza2014</th>\n",
       "      <th>Influenza2015</th>\n",
       "      <th>Influenza2016</th>\n",
       "      <th>Influenza2017</th>\n",
       "      <th>Influenza2018</th>\n",
       "      <th>Influenza2019</th>\n",
       "    </tr>\n",
       "  </thead>\n",
       "  <tbody>\n",
       "    <tr>\n",
       "      <th>0</th>\n",
       "      <td>Afghanistan</td>\n",
       "      <td>Southern Asia</td>\n",
       "      <td>Central and Southern Asia</td>\n",
       "      <td>0.0</td>\n",
       "      <td>0.0</td>\n",
       "      <td>0.0</td>\n",
       "      <td>0.0</td>\n",
       "      <td>283.0</td>\n",
       "      <td>26.0</td>\n",
       "      <td>5.0</td>\n",
       "      <td>2.0</td>\n",
       "      <td>0.0</td>\n",
       "      <td>0.0</td>\n",
       "      <td>13.0</td>\n",
       "      <td>257.0</td>\n",
       "      <td>108.0</td>\n",
       "      <td>187.0</td>\n",
       "      <td>278.0</td>\n",
       "    </tr>\n",
       "    <tr>\n",
       "      <th>1</th>\n",
       "      <td>Albania</td>\n",
       "      <td>Southern Europe</td>\n",
       "      <td>Europe and Northern America</td>\n",
       "      <td>0.0</td>\n",
       "      <td>0.0</td>\n",
       "      <td>0.0</td>\n",
       "      <td>0.0</td>\n",
       "      <td>0.0</td>\n",
       "      <td>10.0</td>\n",
       "      <td>133.0</td>\n",
       "      <td>122.0</td>\n",
       "      <td>97.0</td>\n",
       "      <td>157.0</td>\n",
       "      <td>67.0</td>\n",
       "      <td>314.0</td>\n",
       "      <td>136.0</td>\n",
       "      <td>350.0</td>\n",
       "      <td>527.0</td>\n",
       "    </tr>\n",
       "  </tbody>\n",
       "</table>\n",
       "</div>"
      ],
      "text/plain": [
       "       Country           Region                    UN_Region  Influenza2005  \\\n",
       "0  Afghanistan    Southern Asia    Central and Southern Asia            0.0   \n",
       "1      Albania  Southern Europe  Europe and Northern America            0.0   \n",
       "\n",
       "   Influenza2006  Influenza2007  Influenza2008  Influenza2009  Influenza2010  \\\n",
       "0            0.0            0.0            0.0          283.0           26.0   \n",
       "1            0.0            0.0            0.0            0.0           10.0   \n",
       "\n",
       "   Influenza2011  Influenza2012  Influenza2013  Influenza2014  Influenza2015  \\\n",
       "0            5.0            2.0            0.0            0.0           13.0   \n",
       "1          133.0          122.0           97.0          157.0           67.0   \n",
       "\n",
       "   Influenza2016  Influenza2017  Influenza2018  Influenza2019  \n",
       "0          257.0          108.0          187.0          278.0  \n",
       "1          314.0          136.0          350.0          527.0  "
      ]
     },
     "execution_count": 31,
     "metadata": {},
     "output_type": "execute_result"
    }
   ],
   "source": [
    "df_merge_165 = df_merge_165[cols]\n",
    "df_merge_165.head(2)"
   ]
  },
  {
   "cell_type": "code",
   "execution_count": 32,
   "metadata": {},
   "outputs": [],
   "source": [
    "# export csv files for 165 countres\n",
    "df_merge_165.to_csv(path + 'CountryNodes_Influenza165.csv', index=False)"
   ]
  },
  {
   "cell_type": "code",
   "execution_count": 33,
   "metadata": {},
   "outputs": [
    {
     "data": {
      "text/plain": [
       "0"
      ]
     },
     "execution_count": 33,
     "metadata": {},
     "output_type": "execute_result"
    }
   ],
   "source": [
    "df_merge_165.isnull().sum().sum()"
   ]
  },
  {
   "cell_type": "code",
   "execution_count": null,
   "metadata": {},
   "outputs": [],
   "source": []
  },
  {
   "cell_type": "code",
   "execution_count": null,
   "metadata": {},
   "outputs": [],
   "source": []
  },
  {
   "cell_type": "code",
   "execution_count": null,
   "metadata": {},
   "outputs": [],
   "source": []
  },
  {
   "cell_type": "code",
   "execution_count": null,
   "metadata": {},
   "outputs": [],
   "source": []
  }
 ],
 "metadata": {
  "kernelspec": {
   "display_name": "Python 3",
   "language": "python",
   "name": "python3"
  },
  "language_info": {
   "codemirror_mode": {
    "name": "ipython",
    "version": 3
   },
   "file_extension": ".py",
   "mimetype": "text/x-python",
   "name": "python",
   "nbconvert_exporter": "python",
   "pygments_lexer": "ipython3",
   "version": "3.6.5"
  }
 },
 "nbformat": 4,
 "nbformat_minor": 2
}
