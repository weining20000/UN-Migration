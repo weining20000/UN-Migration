{
 "cells": [
  {
   "cell_type": "code",
   "execution_count": 1,
   "metadata": {},
   "outputs": [],
   "source": [
    "import numpy as np\n",
    "import pandas as pd\n",
    "import matplotlib as plt\n",
    "%matplotlib inline\n",
    "\n",
    "import os\n",
    "import glob"
   ]
  },
  {
   "cell_type": "markdown",
   "metadata": {},
   "source": [
    "# Part I: Edgelist csv"
   ]
  },
  {
   "cell_type": "markdown",
   "metadata": {},
   "source": [
    "## 1 Load Data "
   ]
  },
  {
   "cell_type": "code",
   "execution_count": 2,
   "metadata": {},
   "outputs": [
    {
     "data": {
      "text/html": [
       "<div>\n",
       "<style scoped>\n",
       "    .dataframe tbody tr th:only-of-type {\n",
       "        vertical-align: middle;\n",
       "    }\n",
       "\n",
       "    .dataframe tbody tr th {\n",
       "        vertical-align: top;\n",
       "    }\n",
       "\n",
       "    .dataframe thead th {\n",
       "        text-align: right;\n",
       "    }\n",
       "</style>\n",
       "<table border=\"1\" class=\"dataframe\">\n",
       "  <thead>\n",
       "    <tr style=\"text-align: right;\">\n",
       "      <th></th>\n",
       "      <th>Year</th>\n",
       "      <th>Sort\n",
       "order</th>\n",
       "      <th>Major area, region, country or area of destination</th>\n",
       "      <th>Notes</th>\n",
       "      <th>Code</th>\n",
       "      <th>Type of data (a)</th>\n",
       "      <th>Unnamed: 6</th>\n",
       "      <th>Unnamed: 7</th>\n",
       "      <th>Unnamed: 8</th>\n",
       "      <th>Country or area of origin</th>\n",
       "      <th>...</th>\n",
       "      <th>Unnamed: 231</th>\n",
       "      <th>Unnamed: 232</th>\n",
       "      <th>Unnamed: 233</th>\n",
       "      <th>Unnamed: 234</th>\n",
       "      <th>Unnamed: 235</th>\n",
       "      <th>Unnamed: 236</th>\n",
       "      <th>Unnamed: 237</th>\n",
       "      <th>Unnamed: 238</th>\n",
       "      <th>Unnamed: 239</th>\n",
       "      <th>Unnamed: 240</th>\n",
       "    </tr>\n",
       "  </thead>\n",
       "  <tbody>\n",
       "    <tr>\n",
       "      <th>0</th>\n",
       "      <td>NaN</td>\n",
       "      <td>NaN</td>\n",
       "      <td>NaN</td>\n",
       "      <td>NaN</td>\n",
       "      <td>NaN</td>\n",
       "      <td>NaN</td>\n",
       "      <td>Total</td>\n",
       "      <td>Other South</td>\n",
       "      <td>Other North</td>\n",
       "      <td>Afghanistan</td>\n",
       "      <td>...</td>\n",
       "      <td>Uruguay</td>\n",
       "      <td>Uzbekistan</td>\n",
       "      <td>Vanuatu</td>\n",
       "      <td>Venezuela (Bolivarian Republic of)</td>\n",
       "      <td>Viet Nam</td>\n",
       "      <td>Wallis and Futuna Islands</td>\n",
       "      <td>Western Sahara</td>\n",
       "      <td>Yemen</td>\n",
       "      <td>Zambia</td>\n",
       "      <td>Zimbabwe</td>\n",
       "    </tr>\n",
       "    <tr>\n",
       "      <th>1</th>\n",
       "      <td>1990.0</td>\n",
       "      <td>1990001.0</td>\n",
       "      <td>WORLD</td>\n",
       "      <td>NaN</td>\n",
       "      <td>900.0</td>\n",
       "      <td>NaN</td>\n",
       "      <td>153011473</td>\n",
       "      <td>6548526</td>\n",
       "      <td>2366800</td>\n",
       "      <td>6823350</td>\n",
       "      <td>...</td>\n",
       "      <td>237486</td>\n",
       "      <td>1428020</td>\n",
       "      <td>5060</td>\n",
       "      <td>185946</td>\n",
       "      <td>1237873</td>\n",
       "      <td>6484</td>\n",
       "      <td>168239</td>\n",
       "      <td>455492</td>\n",
       "      <td>85203</td>\n",
       "      <td>204365</td>\n",
       "    </tr>\n",
       "  </tbody>\n",
       "</table>\n",
       "<p>2 rows × 241 columns</p>\n",
       "</div>"
      ],
      "text/plain": [
       "     Year  Sort\\norder Major area, region, country or area of destination  \\\n",
       "0     NaN          NaN                                                NaN   \n",
       "1  1990.0    1990001.0                                              WORLD   \n",
       "\n",
       "  Notes   Code Type of data (a) Unnamed: 6   Unnamed: 7   Unnamed: 8  \\\n",
       "0   NaN    NaN              NaN      Total  Other South  Other North   \n",
       "1   NaN  900.0              NaN  153011473      6548526      2366800   \n",
       "\n",
       "  Country or area of origin     ...      Unnamed: 231 Unnamed: 232  \\\n",
       "0               Afghanistan     ...           Uruguay   Uzbekistan   \n",
       "1                   6823350     ...            237486      1428020   \n",
       "\n",
       "  Unnamed: 233                        Unnamed: 234 Unnamed: 235  \\\n",
       "0      Vanuatu  Venezuela (Bolivarian Republic of)     Viet Nam   \n",
       "1         5060                              185946      1237873   \n",
       "\n",
       "                Unnamed: 236    Unnamed: 237 Unnamed: 238 Unnamed: 239  \\\n",
       "0  Wallis and Futuna Islands  Western Sahara        Yemen       Zambia   \n",
       "1                       6484          168239       455492        85203   \n",
       "\n",
       "  Unnamed: 240  \n",
       "0     Zimbabwe  \n",
       "1       204365  \n",
       "\n",
       "[2 rows x 241 columns]"
      ]
     },
     "execution_count": 2,
     "metadata": {},
     "output_type": "execute_result"
    }
   ],
   "source": [
    "# Load data\n",
    "df = pd.read_excel('2019UNData.xlsx', sheet_name = 'Table 1', header = 14)\n",
    "df.head(2)"
   ]
  },
  {
   "cell_type": "code",
   "execution_count": 3,
   "metadata": {},
   "outputs": [
    {
     "data": {
      "text/plain": [
       "['Year',\n",
       " 'Sort\\norder',\n",
       " 'Major area, region, country or area of destination',\n",
       " 'Notes',\n",
       " 'Code',\n",
       " 'Type of data (a)',\n",
       " 'Unnamed: 6',\n",
       " 'Unnamed: 7',\n",
       " 'Unnamed: 8',\n",
       " 'Country or area of origin',\n",
       " 'Unnamed: 10',\n",
       " 'Unnamed: 11',\n",
       " 'Unnamed: 12',\n",
       " 'Unnamed: 13',\n",
       " 'Unnamed: 14',\n",
       " 'Unnamed: 15',\n",
       " 'Unnamed: 16',\n",
       " 'Unnamed: 17',\n",
       " 'Unnamed: 18',\n",
       " 'Unnamed: 19',\n",
       " 'Unnamed: 20',\n",
       " 'Unnamed: 21',\n",
       " 'Unnamed: 22',\n",
       " 'Unnamed: 23',\n",
       " 'Unnamed: 24',\n",
       " 'Unnamed: 25',\n",
       " 'Unnamed: 26',\n",
       " 'Unnamed: 27',\n",
       " 'Unnamed: 28',\n",
       " 'Unnamed: 29',\n",
       " 'Unnamed: 30',\n",
       " 'Unnamed: 31',\n",
       " 'Unnamed: 32',\n",
       " 'Unnamed: 33',\n",
       " 'Unnamed: 34',\n",
       " 'Unnamed: 35',\n",
       " 'Unnamed: 36',\n",
       " 'Unnamed: 37',\n",
       " 'Unnamed: 38',\n",
       " 'Unnamed: 39',\n",
       " 'Unnamed: 40',\n",
       " 'Unnamed: 41',\n",
       " 'Unnamed: 42',\n",
       " 'Unnamed: 43',\n",
       " 'Unnamed: 44',\n",
       " 'Unnamed: 45',\n",
       " 'Unnamed: 46',\n",
       " 'Unnamed: 47',\n",
       " 'Unnamed: 48',\n",
       " 'Unnamed: 49',\n",
       " 'Unnamed: 50',\n",
       " 'Unnamed: 51',\n",
       " 'Unnamed: 52',\n",
       " 'Unnamed: 53',\n",
       " 'Unnamed: 54',\n",
       " 'Unnamed: 55',\n",
       " 'Unnamed: 56',\n",
       " 'Unnamed: 57',\n",
       " 'Unnamed: 58',\n",
       " 'Unnamed: 59',\n",
       " 'Unnamed: 60',\n",
       " 'Unnamed: 61',\n",
       " 'Unnamed: 62',\n",
       " 'Unnamed: 63',\n",
       " 'Unnamed: 64',\n",
       " 'Unnamed: 65',\n",
       " 'Unnamed: 66',\n",
       " 'Unnamed: 67',\n",
       " 'Unnamed: 68',\n",
       " 'Unnamed: 69',\n",
       " 'Unnamed: 70',\n",
       " 'Unnamed: 71',\n",
       " 'Unnamed: 72',\n",
       " 'Unnamed: 73',\n",
       " 'Unnamed: 74',\n",
       " 'Unnamed: 75',\n",
       " 'Unnamed: 76',\n",
       " 'Unnamed: 77',\n",
       " 'Unnamed: 78',\n",
       " 'Unnamed: 79',\n",
       " 'Unnamed: 80',\n",
       " 'Unnamed: 81',\n",
       " 'Unnamed: 82',\n",
       " 'Unnamed: 83',\n",
       " 'Unnamed: 84',\n",
       " 'Unnamed: 85',\n",
       " 'Unnamed: 86',\n",
       " 'Unnamed: 87',\n",
       " 'Unnamed: 88',\n",
       " 'Unnamed: 89',\n",
       " 'Unnamed: 90',\n",
       " 'Unnamed: 91',\n",
       " 'Unnamed: 92',\n",
       " 'Unnamed: 93',\n",
       " 'Unnamed: 94',\n",
       " 'Unnamed: 95',\n",
       " 'Unnamed: 96',\n",
       " 'Unnamed: 97',\n",
       " 'Unnamed: 98',\n",
       " 'Unnamed: 99',\n",
       " 'Unnamed: 100',\n",
       " 'Unnamed: 101',\n",
       " 'Unnamed: 102',\n",
       " 'Unnamed: 103',\n",
       " 'Unnamed: 104',\n",
       " 'Unnamed: 105',\n",
       " 'Unnamed: 106',\n",
       " 'Unnamed: 107',\n",
       " 'Unnamed: 108',\n",
       " 'Unnamed: 109',\n",
       " 'Unnamed: 110',\n",
       " 'Unnamed: 111',\n",
       " 'Unnamed: 112',\n",
       " 'Unnamed: 113',\n",
       " 'Unnamed: 114',\n",
       " 'Unnamed: 115',\n",
       " 'Unnamed: 116',\n",
       " 'Unnamed: 117',\n",
       " 'Unnamed: 118',\n",
       " 'Unnamed: 119',\n",
       " 'Unnamed: 120',\n",
       " 'Unnamed: 121',\n",
       " 'Unnamed: 122',\n",
       " 'Unnamed: 123',\n",
       " 'Unnamed: 124',\n",
       " 'Unnamed: 125',\n",
       " 'Unnamed: 126',\n",
       " 'Unnamed: 127',\n",
       " 'Unnamed: 128',\n",
       " 'Unnamed: 129',\n",
       " 'Unnamed: 130',\n",
       " 'Unnamed: 131',\n",
       " 'Unnamed: 132',\n",
       " 'Unnamed: 133',\n",
       " 'Unnamed: 134',\n",
       " 'Unnamed: 135',\n",
       " 'Unnamed: 136',\n",
       " 'Unnamed: 137',\n",
       " 'Unnamed: 138',\n",
       " 'Unnamed: 139',\n",
       " 'Unnamed: 140',\n",
       " 'Unnamed: 141',\n",
       " 'Unnamed: 142',\n",
       " 'Unnamed: 143',\n",
       " 'Unnamed: 144',\n",
       " 'Unnamed: 145',\n",
       " 'Unnamed: 146',\n",
       " 'Unnamed: 147',\n",
       " 'Unnamed: 148',\n",
       " 'Unnamed: 149',\n",
       " 'Unnamed: 150',\n",
       " 'Unnamed: 151',\n",
       " 'Unnamed: 152',\n",
       " 'Unnamed: 153',\n",
       " 'Unnamed: 154',\n",
       " 'Unnamed: 155',\n",
       " 'Unnamed: 156',\n",
       " 'Unnamed: 157',\n",
       " 'Unnamed: 158',\n",
       " 'Unnamed: 159',\n",
       " 'Unnamed: 160',\n",
       " 'Unnamed: 161',\n",
       " 'Unnamed: 162',\n",
       " 'Unnamed: 163',\n",
       " 'Unnamed: 164',\n",
       " 'Unnamed: 165',\n",
       " 'Unnamed: 166',\n",
       " 'Unnamed: 167',\n",
       " 'Unnamed: 168',\n",
       " 'Unnamed: 169',\n",
       " 'Unnamed: 170',\n",
       " 'Unnamed: 171',\n",
       " 'Unnamed: 172',\n",
       " 'Unnamed: 173',\n",
       " 'Unnamed: 174',\n",
       " 'Unnamed: 175',\n",
       " 'Unnamed: 176',\n",
       " 'Unnamed: 177',\n",
       " 'Unnamed: 178',\n",
       " 'Unnamed: 179',\n",
       " 'Unnamed: 180',\n",
       " 'Unnamed: 181',\n",
       " 'Unnamed: 182',\n",
       " 'Unnamed: 183',\n",
       " 'Unnamed: 184',\n",
       " 'Unnamed: 185',\n",
       " 'Unnamed: 186',\n",
       " 'Unnamed: 187',\n",
       " 'Unnamed: 188',\n",
       " 'Unnamed: 189',\n",
       " 'Unnamed: 190',\n",
       " 'Unnamed: 191',\n",
       " 'Unnamed: 192',\n",
       " 'Unnamed: 193',\n",
       " 'Unnamed: 194',\n",
       " 'Unnamed: 195',\n",
       " 'Unnamed: 196',\n",
       " 'Unnamed: 197',\n",
       " 'Unnamed: 198',\n",
       " 'Unnamed: 199',\n",
       " 'Unnamed: 200',\n",
       " 'Unnamed: 201',\n",
       " 'Unnamed: 202',\n",
       " 'Unnamed: 203',\n",
       " 'Unnamed: 204',\n",
       " 'Unnamed: 205',\n",
       " 'Unnamed: 206',\n",
       " 'Unnamed: 207',\n",
       " 'Unnamed: 208',\n",
       " 'Unnamed: 209',\n",
       " 'Unnamed: 210',\n",
       " 'Unnamed: 211',\n",
       " 'Unnamed: 212',\n",
       " 'Unnamed: 213',\n",
       " 'Unnamed: 214',\n",
       " 'Unnamed: 215',\n",
       " 'Unnamed: 216',\n",
       " 'Unnamed: 217',\n",
       " 'Unnamed: 218',\n",
       " 'Unnamed: 219',\n",
       " 'Unnamed: 220',\n",
       " 'Unnamed: 221',\n",
       " 'Unnamed: 222',\n",
       " 'Unnamed: 223',\n",
       " 'Unnamed: 224',\n",
       " 'Unnamed: 225',\n",
       " 'Unnamed: 226',\n",
       " 'Unnamed: 227',\n",
       " 'Unnamed: 228',\n",
       " 'Unnamed: 229',\n",
       " 'Unnamed: 230',\n",
       " 'Unnamed: 231',\n",
       " 'Unnamed: 232',\n",
       " 'Unnamed: 233',\n",
       " 'Unnamed: 234',\n",
       " 'Unnamed: 235',\n",
       " 'Unnamed: 236',\n",
       " 'Unnamed: 237',\n",
       " 'Unnamed: 238',\n",
       " 'Unnamed: 239',\n",
       " 'Unnamed: 240']"
      ]
     },
     "execution_count": 3,
     "metadata": {},
     "output_type": "execute_result"
    }
   ],
   "source": [
    "list(df.columns)"
   ]
  },
  {
   "cell_type": "markdown",
   "metadata": {},
   "source": [
    "## 2 Clean dataframe"
   ]
  },
  {
   "cell_type": "code",
   "execution_count": 4,
   "metadata": {},
   "outputs": [
    {
     "data": {
      "text/html": [
       "<div>\n",
       "<style scoped>\n",
       "    .dataframe tbody tr th:only-of-type {\n",
       "        vertical-align: middle;\n",
       "    }\n",
       "\n",
       "    .dataframe tbody tr th {\n",
       "        vertical-align: top;\n",
       "    }\n",
       "\n",
       "    .dataframe thead th {\n",
       "        text-align: right;\n",
       "    }\n",
       "</style>\n",
       "<table border=\"1\" class=\"dataframe\">\n",
       "  <thead>\n",
       "    <tr style=\"text-align: right;\">\n",
       "      <th></th>\n",
       "      <th>Year</th>\n",
       "      <th>Destination</th>\n",
       "      <th>Afghanistan</th>\n",
       "      <th>Albania</th>\n",
       "      <th>Algeria</th>\n",
       "      <th>American Samoa</th>\n",
       "      <th>Andorra</th>\n",
       "      <th>Angola</th>\n",
       "      <th>Anguilla</th>\n",
       "      <th>Antigua and Barbuda</th>\n",
       "      <th>...</th>\n",
       "      <th>Uruguay</th>\n",
       "      <th>Uzbekistan</th>\n",
       "      <th>Vanuatu</th>\n",
       "      <th>Venezuela (Bolivarian Republic of)</th>\n",
       "      <th>Viet Nam</th>\n",
       "      <th>Wallis and Futuna Islands</th>\n",
       "      <th>Western Sahara</th>\n",
       "      <th>Yemen</th>\n",
       "      <th>Zambia</th>\n",
       "      <th>Zimbabwe</th>\n",
       "    </tr>\n",
       "  </thead>\n",
       "  <tbody>\n",
       "    <tr>\n",
       "      <th>24</th>\n",
       "      <td>1990</td>\n",
       "      <td>Burundi</td>\n",
       "      <td>0</td>\n",
       "      <td>0</td>\n",
       "      <td>0</td>\n",
       "      <td>0</td>\n",
       "      <td>0</td>\n",
       "      <td>0</td>\n",
       "      <td>0</td>\n",
       "      <td>0</td>\n",
       "      <td>...</td>\n",
       "      <td>0</td>\n",
       "      <td>0</td>\n",
       "      <td>0</td>\n",
       "      <td>0</td>\n",
       "      <td>0</td>\n",
       "      <td>0</td>\n",
       "      <td>0</td>\n",
       "      <td>0</td>\n",
       "      <td>0</td>\n",
       "      <td>0</td>\n",
       "    </tr>\n",
       "    <tr>\n",
       "      <th>25</th>\n",
       "      <td>1990</td>\n",
       "      <td>Comoros</td>\n",
       "      <td>0</td>\n",
       "      <td>0</td>\n",
       "      <td>0</td>\n",
       "      <td>0</td>\n",
       "      <td>0</td>\n",
       "      <td>0</td>\n",
       "      <td>0</td>\n",
       "      <td>0</td>\n",
       "      <td>...</td>\n",
       "      <td>0</td>\n",
       "      <td>0</td>\n",
       "      <td>0</td>\n",
       "      <td>0</td>\n",
       "      <td>0</td>\n",
       "      <td>0</td>\n",
       "      <td>0</td>\n",
       "      <td>0</td>\n",
       "      <td>0</td>\n",
       "      <td>0</td>\n",
       "    </tr>\n",
       "    <tr>\n",
       "      <th>26</th>\n",
       "      <td>1990</td>\n",
       "      <td>Djibouti</td>\n",
       "      <td>0</td>\n",
       "      <td>0</td>\n",
       "      <td>0</td>\n",
       "      <td>0</td>\n",
       "      <td>0</td>\n",
       "      <td>0</td>\n",
       "      <td>0</td>\n",
       "      <td>0</td>\n",
       "      <td>...</td>\n",
       "      <td>0</td>\n",
       "      <td>0</td>\n",
       "      <td>0</td>\n",
       "      <td>0</td>\n",
       "      <td>0</td>\n",
       "      <td>0</td>\n",
       "      <td>0</td>\n",
       "      <td>289</td>\n",
       "      <td>0</td>\n",
       "      <td>0</td>\n",
       "    </tr>\n",
       "  </tbody>\n",
       "</table>\n",
       "<p>3 rows × 234 columns</p>\n",
       "</div>"
      ],
      "text/plain": [
       "    Year Destination Afghanistan Albania Algeria American Samoa Andorra  \\\n",
       "24  1990     Burundi           0       0       0              0       0   \n",
       "25  1990     Comoros           0       0       0              0       0   \n",
       "26  1990    Djibouti           0       0       0              0       0   \n",
       "\n",
       "   Angola Anguilla Antigua and Barbuda   ...    Uruguay Uzbekistan Vanuatu  \\\n",
       "24      0        0                   0   ...          0          0       0   \n",
       "25      0        0                   0   ...          0          0       0   \n",
       "26      0        0                   0   ...          0          0       0   \n",
       "\n",
       "   Venezuela (Bolivarian Republic of) Viet Nam Wallis and Futuna Islands  \\\n",
       "24                                  0        0                         0   \n",
       "25                                  0        0                         0   \n",
       "26                                  0        0                         0   \n",
       "\n",
       "   Western Sahara Yemen Zambia Zimbabwe  \n",
       "24              0     0      0        0  \n",
       "25              0     0      0        0  \n",
       "26              0   289      0        0  \n",
       "\n",
       "[3 rows x 234 columns]"
      ]
     },
     "execution_count": 4,
     "metadata": {},
     "output_type": "execute_result"
    }
   ],
   "source": [
    "# Clean df\n",
    "\n",
    "# Delete unnecessary columns [1:8]\n",
    "df = df.drop(columns=['Sort\\norder', \"Notes\", \"Code\", \"Type of data (a)\", \"Unnamed: 6\", \"Unnamed: 7\", \"Unnamed: 8\"], axis=1)\n",
    "\n",
    "# Change column names using values from row 0\n",
    "df.columns = df.iloc[0]\n",
    "\n",
    "# Adjust the first two column names from NAN to \"Year\" and \"Destination\" and drop the redundant row 0\n",
    "list1 = list(df.iloc[0])\n",
    "list1 = list1[2:]\n",
    "list2 = [\"Year\", \"Destination\"]\n",
    "list3 = list2 + list1\n",
    "df.columns = list3\n",
    "df = df.drop([0])\n",
    "\n",
    "# Convert column 'Year' to int type\n",
    "df['Year'] = df['Year'].astype(int)\n",
    "\n",
    "# impute NAN with 0\n",
    "df = df.fillna(0)\n",
    "\n",
    "# select only country data not regional or income group data\n",
    "list_country = list(df.columns)\n",
    "list_country = list_country[2:]\n",
    "df = df.loc[df['Destination'].isin(list_country)]\n",
    "\n",
    "df.head(3)"
   ]
  },
  {
   "cell_type": "code",
   "execution_count": 5,
   "metadata": {},
   "outputs": [
    {
     "data": {
      "text/plain": [
       "0"
      ]
     },
     "execution_count": 5,
     "metadata": {},
     "output_type": "execute_result"
    }
   ],
   "source": [
    "df.isnull().sum().sum()"
   ]
  },
  {
   "cell_type": "markdown",
   "metadata": {},
   "source": [
    "## 3 Generate yearly data"
   ]
  },
  {
   "cell_type": "code",
   "execution_count": 6,
   "metadata": {},
   "outputs": [
    {
     "data": {
      "text/plain": [
       "1460    46\n",
       "Name: Côte d'Ivoire, dtype: object"
      ]
     },
     "execution_count": 6,
     "metadata": {},
     "output_type": "execute_result"
    }
   ],
   "source": [
    "df_k = df[df['Year'] == 2015]\n",
    "df_k = df_k[df_k['Destination'] == 'Angola']\n",
    "df_k[\"Côte d'Ivoire\"]"
   ]
  },
  {
   "cell_type": "markdown",
   "metadata": {},
   "source": [
    "### 3.1 2019 data "
   ]
  },
  {
   "cell_type": "code",
   "execution_count": 7,
   "metadata": {},
   "outputs": [],
   "source": [
    "def generate_yearly_data(dataframe, year, country_list, weight_name, csv_file_name):\n",
    "    \n",
    "    # make a copy first\n",
    "    df_year = dataframe.copy()\n",
    "    \n",
    "    # select specific year\n",
    "    df_year = dataframe.loc[dataframe['Year'] == year]\n",
    "    \n",
    "    # select rows that are countries in the contry_list\n",
    "    df_year = df_year.loc[df_year['Destination'].isin(country_list)]\n",
    "    \n",
    "    # reset index\n",
    "    df_year = df_year.reset_index(drop = True)\n",
    "    \n",
    "    # adjust column name Year to Destination\n",
    "    df_year_t = df_year.drop(columns = ['Year']).set_index('Destination')\n",
    "    \n",
    "    # reorder the index according to the country name orders defined in the hearder\n",
    "    df_year_t = df_year_t.reindex(country_list)\n",
    "    \n",
    "    # transform matrix format to edgelist format\n",
    "    df_year_edgelist = df_year_t.stack().reset_index()\n",
    "    \n",
    "    # rename hearder\n",
    "    df_year_edgelist = df_year_edgelist.rename(columns = {\"level_1\": \"Origin\", 0:weight_name})\n",
    "    \n",
    "    # remove rows that is similar to the format of \"Afghanistan to Afganistan\"\n",
    "    indexnames = df_year_edgelist[df_year_edgelist['Destination'] == df_year_edgelist['Origin']].index\n",
    "    df_year_edgelist.drop(indexnames, inplace=True)\n",
    "    df_year_edgelist = df_year_edgelist.reset_index(drop = True)\n",
    "    \n",
    "    # convert flow column from object type to int type for later convenience \n",
    "    try:\n",
    "        df_year_edgelist[weight_name] = df_year_edgelist[weight_name].astype(float)\n",
    "    except:\n",
    "        df_year_edgelist[weight_name] = pd.to_numeric(df_year_edgelist[weight_name], errors='coerce')\n",
    "        df_year_edgelist[weight_name] = df_year_edgelist[weight_name].astype(float)\n",
    "    \n",
    "    # export csv file\n",
    "    #df_year_edgelist.to_csv(csv_file_name, index=False)\n",
    "    \n",
    "    # return df\n",
    "    return df_year_edgelist"
   ]
  },
  {
   "cell_type": "code",
   "execution_count": 8,
   "metadata": {},
   "outputs": [],
   "source": [
    "df_2019 = generate_yearly_data(df, int(2019), list_country, \"flow2019\", \"MigrationData05_19/EdgeList2019.csv\")"
   ]
  },
  {
   "cell_type": "code",
   "execution_count": 9,
   "metadata": {},
   "outputs": [
    {
     "data": {
      "text/html": [
       "<div>\n",
       "<style scoped>\n",
       "    .dataframe tbody tr th:only-of-type {\n",
       "        vertical-align: middle;\n",
       "    }\n",
       "\n",
       "    .dataframe tbody tr th {\n",
       "        vertical-align: top;\n",
       "    }\n",
       "\n",
       "    .dataframe thead th {\n",
       "        text-align: right;\n",
       "    }\n",
       "</style>\n",
       "<table border=\"1\" class=\"dataframe\">\n",
       "  <thead>\n",
       "    <tr style=\"text-align: right;\">\n",
       "      <th></th>\n",
       "      <th>Destination</th>\n",
       "      <th>Origin</th>\n",
       "      <th>flow2019</th>\n",
       "    </tr>\n",
       "  </thead>\n",
       "  <tbody>\n",
       "    <tr>\n",
       "      <th>0</th>\n",
       "      <td>Afghanistan</td>\n",
       "      <td>Albania</td>\n",
       "      <td>0.0</td>\n",
       "    </tr>\n",
       "    <tr>\n",
       "      <th>1</th>\n",
       "      <td>Afghanistan</td>\n",
       "      <td>Algeria</td>\n",
       "      <td>0.0</td>\n",
       "    </tr>\n",
       "    <tr>\n",
       "      <th>2</th>\n",
       "      <td>Afghanistan</td>\n",
       "      <td>American Samoa</td>\n",
       "      <td>0.0</td>\n",
       "    </tr>\n",
       "    <tr>\n",
       "      <th>3</th>\n",
       "      <td>Afghanistan</td>\n",
       "      <td>Andorra</td>\n",
       "      <td>0.0</td>\n",
       "    </tr>\n",
       "    <tr>\n",
       "      <th>4</th>\n",
       "      <td>Afghanistan</td>\n",
       "      <td>Angola</td>\n",
       "      <td>0.0</td>\n",
       "    </tr>\n",
       "  </tbody>\n",
       "</table>\n",
       "</div>"
      ],
      "text/plain": [
       "   Destination          Origin  flow2019\n",
       "0  Afghanistan         Albania       0.0\n",
       "1  Afghanistan         Algeria       0.0\n",
       "2  Afghanistan  American Samoa       0.0\n",
       "3  Afghanistan         Andorra       0.0\n",
       "4  Afghanistan          Angola       0.0"
      ]
     },
     "execution_count": 9,
     "metadata": {},
     "output_type": "execute_result"
    }
   ],
   "source": [
    "df_2019.head()"
   ]
  },
  {
   "cell_type": "code",
   "execution_count": 10,
   "metadata": {},
   "outputs": [
    {
     "data": {
      "text/plain": [
       "Destination     object\n",
       "Origin          object\n",
       "flow2019       float64\n",
       "dtype: object"
      ]
     },
     "execution_count": 10,
     "metadata": {},
     "output_type": "execute_result"
    }
   ],
   "source": [
    "df_2019.dtypes"
   ]
  },
  {
   "cell_type": "code",
   "execution_count": 11,
   "metadata": {},
   "outputs": [
    {
     "data": {
      "text/plain": [
       "0"
      ]
     },
     "execution_count": 11,
     "metadata": {},
     "output_type": "execute_result"
    }
   ],
   "source": [
    "df_2019['flow2019'].isnull().sum()"
   ]
  },
  {
   "cell_type": "markdown",
   "metadata": {},
   "source": [
    "### 3.2 2015 Data "
   ]
  },
  {
   "cell_type": "code",
   "execution_count": 12,
   "metadata": {},
   "outputs": [
    {
     "data": {
      "text/html": [
       "<div>\n",
       "<style scoped>\n",
       "    .dataframe tbody tr th:only-of-type {\n",
       "        vertical-align: middle;\n",
       "    }\n",
       "\n",
       "    .dataframe tbody tr th {\n",
       "        vertical-align: top;\n",
       "    }\n",
       "\n",
       "    .dataframe thead th {\n",
       "        text-align: right;\n",
       "    }\n",
       "</style>\n",
       "<table border=\"1\" class=\"dataframe\">\n",
       "  <thead>\n",
       "    <tr style=\"text-align: right;\">\n",
       "      <th></th>\n",
       "      <th>Destination</th>\n",
       "      <th>Origin</th>\n",
       "      <th>flow2015</th>\n",
       "    </tr>\n",
       "  </thead>\n",
       "  <tbody>\n",
       "    <tr>\n",
       "      <th>0</th>\n",
       "      <td>Afghanistan</td>\n",
       "      <td>Albania</td>\n",
       "      <td>0.0</td>\n",
       "    </tr>\n",
       "    <tr>\n",
       "      <th>1</th>\n",
       "      <td>Afghanistan</td>\n",
       "      <td>Algeria</td>\n",
       "      <td>0.0</td>\n",
       "    </tr>\n",
       "    <tr>\n",
       "      <th>2</th>\n",
       "      <td>Afghanistan</td>\n",
       "      <td>American Samoa</td>\n",
       "      <td>0.0</td>\n",
       "    </tr>\n",
       "    <tr>\n",
       "      <th>3</th>\n",
       "      <td>Afghanistan</td>\n",
       "      <td>Andorra</td>\n",
       "      <td>0.0</td>\n",
       "    </tr>\n",
       "    <tr>\n",
       "      <th>4</th>\n",
       "      <td>Afghanistan</td>\n",
       "      <td>Angola</td>\n",
       "      <td>0.0</td>\n",
       "    </tr>\n",
       "  </tbody>\n",
       "</table>\n",
       "</div>"
      ],
      "text/plain": [
       "   Destination          Origin  flow2015\n",
       "0  Afghanistan         Albania       0.0\n",
       "1  Afghanistan         Algeria       0.0\n",
       "2  Afghanistan  American Samoa       0.0\n",
       "3  Afghanistan         Andorra       0.0\n",
       "4  Afghanistan          Angola       0.0"
      ]
     },
     "execution_count": 12,
     "metadata": {},
     "output_type": "execute_result"
    }
   ],
   "source": [
    "df_2015 = generate_yearly_data(df, int(2015), list_country, \"flow2015\", \"MigrationData05_19/EdgeList2015.csv\")\n",
    "df_2015.head()"
   ]
  },
  {
   "cell_type": "code",
   "execution_count": 13,
   "metadata": {},
   "outputs": [
    {
     "data": {
      "text/plain": [
       "Destination     object\n",
       "Origin          object\n",
       "flow2015       float64\n",
       "dtype: object"
      ]
     },
     "execution_count": 13,
     "metadata": {},
     "output_type": "execute_result"
    }
   ],
   "source": [
    "df_2015.dtypes"
   ]
  },
  {
   "cell_type": "code",
   "execution_count": 14,
   "metadata": {},
   "outputs": [
    {
     "data": {
      "text/plain": [
       "0"
      ]
     },
     "execution_count": 14,
     "metadata": {},
     "output_type": "execute_result"
    }
   ],
   "source": [
    "df_2015['flow2015'].isnull().sum()"
   ]
  },
  {
   "cell_type": "markdown",
   "metadata": {},
   "source": [
    "### 3.3 2010 Data "
   ]
  },
  {
   "cell_type": "code",
   "execution_count": 15,
   "metadata": {},
   "outputs": [
    {
     "data": {
      "text/html": [
       "<div>\n",
       "<style scoped>\n",
       "    .dataframe tbody tr th:only-of-type {\n",
       "        vertical-align: middle;\n",
       "    }\n",
       "\n",
       "    .dataframe tbody tr th {\n",
       "        vertical-align: top;\n",
       "    }\n",
       "\n",
       "    .dataframe thead th {\n",
       "        text-align: right;\n",
       "    }\n",
       "</style>\n",
       "<table border=\"1\" class=\"dataframe\">\n",
       "  <thead>\n",
       "    <tr style=\"text-align: right;\">\n",
       "      <th></th>\n",
       "      <th>Destination</th>\n",
       "      <th>Origin</th>\n",
       "      <th>flow2010</th>\n",
       "    </tr>\n",
       "  </thead>\n",
       "  <tbody>\n",
       "    <tr>\n",
       "      <th>0</th>\n",
       "      <td>Afghanistan</td>\n",
       "      <td>Albania</td>\n",
       "      <td>0.0</td>\n",
       "    </tr>\n",
       "    <tr>\n",
       "      <th>1</th>\n",
       "      <td>Afghanistan</td>\n",
       "      <td>Algeria</td>\n",
       "      <td>0.0</td>\n",
       "    </tr>\n",
       "    <tr>\n",
       "      <th>2</th>\n",
       "      <td>Afghanistan</td>\n",
       "      <td>American Samoa</td>\n",
       "      <td>0.0</td>\n",
       "    </tr>\n",
       "    <tr>\n",
       "      <th>3</th>\n",
       "      <td>Afghanistan</td>\n",
       "      <td>Andorra</td>\n",
       "      <td>0.0</td>\n",
       "    </tr>\n",
       "    <tr>\n",
       "      <th>4</th>\n",
       "      <td>Afghanistan</td>\n",
       "      <td>Angola</td>\n",
       "      <td>0.0</td>\n",
       "    </tr>\n",
       "  </tbody>\n",
       "</table>\n",
       "</div>"
      ],
      "text/plain": [
       "   Destination          Origin  flow2010\n",
       "0  Afghanistan         Albania       0.0\n",
       "1  Afghanistan         Algeria       0.0\n",
       "2  Afghanistan  American Samoa       0.0\n",
       "3  Afghanistan         Andorra       0.0\n",
       "4  Afghanistan          Angola       0.0"
      ]
     },
     "execution_count": 15,
     "metadata": {},
     "output_type": "execute_result"
    }
   ],
   "source": [
    "df_2010 = generate_yearly_data(df, int(2010), list_country, \"flow2010\", \"MigrationData05_19/EdgeList2010.csv\")\n",
    "df_2010.head()"
   ]
  },
  {
   "cell_type": "code",
   "execution_count": 16,
   "metadata": {},
   "outputs": [
    {
     "data": {
      "text/plain": [
       "3"
      ]
     },
     "execution_count": 16,
     "metadata": {},
     "output_type": "execute_result"
    }
   ],
   "source": [
    "df_2010['flow2010'].isnull().sum()"
   ]
  },
  {
   "cell_type": "code",
   "execution_count": 17,
   "metadata": {},
   "outputs": [
    {
     "data": {
      "text/html": [
       "<div>\n",
       "<style scoped>\n",
       "    .dataframe tbody tr th:only-of-type {\n",
       "        vertical-align: middle;\n",
       "    }\n",
       "\n",
       "    .dataframe tbody tr th {\n",
       "        vertical-align: top;\n",
       "    }\n",
       "\n",
       "    .dataframe thead th {\n",
       "        text-align: right;\n",
       "    }\n",
       "</style>\n",
       "<table border=\"1\" class=\"dataframe\">\n",
       "  <thead>\n",
       "    <tr style=\"text-align: right;\">\n",
       "      <th></th>\n",
       "      <th>Destination</th>\n",
       "      <th>Origin</th>\n",
       "      <th>flow2010</th>\n",
       "    </tr>\n",
       "  </thead>\n",
       "  <tbody>\n",
       "    <tr>\n",
       "      <th>26065</th>\n",
       "      <td>Kuwait</td>\n",
       "      <td>South Sudan</td>\n",
       "      <td>NaN</td>\n",
       "    </tr>\n",
       "    <tr>\n",
       "      <th>44580</th>\n",
       "      <td>Somalia</td>\n",
       "      <td>Yemen</td>\n",
       "      <td>NaN</td>\n",
       "    </tr>\n",
       "    <tr>\n",
       "      <th>45011</th>\n",
       "      <td>South Sudan</td>\n",
       "      <td>Sudan</td>\n",
       "      <td>NaN</td>\n",
       "    </tr>\n",
       "  </tbody>\n",
       "</table>\n",
       "</div>"
      ],
      "text/plain": [
       "       Destination       Origin  flow2010\n",
       "26065       Kuwait  South Sudan       NaN\n",
       "44580      Somalia        Yemen       NaN\n",
       "45011  South Sudan        Sudan       NaN"
      ]
     },
     "execution_count": 17,
     "metadata": {},
     "output_type": "execute_result"
    }
   ],
   "source": [
    "df_2010[df_2010.isnull().any(axis=1)]"
   ]
  },
  {
   "cell_type": "code",
   "execution_count": 18,
   "metadata": {},
   "outputs": [
    {
     "data": {
      "text/plain": [
       "0"
      ]
     },
     "execution_count": 18,
     "metadata": {},
     "output_type": "execute_result"
    }
   ],
   "source": [
    "df_2010 = df_2010.fillna(0)\n",
    "df_2010['flow2010'].isnull().sum()"
   ]
  },
  {
   "cell_type": "markdown",
   "metadata": {},
   "source": [
    "### 3.3 2005 Data "
   ]
  },
  {
   "cell_type": "code",
   "execution_count": 19,
   "metadata": {},
   "outputs": [
    {
     "data": {
      "text/html": [
       "<div>\n",
       "<style scoped>\n",
       "    .dataframe tbody tr th:only-of-type {\n",
       "        vertical-align: middle;\n",
       "    }\n",
       "\n",
       "    .dataframe tbody tr th {\n",
       "        vertical-align: top;\n",
       "    }\n",
       "\n",
       "    .dataframe thead th {\n",
       "        text-align: right;\n",
       "    }\n",
       "</style>\n",
       "<table border=\"1\" class=\"dataframe\">\n",
       "  <thead>\n",
       "    <tr style=\"text-align: right;\">\n",
       "      <th></th>\n",
       "      <th>Destination</th>\n",
       "      <th>Origin</th>\n",
       "      <th>flow2005</th>\n",
       "    </tr>\n",
       "  </thead>\n",
       "  <tbody>\n",
       "    <tr>\n",
       "      <th>0</th>\n",
       "      <td>Afghanistan</td>\n",
       "      <td>Albania</td>\n",
       "      <td>0.0</td>\n",
       "    </tr>\n",
       "    <tr>\n",
       "      <th>1</th>\n",
       "      <td>Afghanistan</td>\n",
       "      <td>Algeria</td>\n",
       "      <td>0.0</td>\n",
       "    </tr>\n",
       "    <tr>\n",
       "      <th>2</th>\n",
       "      <td>Afghanistan</td>\n",
       "      <td>American Samoa</td>\n",
       "      <td>0.0</td>\n",
       "    </tr>\n",
       "    <tr>\n",
       "      <th>3</th>\n",
       "      <td>Afghanistan</td>\n",
       "      <td>Andorra</td>\n",
       "      <td>0.0</td>\n",
       "    </tr>\n",
       "    <tr>\n",
       "      <th>4</th>\n",
       "      <td>Afghanistan</td>\n",
       "      <td>Angola</td>\n",
       "      <td>0.0</td>\n",
       "    </tr>\n",
       "  </tbody>\n",
       "</table>\n",
       "</div>"
      ],
      "text/plain": [
       "   Destination          Origin  flow2005\n",
       "0  Afghanistan         Albania       0.0\n",
       "1  Afghanistan         Algeria       0.0\n",
       "2  Afghanistan  American Samoa       0.0\n",
       "3  Afghanistan         Andorra       0.0\n",
       "4  Afghanistan          Angola       0.0"
      ]
     },
     "execution_count": 19,
     "metadata": {},
     "output_type": "execute_result"
    }
   ],
   "source": [
    "df_2005 = generate_yearly_data(df, int(2005), list_country, \"flow2005\", \"MigrationData05_19/EdgeList2005.csv\")\n",
    "df_2005.head()"
   ]
  },
  {
   "cell_type": "code",
   "execution_count": 20,
   "metadata": {},
   "outputs": [
    {
     "data": {
      "text/plain": [
       "16"
      ]
     },
     "execution_count": 20,
     "metadata": {},
     "output_type": "execute_result"
    }
   ],
   "source": [
    "df_2005['flow2005'].isnull().sum()"
   ]
  },
  {
   "cell_type": "code",
   "execution_count": 21,
   "metadata": {},
   "outputs": [
    {
     "data": {
      "text/html": [
       "<div>\n",
       "<style scoped>\n",
       "    .dataframe tbody tr th:only-of-type {\n",
       "        vertical-align: middle;\n",
       "    }\n",
       "\n",
       "    .dataframe tbody tr th {\n",
       "        vertical-align: top;\n",
       "    }\n",
       "\n",
       "    .dataframe thead th {\n",
       "        text-align: right;\n",
       "    }\n",
       "</style>\n",
       "<table border=\"1\" class=\"dataframe\">\n",
       "  <thead>\n",
       "    <tr style=\"text-align: right;\">\n",
       "      <th></th>\n",
       "      <th>Destination</th>\n",
       "      <th>Origin</th>\n",
       "      <th>flow2005</th>\n",
       "    </tr>\n",
       "  </thead>\n",
       "  <tbody>\n",
       "    <tr>\n",
       "      <th>26065</th>\n",
       "      <td>Kuwait</td>\n",
       "      <td>South Sudan</td>\n",
       "      <td>NaN</td>\n",
       "    </tr>\n",
       "    <tr>\n",
       "      <th>31879</th>\n",
       "      <td>Montenegro</td>\n",
       "      <td>Albania</td>\n",
       "      <td>NaN</td>\n",
       "    </tr>\n",
       "    <tr>\n",
       "      <th>44580</th>\n",
       "      <td>Somalia</td>\n",
       "      <td>Yemen</td>\n",
       "      <td>NaN</td>\n",
       "    </tr>\n",
       "    <tr>\n",
       "      <th>44853</th>\n",
       "      <td>South Sudan</td>\n",
       "      <td>Central African Republic</td>\n",
       "      <td>NaN</td>\n",
       "    </tr>\n",
       "    <tr>\n",
       "      <th>44854</th>\n",
       "      <td>South Sudan</td>\n",
       "      <td>Chad</td>\n",
       "      <td>NaN</td>\n",
       "    </tr>\n",
       "    <tr>\n",
       "      <th>44872</th>\n",
       "      <td>South Sudan</td>\n",
       "      <td>Democratic Republic of the Congo</td>\n",
       "      <td>NaN</td>\n",
       "    </tr>\n",
       "    <tr>\n",
       "      <th>44878</th>\n",
       "      <td>South Sudan</td>\n",
       "      <td>Egypt</td>\n",
       "      <td>NaN</td>\n",
       "    </tr>\n",
       "    <tr>\n",
       "      <th>44881</th>\n",
       "      <td>South Sudan</td>\n",
       "      <td>Eritrea</td>\n",
       "      <td>NaN</td>\n",
       "    </tr>\n",
       "    <tr>\n",
       "      <th>44884</th>\n",
       "      <td>South Sudan</td>\n",
       "      <td>Ethiopia</td>\n",
       "      <td>NaN</td>\n",
       "    </tr>\n",
       "    <tr>\n",
       "      <th>44912</th>\n",
       "      <td>South Sudan</td>\n",
       "      <td>India</td>\n",
       "      <td>NaN</td>\n",
       "    </tr>\n",
       "    <tr>\n",
       "      <th>44924</th>\n",
       "      <td>South Sudan</td>\n",
       "      <td>Kenya</td>\n",
       "      <td>NaN</td>\n",
       "    </tr>\n",
       "    <tr>\n",
       "      <th>44933</th>\n",
       "      <td>South Sudan</td>\n",
       "      <td>Libya</td>\n",
       "      <td>NaN</td>\n",
       "    </tr>\n",
       "    <tr>\n",
       "      <th>44941</th>\n",
       "      <td>South Sudan</td>\n",
       "      <td>Mali</td>\n",
       "      <td>NaN</td>\n",
       "    </tr>\n",
       "    <tr>\n",
       "      <th>44965</th>\n",
       "      <td>South Sudan</td>\n",
       "      <td>Nigeria</td>\n",
       "      <td>NaN</td>\n",
       "    </tr>\n",
       "    <tr>\n",
       "      <th>45011</th>\n",
       "      <td>South Sudan</td>\n",
       "      <td>Sudan</td>\n",
       "      <td>NaN</td>\n",
       "    </tr>\n",
       "    <tr>\n",
       "      <th>45028</th>\n",
       "      <td>South Sudan</td>\n",
       "      <td>Uganda</td>\n",
       "      <td>NaN</td>\n",
       "    </tr>\n",
       "  </tbody>\n",
       "</table>\n",
       "</div>"
      ],
      "text/plain": [
       "       Destination                            Origin  flow2005\n",
       "26065       Kuwait                       South Sudan       NaN\n",
       "31879   Montenegro                           Albania       NaN\n",
       "44580      Somalia                             Yemen       NaN\n",
       "44853  South Sudan          Central African Republic       NaN\n",
       "44854  South Sudan                              Chad       NaN\n",
       "44872  South Sudan  Democratic Republic of the Congo       NaN\n",
       "44878  South Sudan                             Egypt       NaN\n",
       "44881  South Sudan                           Eritrea       NaN\n",
       "44884  South Sudan                          Ethiopia       NaN\n",
       "44912  South Sudan                             India       NaN\n",
       "44924  South Sudan                             Kenya       NaN\n",
       "44933  South Sudan                             Libya       NaN\n",
       "44941  South Sudan                              Mali       NaN\n",
       "44965  South Sudan                           Nigeria       NaN\n",
       "45011  South Sudan                             Sudan       NaN\n",
       "45028  South Sudan                            Uganda       NaN"
      ]
     },
     "execution_count": 21,
     "metadata": {},
     "output_type": "execute_result"
    }
   ],
   "source": [
    "df_2005[df_2005.isnull().any(axis=1)]"
   ]
  },
  {
   "cell_type": "code",
   "execution_count": 22,
   "metadata": {},
   "outputs": [
    {
     "data": {
      "text/plain": [
       "0"
      ]
     },
     "execution_count": 22,
     "metadata": {},
     "output_type": "execute_result"
    }
   ],
   "source": [
    "df_2005 = df_2005.fillna(0)\n",
    "df_2005['flow2005'].isnull().sum()"
   ]
  },
  {
   "cell_type": "markdown",
   "metadata": {},
   "source": [
    "### 3.4 2000 Data "
   ]
  },
  {
   "cell_type": "code",
   "execution_count": 23,
   "metadata": {},
   "outputs": [
    {
     "data": {
      "text/html": [
       "<div>\n",
       "<style scoped>\n",
       "    .dataframe tbody tr th:only-of-type {\n",
       "        vertical-align: middle;\n",
       "    }\n",
       "\n",
       "    .dataframe tbody tr th {\n",
       "        vertical-align: top;\n",
       "    }\n",
       "\n",
       "    .dataframe thead th {\n",
       "        text-align: right;\n",
       "    }\n",
       "</style>\n",
       "<table border=\"1\" class=\"dataframe\">\n",
       "  <thead>\n",
       "    <tr style=\"text-align: right;\">\n",
       "      <th></th>\n",
       "      <th>Destination</th>\n",
       "      <th>Origin</th>\n",
       "      <th>flow2000</th>\n",
       "    </tr>\n",
       "  </thead>\n",
       "  <tbody>\n",
       "    <tr>\n",
       "      <th>0</th>\n",
       "      <td>Afghanistan</td>\n",
       "      <td>Albania</td>\n",
       "      <td>0.0</td>\n",
       "    </tr>\n",
       "    <tr>\n",
       "      <th>1</th>\n",
       "      <td>Afghanistan</td>\n",
       "      <td>Algeria</td>\n",
       "      <td>0.0</td>\n",
       "    </tr>\n",
       "    <tr>\n",
       "      <th>2</th>\n",
       "      <td>Afghanistan</td>\n",
       "      <td>American Samoa</td>\n",
       "      <td>0.0</td>\n",
       "    </tr>\n",
       "    <tr>\n",
       "      <th>3</th>\n",
       "      <td>Afghanistan</td>\n",
       "      <td>Andorra</td>\n",
       "      <td>0.0</td>\n",
       "    </tr>\n",
       "    <tr>\n",
       "      <th>4</th>\n",
       "      <td>Afghanistan</td>\n",
       "      <td>Angola</td>\n",
       "      <td>0.0</td>\n",
       "    </tr>\n",
       "  </tbody>\n",
       "</table>\n",
       "</div>"
      ],
      "text/plain": [
       "   Destination          Origin  flow2000\n",
       "0  Afghanistan         Albania       0.0\n",
       "1  Afghanistan         Algeria       0.0\n",
       "2  Afghanistan  American Samoa       0.0\n",
       "3  Afghanistan         Andorra       0.0\n",
       "4  Afghanistan          Angola       0.0"
      ]
     },
     "execution_count": 23,
     "metadata": {},
     "output_type": "execute_result"
    }
   ],
   "source": [
    "df_2000 = generate_yearly_data(df, int(2000), list_country, \"flow2000\", \"MigrationData05_19/EdgeList2000.csv\")\n",
    "df_2000.head()"
   ]
  },
  {
   "cell_type": "code",
   "execution_count": 24,
   "metadata": {},
   "outputs": [
    {
     "data": {
      "text/html": [
       "<div>\n",
       "<style scoped>\n",
       "    .dataframe tbody tr th:only-of-type {\n",
       "        vertical-align: middle;\n",
       "    }\n",
       "\n",
       "    .dataframe tbody tr th {\n",
       "        vertical-align: top;\n",
       "    }\n",
       "\n",
       "    .dataframe thead th {\n",
       "        text-align: right;\n",
       "    }\n",
       "</style>\n",
       "<table border=\"1\" class=\"dataframe\">\n",
       "  <thead>\n",
       "    <tr style=\"text-align: right;\">\n",
       "      <th></th>\n",
       "      <th>Destination</th>\n",
       "      <th>Origin</th>\n",
       "      <th>flow2000</th>\n",
       "    </tr>\n",
       "  </thead>\n",
       "  <tbody>\n",
       "    <tr>\n",
       "      <th>3946</th>\n",
       "      <td>Barbados</td>\n",
       "      <td>Belize</td>\n",
       "      <td>NaN</td>\n",
       "    </tr>\n",
       "    <tr>\n",
       "      <th>3948</th>\n",
       "      <td>Barbados</td>\n",
       "      <td>Bermuda</td>\n",
       "      <td>NaN</td>\n",
       "    </tr>\n",
       "    <tr>\n",
       "      <th>3969</th>\n",
       "      <td>Barbados</td>\n",
       "      <td>China</td>\n",
       "      <td>NaN</td>\n",
       "    </tr>\n",
       "    <tr>\n",
       "      <th>3979</th>\n",
       "      <td>Barbados</td>\n",
       "      <td>Cuba</td>\n",
       "      <td>NaN</td>\n",
       "    </tr>\n",
       "    <tr>\n",
       "      <th>4019</th>\n",
       "      <td>Barbados</td>\n",
       "      <td>Haiti</td>\n",
       "      <td>NaN</td>\n",
       "    </tr>\n",
       "  </tbody>\n",
       "</table>\n",
       "</div>"
      ],
      "text/plain": [
       "     Destination   Origin  flow2000\n",
       "3946    Barbados   Belize       NaN\n",
       "3948    Barbados  Bermuda       NaN\n",
       "3969    Barbados    China       NaN\n",
       "3979    Barbados     Cuba       NaN\n",
       "4019    Barbados    Haiti       NaN"
      ]
     },
     "execution_count": 24,
     "metadata": {},
     "output_type": "execute_result"
    }
   ],
   "source": [
    "df_2000['flow2000'].isnull().sum()\n",
    "df_2000[df_2000.isnull().any(axis=1)].head()"
   ]
  },
  {
   "cell_type": "code",
   "execution_count": 25,
   "metadata": {},
   "outputs": [
    {
     "data": {
      "text/plain": [
       "0"
      ]
     },
     "execution_count": 25,
     "metadata": {},
     "output_type": "execute_result"
    }
   ],
   "source": [
    "df_2000 = df_2000.fillna(0)\n",
    "df_2000['flow2000'].isnull().sum()"
   ]
  },
  {
   "cell_type": "markdown",
   "metadata": {},
   "source": [
    "## 4 Calculate increase rate "
   ]
  },
  {
   "cell_type": "code",
   "execution_count": 26,
   "metadata": {},
   "outputs": [
    {
     "data": {
      "text/html": [
       "<div>\n",
       "<style scoped>\n",
       "    .dataframe tbody tr th:only-of-type {\n",
       "        vertical-align: middle;\n",
       "    }\n",
       "\n",
       "    .dataframe tbody tr th {\n",
       "        vertical-align: top;\n",
       "    }\n",
       "\n",
       "    .dataframe thead th {\n",
       "        text-align: right;\n",
       "    }\n",
       "</style>\n",
       "<table border=\"1\" class=\"dataframe\">\n",
       "  <thead>\n",
       "    <tr style=\"text-align: right;\">\n",
       "      <th></th>\n",
       "      <th>Destination</th>\n",
       "      <th>Origin</th>\n",
       "      <th>flow2000</th>\n",
       "      <th>flow2005</th>\n",
       "      <th>flow2010</th>\n",
       "      <th>flow2015</th>\n",
       "      <th>flow2019</th>\n",
       "    </tr>\n",
       "  </thead>\n",
       "  <tbody>\n",
       "    <tr>\n",
       "      <th>0</th>\n",
       "      <td>Afghanistan</td>\n",
       "      <td>Albania</td>\n",
       "      <td>0.0</td>\n",
       "      <td>0.0</td>\n",
       "      <td>0.0</td>\n",
       "      <td>0.0</td>\n",
       "      <td>0.0</td>\n",
       "    </tr>\n",
       "    <tr>\n",
       "      <th>1</th>\n",
       "      <td>Afghanistan</td>\n",
       "      <td>Algeria</td>\n",
       "      <td>0.0</td>\n",
       "      <td>0.0</td>\n",
       "      <td>0.0</td>\n",
       "      <td>0.0</td>\n",
       "      <td>0.0</td>\n",
       "    </tr>\n",
       "    <tr>\n",
       "      <th>2</th>\n",
       "      <td>Afghanistan</td>\n",
       "      <td>American Samoa</td>\n",
       "      <td>0.0</td>\n",
       "      <td>0.0</td>\n",
       "      <td>0.0</td>\n",
       "      <td>0.0</td>\n",
       "      <td>0.0</td>\n",
       "    </tr>\n",
       "    <tr>\n",
       "      <th>3</th>\n",
       "      <td>Afghanistan</td>\n",
       "      <td>Andorra</td>\n",
       "      <td>0.0</td>\n",
       "      <td>0.0</td>\n",
       "      <td>0.0</td>\n",
       "      <td>0.0</td>\n",
       "      <td>0.0</td>\n",
       "    </tr>\n",
       "    <tr>\n",
       "      <th>4</th>\n",
       "      <td>Afghanistan</td>\n",
       "      <td>Angola</td>\n",
       "      <td>0.0</td>\n",
       "      <td>0.0</td>\n",
       "      <td>0.0</td>\n",
       "      <td>0.0</td>\n",
       "      <td>0.0</td>\n",
       "    </tr>\n",
       "  </tbody>\n",
       "</table>\n",
       "</div>"
      ],
      "text/plain": [
       "   Destination          Origin  flow2000  flow2005  flow2010  flow2015  \\\n",
       "0  Afghanistan         Albania       0.0       0.0       0.0       0.0   \n",
       "1  Afghanistan         Algeria       0.0       0.0       0.0       0.0   \n",
       "2  Afghanistan  American Samoa       0.0       0.0       0.0       0.0   \n",
       "3  Afghanistan         Andorra       0.0       0.0       0.0       0.0   \n",
       "4  Afghanistan          Angola       0.0       0.0       0.0       0.0   \n",
       "\n",
       "   flow2019  \n",
       "0       0.0  \n",
       "1       0.0  \n",
       "2       0.0  \n",
       "3       0.0  \n",
       "4       0.0  "
      ]
     },
     "execution_count": 26,
     "metadata": {},
     "output_type": "execute_result"
    }
   ],
   "source": [
    "# merge all flow data into one df\n",
    "df_all = df_2000.copy()\n",
    "df_all['flow2005'] = df_2005['flow2005']\n",
    "df_all['flow2010'] = df_2010['flow2010']\n",
    "df_all['flow2015'] = df_2015['flow2015']\n",
    "df_all['flow2019'] = df_2019['flow2019']\n",
    "df_all.head()"
   ]
  },
  {
   "cell_type": "code",
   "execution_count": 27,
   "metadata": {},
   "outputs": [
    {
     "data": {
      "text/plain": [
       "Destination     object\n",
       "Origin          object\n",
       "flow2000       float64\n",
       "flow2005       float64\n",
       "flow2010       float64\n",
       "flow2015       float64\n",
       "flow2019       float64\n",
       "dtype: object"
      ]
     },
     "execution_count": 27,
     "metadata": {},
     "output_type": "execute_result"
    }
   ],
   "source": [
    "df_all.dtypes"
   ]
  },
  {
   "cell_type": "markdown",
   "metadata": {},
   "source": [
    "### 4.1 2000 - 2005 increase rate "
   ]
  },
  {
   "cell_type": "code",
   "execution_count": 28,
   "metadata": {},
   "outputs": [],
   "source": [
    "# Calcualte migration flow increase rate\n",
    "df_all['increase_rate_2000_2005'] = 100 * ((df_all['flow2005'] - df_all['flow2000'])/df_all['flow2000'])\n",
    "df_all['increase_rate_2000_2005'] = df_all['increase_rate_2000_2005'].fillna(0)"
   ]
  },
  {
   "cell_type": "code",
   "execution_count": 29,
   "metadata": {},
   "outputs": [],
   "source": [
    "df_all.loc[~np.isfinite(df_all['increase_rate_2000_2005']), 'increase_rate_2000_2005'] = float(0)"
   ]
  },
  {
   "cell_type": "markdown",
   "metadata": {},
   "source": [
    "### 4.1 2005 - 2010 increase rate"
   ]
  },
  {
   "cell_type": "code",
   "execution_count": 30,
   "metadata": {},
   "outputs": [],
   "source": [
    "# Calcualte migration flow increase rate\n",
    "df_all['increase_rate_2005_2010'] = 100 * ((df_all['flow2010'] - df_all['flow2005'])/df_all['flow2005'])\n",
    "df_all['increase_rate_2005_2010'] = df_all['increase_rate_2005_2010'].fillna(0)"
   ]
  },
  {
   "cell_type": "code",
   "execution_count": 31,
   "metadata": {},
   "outputs": [],
   "source": [
    "df_all.loc[~np.isfinite(df_all['increase_rate_2005_2010']), 'increase_rate_2005_2010'] = float(0)"
   ]
  },
  {
   "cell_type": "markdown",
   "metadata": {},
   "source": [
    "### 4.2 2010 - 2015 increase rate"
   ]
  },
  {
   "cell_type": "code",
   "execution_count": 32,
   "metadata": {},
   "outputs": [],
   "source": [
    "# Calcualte migration flow increase rate\n",
    "df_all['increase_rate_2010_2015'] = 100 * ((df_all['flow2015'] - df_all['flow2010'])/df_all['flow2010'])\n",
    "df_all['increase_rate_2010_2015'] = df_all['increase_rate_2010_2015'].fillna(0)"
   ]
  },
  {
   "cell_type": "code",
   "execution_count": 33,
   "metadata": {},
   "outputs": [],
   "source": [
    "df_all.loc[~np.isfinite(df_all['increase_rate_2010_2015']), 'increase_rate_2010_2015'] = float(0)"
   ]
  },
  {
   "cell_type": "markdown",
   "metadata": {},
   "source": [
    "### 4.3 2015 - 2019 increase rate "
   ]
  },
  {
   "cell_type": "code",
   "execution_count": 34,
   "metadata": {},
   "outputs": [],
   "source": [
    "# Calcualte migration flow increase rate\n",
    "df_all['increase_rate_2015_2019'] = 100 * ((df_all['flow2019'] - df_all['flow2015'])/df_all['flow2015'])\n",
    "df_all['increase_rate_2015_2019'] = df_all['increase_rate_2015_2019'].fillna(0)"
   ]
  },
  {
   "cell_type": "code",
   "execution_count": 35,
   "metadata": {},
   "outputs": [],
   "source": [
    "df_all.loc[~np.isfinite(df_all['increase_rate_2015_2019']), 'increase_rate_2015_2019'] = float(0)"
   ]
  },
  {
   "cell_type": "code",
   "execution_count": 36,
   "metadata": {},
   "outputs": [
    {
     "data": {
      "text/html": [
       "<div>\n",
       "<style scoped>\n",
       "    .dataframe tbody tr th:only-of-type {\n",
       "        vertical-align: middle;\n",
       "    }\n",
       "\n",
       "    .dataframe tbody tr th {\n",
       "        vertical-align: top;\n",
       "    }\n",
       "\n",
       "    .dataframe thead th {\n",
       "        text-align: right;\n",
       "    }\n",
       "</style>\n",
       "<table border=\"1\" class=\"dataframe\">\n",
       "  <thead>\n",
       "    <tr style=\"text-align: right;\">\n",
       "      <th></th>\n",
       "      <th>Destination</th>\n",
       "      <th>Origin</th>\n",
       "      <th>flow2000</th>\n",
       "      <th>flow2005</th>\n",
       "      <th>flow2010</th>\n",
       "      <th>flow2015</th>\n",
       "      <th>flow2019</th>\n",
       "      <th>increase_rate_2000_2005</th>\n",
       "      <th>increase_rate_2005_2010</th>\n",
       "      <th>increase_rate_2010_2015</th>\n",
       "      <th>increase_rate_2015_2019</th>\n",
       "    </tr>\n",
       "  </thead>\n",
       "  <tbody>\n",
       "    <tr>\n",
       "      <th>0</th>\n",
       "      <td>Afghanistan</td>\n",
       "      <td>Albania</td>\n",
       "      <td>0.0</td>\n",
       "      <td>0.0</td>\n",
       "      <td>0.0</td>\n",
       "      <td>0.0</td>\n",
       "      <td>0.0</td>\n",
       "      <td>0.0</td>\n",
       "      <td>0.0</td>\n",
       "      <td>0.0</td>\n",
       "      <td>0.0</td>\n",
       "    </tr>\n",
       "    <tr>\n",
       "      <th>1</th>\n",
       "      <td>Afghanistan</td>\n",
       "      <td>Algeria</td>\n",
       "      <td>0.0</td>\n",
       "      <td>0.0</td>\n",
       "      <td>0.0</td>\n",
       "      <td>0.0</td>\n",
       "      <td>0.0</td>\n",
       "      <td>0.0</td>\n",
       "      <td>0.0</td>\n",
       "      <td>0.0</td>\n",
       "      <td>0.0</td>\n",
       "    </tr>\n",
       "  </tbody>\n",
       "</table>\n",
       "</div>"
      ],
      "text/plain": [
       "   Destination   Origin  flow2000  flow2005  flow2010  flow2015  flow2019  \\\n",
       "0  Afghanistan  Albania       0.0       0.0       0.0       0.0       0.0   \n",
       "1  Afghanistan  Algeria       0.0       0.0       0.0       0.0       0.0   \n",
       "\n",
       "   increase_rate_2000_2005  increase_rate_2005_2010  increase_rate_2010_2015  \\\n",
       "0                      0.0                      0.0                      0.0   \n",
       "1                      0.0                      0.0                      0.0   \n",
       "\n",
       "   increase_rate_2015_2019  \n",
       "0                      0.0  \n",
       "1                      0.0  "
      ]
     },
     "execution_count": 36,
     "metadata": {},
     "output_type": "execute_result"
    }
   ],
   "source": [
    "df_all.head(2)"
   ]
  },
  {
   "cell_type": "code",
   "execution_count": null,
   "metadata": {},
   "outputs": [],
   "source": []
  },
  {
   "cell_type": "code",
   "execution_count": 37,
   "metadata": {},
   "outputs": [
    {
     "data": {
      "text/html": [
       "<div>\n",
       "<style scoped>\n",
       "    .dataframe tbody tr th:only-of-type {\n",
       "        vertical-align: middle;\n",
       "    }\n",
       "\n",
       "    .dataframe tbody tr th {\n",
       "        vertical-align: top;\n",
       "    }\n",
       "\n",
       "    .dataframe thead th {\n",
       "        text-align: right;\n",
       "    }\n",
       "</style>\n",
       "<table border=\"1\" class=\"dataframe\">\n",
       "  <thead>\n",
       "    <tr style=\"text-align: right;\">\n",
       "      <th></th>\n",
       "      <th>Destination</th>\n",
       "      <th>Origin</th>\n",
       "      <th>flow2000</th>\n",
       "      <th>flow2005</th>\n",
       "      <th>flow2010</th>\n",
       "      <th>flow2015</th>\n",
       "      <th>flow2019</th>\n",
       "      <th>increase_rate_2000_2005</th>\n",
       "      <th>increase_rate_2005_2010</th>\n",
       "      <th>increase_rate_2010_2015</th>\n",
       "      <th>increase_rate_2015_2019</th>\n",
       "    </tr>\n",
       "  </thead>\n",
       "  <tbody>\n",
       "    <tr>\n",
       "      <th>168</th>\n",
       "      <td>Afghanistan</td>\n",
       "      <td>Republic of Moldova</td>\n",
       "      <td>0.0</td>\n",
       "      <td>0.0</td>\n",
       "      <td>0.0</td>\n",
       "      <td>0.0</td>\n",
       "      <td>0.0</td>\n",
       "      <td>0.0</td>\n",
       "      <td>0.0</td>\n",
       "      <td>0.0</td>\n",
       "      <td>0.0</td>\n",
       "    </tr>\n",
       "    <tr>\n",
       "      <th>169</th>\n",
       "      <td>Afghanistan</td>\n",
       "      <td>Réunion</td>\n",
       "      <td>0.0</td>\n",
       "      <td>0.0</td>\n",
       "      <td>0.0</td>\n",
       "      <td>0.0</td>\n",
       "      <td>0.0</td>\n",
       "      <td>0.0</td>\n",
       "      <td>0.0</td>\n",
       "      <td>0.0</td>\n",
       "      <td>0.0</td>\n",
       "    </tr>\n",
       "  </tbody>\n",
       "</table>\n",
       "</div>"
      ],
      "text/plain": [
       "     Destination               Origin  flow2000  flow2005  flow2010  flow2015  \\\n",
       "168  Afghanistan  Republic of Moldova       0.0       0.0       0.0       0.0   \n",
       "169  Afghanistan              Réunion       0.0       0.0       0.0       0.0   \n",
       "\n",
       "     flow2019  increase_rate_2000_2005  increase_rate_2005_2010  \\\n",
       "168       0.0                      0.0                      0.0   \n",
       "169       0.0                      0.0                      0.0   \n",
       "\n",
       "     increase_rate_2010_2015  increase_rate_2015_2019  \n",
       "168                      0.0                      0.0  \n",
       "169                      0.0                      0.0  "
      ]
     },
     "execution_count": 37,
     "metadata": {},
     "output_type": "execute_result"
    }
   ],
   "source": [
    "df_all.iloc[168:170]"
   ]
  },
  {
   "cell_type": "markdown",
   "metadata": {},
   "source": [
    "## 5 Export edgelist csv file "
   ]
  },
  {
   "cell_type": "code",
   "execution_count": 38,
   "metadata": {},
   "outputs": [],
   "source": [
    "df_all.to_csv('EdgeList_All.csv', index=False)"
   ]
  },
  {
   "cell_type": "markdown",
   "metadata": {},
   "source": [
    "# Part II: Nodes csv "
   ]
  },
  {
   "cell_type": "markdown",
   "metadata": {},
   "source": [
    "## 1 Create the region feature (22 regions)"
   ]
  },
  {
   "cell_type": "code",
   "execution_count": 39,
   "metadata": {},
   "outputs": [
    {
     "data": {
      "text/plain": [
       "(['./RegionData\\\\Australia New Zealand.txt',\n",
       "  './RegionData\\\\Caribbean.txt',\n",
       "  './RegionData\\\\Central America.txt',\n",
       "  './RegionData\\\\Central Asia.txt',\n",
       "  './RegionData\\\\Eastern Africa.txt',\n",
       "  './RegionData\\\\Eastern Asia.txt',\n",
       "  './RegionData\\\\Eastern Europe.txt',\n",
       "  './RegionData\\\\Melanesia.txt',\n",
       "  './RegionData\\\\Micronesia.txt',\n",
       "  './RegionData\\\\Middle Africa.txt',\n",
       "  './RegionData\\\\Northern Africa.txt',\n",
       "  './RegionData\\\\Northern America.txt',\n",
       "  './RegionData\\\\Northern Europe.txt',\n",
       "  './RegionData\\\\Polynesia.txt',\n",
       "  './RegionData\\\\South America.txt',\n",
       "  './RegionData\\\\South Eastern Asia.txt',\n",
       "  './RegionData\\\\Southern Africa.txt',\n",
       "  './RegionData\\\\Southern Asia.txt',\n",
       "  './RegionData\\\\Southern Europe.txt',\n",
       "  './RegionData\\\\Western Africa.txt',\n",
       "  './RegionData\\\\Western Asia.txt',\n",
       "  './RegionData\\\\Western Europe.txt'],\n",
       " ['Australia New Zealand',\n",
       "  'Caribbean',\n",
       "  'Central America',\n",
       "  'Central Asia',\n",
       "  'Eastern Africa',\n",
       "  'Eastern Asia',\n",
       "  'Eastern Europe',\n",
       "  'Melanesia',\n",
       "  'Micronesia',\n",
       "  'Middle Africa',\n",
       "  'Northern Africa',\n",
       "  'Northern America',\n",
       "  'Northern Europe',\n",
       "  'Polynesia',\n",
       "  'South America',\n",
       "  'South Eastern Asia',\n",
       "  'Southern Africa',\n",
       "  'Southern Asia',\n",
       "  'Southern Europe',\n",
       "  'Western Africa',\n",
       "  'Western Asia',\n",
       "  'Western Europe'])"
      ]
     },
     "execution_count": 39,
     "metadata": {},
     "output_type": "execute_result"
    }
   ],
   "source": [
    "def get_txt_paths(path):\n",
    "    txt_paths = []\n",
    "    txt_file_names = []\n",
    "    \n",
    "    for file in os.listdir(path):\n",
    "        # txt paths\n",
    "        single_file_path = os.path.join(path, file)\n",
    "        txt_paths.append(single_file_path)\n",
    "        \n",
    "        # txt file names\n",
    "        file_name = file[:-4]\n",
    "        txt_file_names.append(file_name)\n",
    "    \n",
    "    return txt_paths, txt_file_names\n",
    "\n",
    "path_name = \"./RegionData\"\n",
    "txt_path, txt_file_name = get_txt_paths(path_name)\n",
    "txt_path, txt_file_name"
   ]
  },
  {
   "cell_type": "code",
   "execution_count": 40,
   "metadata": {},
   "outputs": [
    {
     "data": {
      "text/plain": [
       "{'Australia New Zealand': [],\n",
       " 'Caribbean': [],\n",
       " 'Central America': [],\n",
       " 'Central Asia': [],\n",
       " 'Eastern Africa': [],\n",
       " 'Eastern Asia': [],\n",
       " 'Eastern Europe': [],\n",
       " 'Melanesia': [],\n",
       " 'Micronesia': [],\n",
       " 'Middle Africa': [],\n",
       " 'Northern Africa': [],\n",
       " 'Northern America': [],\n",
       " 'Northern Europe': [],\n",
       " 'Polynesia': [],\n",
       " 'South America': [],\n",
       " 'South Eastern Asia': [],\n",
       " 'Southern Africa': [],\n",
       " 'Southern Asia': [],\n",
       " 'Southern Europe': [],\n",
       " 'Western Africa': [],\n",
       " 'Western Asia': [],\n",
       " 'Western Europe': []}"
      ]
     },
     "execution_count": 40,
     "metadata": {},
     "output_type": "execute_result"
    }
   ],
   "source": [
    "# Create a dictionary to store region names and corresponding country names\n",
    "# Create a dict with region names as the keys\n",
    "region_country_dict = {}\n",
    "for region in txt_file_name:\n",
    "    region_country_dict[region] = []\n",
    "region_country_dict  "
   ]
  },
  {
   "cell_type": "code",
   "execution_count": 41,
   "metadata": {},
   "outputs": [
    {
     "data": {
      "text/plain": [
       "{'Australia New Zealand': ['Australia', 'New Zealand'],\n",
       " 'Caribbean': ['Anguilla',\n",
       "  'Antigua and Barbuda',\n",
       "  'Aruba',\n",
       "  'Bahamas',\n",
       "  'Barbados',\n",
       "  'British Virgin Islands',\n",
       "  'Bonaire, Sint Eustatius and Saba',\n",
       "  'Cayman Islands',\n",
       "  'Cuba',\n",
       "  'Curaçao',\n",
       "  'Dominica',\n",
       "  'Dominican Republic',\n",
       "  'Grenada',\n",
       "  'Guadeloupe',\n",
       "  'Haiti',\n",
       "  'Jamaica',\n",
       "  'Martinique',\n",
       "  'Montserrat',\n",
       "  'Puerto Rico',\n",
       "  'Saint Kitts and Nevis',\n",
       "  'Saint Lucia',\n",
       "  'Saint Vincent and the Grenadines',\n",
       "  'Sint Maarten (Dutch part)',\n",
       "  'Trinidad and Tobago',\n",
       "  'Turks and Caicos Islands',\n",
       "  'United States Virgin Islands'],\n",
       " 'Central America': ['Belize',\n",
       "  'Costa Rica',\n",
       "  'El Salvador',\n",
       "  'Guatemala',\n",
       "  'Honduras',\n",
       "  'Mexico',\n",
       "  'Nicaragua',\n",
       "  'Panama'],\n",
       " 'Central Asia': ['Kazakhstan',\n",
       "  'Kyrgyzstan',\n",
       "  'Tajikistan',\n",
       "  'Turkmenistan',\n",
       "  'Uzbekistan'],\n",
       " 'Eastern Africa': ['Burundi',\n",
       "  'Comoros',\n",
       "  'Djibouti',\n",
       "  'Eritrea',\n",
       "  'Ethiopia',\n",
       "  'Kenya',\n",
       "  'Madagascar',\n",
       "  'Malawi',\n",
       "  'Mauritius',\n",
       "  'Mayotte',\n",
       "  'Mozambique',\n",
       "  'Réunion',\n",
       "  'Rwanda',\n",
       "  'Seychelles',\n",
       "  'Somalia',\n",
       "  'South Sudan',\n",
       "  'Uganda',\n",
       "  'United Republic of Tanzania',\n",
       "  'Zambia',\n",
       "  'Zimbabwe'],\n",
       " 'Eastern Asia': ['China',\n",
       "  'China, Hong Kong SAR',\n",
       "  'China, Macao SAR',\n",
       "  \"Dem. People's Republic of Korea\",\n",
       "  'Japan',\n",
       "  'Mongolia',\n",
       "  'Republic of Korea'],\n",
       " 'Eastern Europe': ['Belarus',\n",
       "  'Bulgaria',\n",
       "  'Czechia',\n",
       "  'Hungary',\n",
       "  'Poland',\n",
       "  'Republic of Moldova',\n",
       "  'Romania',\n",
       "  'Russian Federation',\n",
       "  'Slovakia',\n",
       "  'Ukraine'],\n",
       " 'Melanesia': ['Fiji',\n",
       "  'New Caledonia',\n",
       "  'Papua New Guinea',\n",
       "  'Solomon Islands',\n",
       "  'Vanuatu'],\n",
       " 'Micronesia': ['Guam',\n",
       "  'Kiribati',\n",
       "  'Marshall Islands',\n",
       "  'Micronesia (Fed. States of)',\n",
       "  'Nauru',\n",
       "  'Northern Mariana Islands',\n",
       "  'Palau'],\n",
       " 'Middle Africa': ['Angola',\n",
       "  'Cameroon',\n",
       "  'Central African Republic',\n",
       "  'Chad',\n",
       "  'Congo',\n",
       "  'Democratic Republic of the Congo',\n",
       "  'Equatorial Guinea',\n",
       "  'Gabon',\n",
       "  'Sao Tome and Principe'],\n",
       " 'Northern Africa': ['Algeria',\n",
       "  'Egypt',\n",
       "  'Libya',\n",
       "  'Morocco',\n",
       "  'Sudan',\n",
       "  'Tunisia',\n",
       "  'Western Sahara'],\n",
       " 'Northern America': ['Bermuda',\n",
       "  'Canada',\n",
       "  'Greenland',\n",
       "  'Saint Pierre and Miquelon',\n",
       "  'United States of America'],\n",
       " 'Northern Europe': ['Channel Islands',\n",
       "  'Denmark',\n",
       "  'Estonia',\n",
       "  'Faroe Islands',\n",
       "  'Finland',\n",
       "  'Iceland',\n",
       "  'Ireland',\n",
       "  'Isle of Man',\n",
       "  'Latvia',\n",
       "  'Lithuania',\n",
       "  'Norway',\n",
       "  'Sweden',\n",
       "  'United Kingdom'],\n",
       " 'Polynesia': ['American Samoa',\n",
       "  'Cook Islands',\n",
       "  'French Polynesia',\n",
       "  'Niue',\n",
       "  'Samoa',\n",
       "  'Tokelau',\n",
       "  'Tonga',\n",
       "  'Tuvalu',\n",
       "  'Wallis and Futuna Islands'],\n",
       " 'South America': ['Argentina',\n",
       "  'Bolivia (Plurinational State of)',\n",
       "  'Brazil',\n",
       "  'Chile',\n",
       "  'Colombia',\n",
       "  'Ecuador',\n",
       "  'Falkland Islands (Malvinas)',\n",
       "  'French Guiana',\n",
       "  'Guyana',\n",
       "  'Paraguay',\n",
       "  'Peru',\n",
       "  'Suriname',\n",
       "  'Uruguay',\n",
       "  'Venezuela (Bolivarian Republic of)'],\n",
       " 'South Eastern Asia': ['Brunei Darussalam',\n",
       "  'Cambodia',\n",
       "  'Indonesia',\n",
       "  \"Lao People's Democratic Republic\",\n",
       "  'Malaysia',\n",
       "  'Myanmar',\n",
       "  'Philippines',\n",
       "  'Singapore',\n",
       "  'Thailand',\n",
       "  'Timor-Leste',\n",
       "  'Viet Nam'],\n",
       " 'Southern Africa': ['Botswana',\n",
       "  'Eswatini',\n",
       "  'Lesotho',\n",
       "  'Namibia',\n",
       "  'South Africa'],\n",
       " 'Southern Asia': ['Afghanistan',\n",
       "  'Bangladesh',\n",
       "  'Bhutan',\n",
       "  'India',\n",
       "  'Iran (Islamic Republic of)',\n",
       "  'Maldives',\n",
       "  'Nepal',\n",
       "  'Pakistan',\n",
       "  'Sri Lanka'],\n",
       " 'Southern Europe': ['Albania',\n",
       "  'Andorra',\n",
       "  'Bosnia and Herzegovina',\n",
       "  'Croatia',\n",
       "  'Gibraltar',\n",
       "  'Greece',\n",
       "  'Holy See',\n",
       "  'Italy',\n",
       "  'Malta',\n",
       "  'Montenegro',\n",
       "  'North Macedonia',\n",
       "  'Portugal',\n",
       "  'San Marino',\n",
       "  'Serbia',\n",
       "  'Slovenia',\n",
       "  'Spain'],\n",
       " 'Western Africa': ['Benin',\n",
       "  'Burkina Faso',\n",
       "  'Cabo Verde',\n",
       "  \"Côte d'Ivoire\",\n",
       "  'Gambia',\n",
       "  'Ghana',\n",
       "  'Guinea',\n",
       "  'Guinea-Bissau',\n",
       "  'Liberia',\n",
       "  'Mali',\n",
       "  'Mauritania',\n",
       "  'Niger',\n",
       "  'Nigeria',\n",
       "  'Saint Helena',\n",
       "  'Senegal',\n",
       "  'Sierra Leone',\n",
       "  'Togo'],\n",
       " 'Western Asia': ['Armenia',\n",
       "  'Azerbaijan',\n",
       "  'Bahrain',\n",
       "  'Cyprus',\n",
       "  'Georgia',\n",
       "  'Iraq',\n",
       "  'Israel',\n",
       "  'Jordan',\n",
       "  'Kuwait',\n",
       "  'Lebanon',\n",
       "  'Oman',\n",
       "  'Qatar',\n",
       "  'Saudi Arabia',\n",
       "  'State of Palestine',\n",
       "  'Syrian Arab Republic',\n",
       "  'Turkey',\n",
       "  'United Arab Emirates',\n",
       "  'Yemen'],\n",
       " 'Western Europe': ['Austria',\n",
       "  'Belgium',\n",
       "  'France',\n",
       "  'Germany',\n",
       "  'Liechtenstein',\n",
       "  'Luxembourg',\n",
       "  'Monaco',\n",
       "  'Netherlands',\n",
       "  'Switzerland']}"
      ]
     },
     "execution_count": 41,
     "metadata": {},
     "output_type": "execute_result"
    }
   ],
   "source": [
    "# Read the countries in each txt file\n",
    "# and Append the list of countries to the corresponding key\n",
    "path_name = \"./RegionData\"\n",
    "for region in txt_file_name:\n",
    "    new_path = path_name + \"\\\\\" + region + \".txt\"\n",
    "    txt_file = open(new_path, encoding='utf-8')\n",
    "    txt = txt_file.read().split(\"\\n\")\n",
    "    txt_file.close()\n",
    "    region_country_dict[region] = txt\n",
    "\n",
    "region_country_dict"
   ]
  },
  {
   "cell_type": "code",
   "execution_count": 42,
   "metadata": {},
   "outputs": [],
   "source": [
    "df_nodes = df_2019[[\"Destination\"]].sort_values(by=['Destination'], ascending=True)\n",
    "df_nodes = df_nodes.reset_index(drop=True)\n",
    "df_nodes = df_nodes.rename(columns={\"Destination\":\"Country\"})\n",
    "\n",
    "# Transform dict into a dataframe \n",
    "df_region = pd.DataFrame.from_dict(region_country_dict, orient='index')\n",
    "df_region = df_region.transpose()"
   ]
  },
  {
   "cell_type": "code",
   "execution_count": 43,
   "metadata": {},
   "outputs": [],
   "source": [
    "def generate_region_dfs(region_name, rc_dict, DF):\n",
    "    # test on one column first\n",
    "    region_name_1 = region_name\n",
    "\n",
    "    # get the value of the key and calculate the length of that value list\n",
    "    length = len(region_country_dict[region_name_1])\n",
    "\n",
    "    # get the rows of the chosen column\n",
    "    b = df_region[[region_name_1]][:length]\n",
    "\n",
    "    # create a new column \"Region\" with the corresponding region name\n",
    "    col_name = list(b.columns)\n",
    "    b['Region'] = col_name[0]\n",
    "    \n",
    "    return b"
   ]
  },
  {
   "cell_type": "code",
   "execution_count": 44,
   "metadata": {},
   "outputs": [
    {
     "data": {
      "text/html": [
       "<div>\n",
       "<style scoped>\n",
       "    .dataframe tbody tr th:only-of-type {\n",
       "        vertical-align: middle;\n",
       "    }\n",
       "\n",
       "    .dataframe tbody tr th {\n",
       "        vertical-align: top;\n",
       "    }\n",
       "\n",
       "    .dataframe thead th {\n",
       "        text-align: right;\n",
       "    }\n",
       "</style>\n",
       "<table border=\"1\" class=\"dataframe\">\n",
       "  <thead>\n",
       "    <tr style=\"text-align: right;\">\n",
       "      <th></th>\n",
       "      <th>Country</th>\n",
       "      <th>Region</th>\n",
       "    </tr>\n",
       "  </thead>\n",
       "  <tbody>\n",
       "    <tr>\n",
       "      <th>0</th>\n",
       "      <td>Australia</td>\n",
       "      <td>Australia New Zealand</td>\n",
       "    </tr>\n",
       "    <tr>\n",
       "      <th>1</th>\n",
       "      <td>New Zealand</td>\n",
       "      <td>Australia New Zealand</td>\n",
       "    </tr>\n",
       "    <tr>\n",
       "      <th>2</th>\n",
       "      <td>Anguilla</td>\n",
       "      <td>Caribbean</td>\n",
       "    </tr>\n",
       "    <tr>\n",
       "      <th>3</th>\n",
       "      <td>Antigua and Barbuda</td>\n",
       "      <td>Caribbean</td>\n",
       "    </tr>\n",
       "    <tr>\n",
       "      <th>4</th>\n",
       "      <td>Aruba</td>\n",
       "      <td>Caribbean</td>\n",
       "    </tr>\n",
       "  </tbody>\n",
       "</table>\n",
       "</div>"
      ],
      "text/plain": [
       "               Country                 Region\n",
       "0            Australia  Australia New Zealand\n",
       "1          New Zealand  Australia New Zealand\n",
       "2             Anguilla              Caribbean\n",
       "3  Antigua and Barbuda              Caribbean\n",
       "4                Aruba              Caribbean"
      ]
     },
     "execution_count": 44,
     "metadata": {},
     "output_type": "execute_result"
    }
   ],
   "source": [
    "# Using a loop to concat all sub-region dfs\n",
    "df_list = [\"df1\", \"df2\", \"df3\", \"df4\", \"df5\", \"df6\", \"df7\", \"df8\", \"df9\", \"df10\", \"df11\", \"df12\", \"df13\", \"df14\", \"df15\", \"df16\", \"df17\", \"df18\", \"df19\", \"df20\", \"df21\", \"df22\"]\n",
    "\n",
    "txt_file_name_short = txt_file_name[1:]\n",
    "i = 0\n",
    "for i in range(0, 22):\n",
    "    region_name = txt_file_name[i]\n",
    "    \n",
    "    df2 = generate_region_dfs(region_name, region_country_dict, df_region)\n",
    "    df2 = df2.rename(columns={region_name:\"Country\"})\n",
    "    df_list[i] = df2\n",
    "    i += 1\n",
    "\n",
    "result = pd.concat(df_list).reset_index(drop = True)\n",
    "result.head()"
   ]
  },
  {
   "cell_type": "markdown",
   "metadata": {},
   "source": [
    "## 2 Create a second region feature (7 regions)"
   ]
  },
  {
   "cell_type": "code",
   "execution_count": 45,
   "metadata": {},
   "outputs": [],
   "source": [
    "# Africa = {\"Sub_Saharan Arica\": [\"Eastern Africa\", \"Middle Africa\", \"Southern Africa\", \"Western Africa\"]}\n",
    "# AfricaAsia = {\"Northern Africa and Western Asia\": [\"Northern Africa\", \"Western Asia\"]}\n",
    "# CSAsia = {\"Central and Southern Asia\": [\"Central Asia\", \"Southern Asia\"]}\n",
    "# ESAsia = {\"Eastern and South Eastern Asia\": [\"Eastern Asia\", \"South Eastern Asia\"]}\n",
    "# America = {\"Latin America and The Caribbean\": [\"Caribbean\", \"Central America\", \"South America\"]}\n",
    "# Oceania = {\"Oceania\": [\"Australia New Zealand\", \"Melanesia\", \"Micronesia\", \"Polynesia\"]}\n",
    "# Europe = {\"Europe and Northern America\": [\"Eastern Europe\", \"Northern Europe\",\n",
    "#          \"Southern Europe\", \"Western Europe\", \"Northern America\"]}"
   ]
  },
  {
   "cell_type": "code",
   "execution_count": 46,
   "metadata": {},
   "outputs": [
    {
     "data": {
      "text/html": [
       "<div>\n",
       "<style scoped>\n",
       "    .dataframe tbody tr th:only-of-type {\n",
       "        vertical-align: middle;\n",
       "    }\n",
       "\n",
       "    .dataframe tbody tr th {\n",
       "        vertical-align: top;\n",
       "    }\n",
       "\n",
       "    .dataframe thead th {\n",
       "        text-align: right;\n",
       "    }\n",
       "</style>\n",
       "<table border=\"1\" class=\"dataframe\">\n",
       "  <thead>\n",
       "    <tr style=\"text-align: right;\">\n",
       "      <th></th>\n",
       "      <th>Country</th>\n",
       "      <th>Region</th>\n",
       "      <th>UN_Region</th>\n",
       "    </tr>\n",
       "  </thead>\n",
       "  <tbody>\n",
       "    <tr>\n",
       "      <th>0</th>\n",
       "      <td>Australia</td>\n",
       "      <td>Australia New Zealand</td>\n",
       "      <td>None</td>\n",
       "    </tr>\n",
       "    <tr>\n",
       "      <th>1</th>\n",
       "      <td>New Zealand</td>\n",
       "      <td>Australia New Zealand</td>\n",
       "      <td>None</td>\n",
       "    </tr>\n",
       "    <tr>\n",
       "      <th>2</th>\n",
       "      <td>Anguilla</td>\n",
       "      <td>Caribbean</td>\n",
       "      <td>None</td>\n",
       "    </tr>\n",
       "    <tr>\n",
       "      <th>3</th>\n",
       "      <td>Antigua and Barbuda</td>\n",
       "      <td>Caribbean</td>\n",
       "      <td>None</td>\n",
       "    </tr>\n",
       "    <tr>\n",
       "      <th>4</th>\n",
       "      <td>Aruba</td>\n",
       "      <td>Caribbean</td>\n",
       "      <td>None</td>\n",
       "    </tr>\n",
       "  </tbody>\n",
       "</table>\n",
       "</div>"
      ],
      "text/plain": [
       "               Country                 Region UN_Region\n",
       "0            Australia  Australia New Zealand      None\n",
       "1          New Zealand  Australia New Zealand      None\n",
       "2             Anguilla              Caribbean      None\n",
       "3  Antigua and Barbuda              Caribbean      None\n",
       "4                Aruba              Caribbean      None"
      ]
     },
     "execution_count": 46,
     "metadata": {},
     "output_type": "execute_result"
    }
   ],
   "source": [
    "result['UN_Region'] = None\n",
    "result.head()"
   ]
  },
  {
   "cell_type": "code",
   "execution_count": 47,
   "metadata": {},
   "outputs": [],
   "source": [
    "result2 = result.copy()"
   ]
  },
  {
   "cell_type": "code",
   "execution_count": 48,
   "metadata": {},
   "outputs": [],
   "source": [
    "result2['UN_Region'] = np.where(result2['Region'] == \"Eastern Africa\", \"Sub_Saharan Africa\", \n",
    "                        np.where(result2['Region'] == \"Middle Africa\", \"Sub_Saharan Africa\",\n",
    "                        np.where(result2['Region'] == \"Southern Africa\", \"Sub_Saharan Africa\",\n",
    "                        np.where(result2['Region'] == \"Western Africa\", \"Sub_Saharan Africa\",\n",
    "                        np.where(result2['Region'] == \"Northern Africa\", \"Northern Africa and Western Asia\",\n",
    "                        np.where(result2['Region'] == \"Western Asia\", \"Northern Africa and Western Asia\",\n",
    "                        np.where(result2['Region'] == \"Central Asia\", \"Central and Southern Asia\",\n",
    "                        np.where(result2['Region'] == \"Southern Asia\", \"Central and Southern Asia\",\n",
    "                        np.where(result2['Region'] == \"Eastern Asia\", \"Eastern and South Eastern Asia\",\n",
    "                        np.where(result2['Region'] == \"South Eastern Asia\", \"Eastern and South Eastern Asia\",\n",
    "                        np.where(result2['Region'] == \"Caribbean\", \"Latin America and The Caribbean\",\n",
    "                        np.where(result2['Region'] == \"Central America\", \"Latin America and The Caribbean\",\n",
    "                        np.where(result2['Region'] == \"South America\", \"Latin America and The Caribbean\",\n",
    "                        np.where(result2['Region'] == \"Australia New Zealand\", \"Oceania\",\n",
    "                        np.where(result2['Region'] == \"Melanesia\", \"Oceania\",\n",
    "                        np.where(result2['Region'] == \"Micronesia\", \"Oceania\",\n",
    "                        np.where(result2['Region'] == \"Polynesia\", \"Oceania\",\n",
    "                        np.where(result2['Region'] == \"Eastern Europe\", \"Europe and Northern America\",\n",
    "                        np.where(result2['Region'] == \"Northern Europe\", \"Europe and Northern America\",\n",
    "                        np.where(result2['Region'] == \"Southern Europe\", \"Europe and Northern America\",\n",
    "                        np.where(result2['Region'] == \"Western Europe\", \"Europe and Northern America\",\n",
    "                        np.where(result2['Region'] == \"Northern America\", \"Europe and Northern America\",\n",
    "                                 \"no match\"))))))))))))))))))))))\n"
   ]
  },
  {
   "cell_type": "code",
   "execution_count": 49,
   "metadata": {},
   "outputs": [
    {
     "data": {
      "text/html": [
       "<div>\n",
       "<style scoped>\n",
       "    .dataframe tbody tr th:only-of-type {\n",
       "        vertical-align: middle;\n",
       "    }\n",
       "\n",
       "    .dataframe tbody tr th {\n",
       "        vertical-align: top;\n",
       "    }\n",
       "\n",
       "    .dataframe thead th {\n",
       "        text-align: right;\n",
       "    }\n",
       "</style>\n",
       "<table border=\"1\" class=\"dataframe\">\n",
       "  <thead>\n",
       "    <tr style=\"text-align: right;\">\n",
       "      <th></th>\n",
       "      <th>Country</th>\n",
       "      <th>Region</th>\n",
       "      <th>UN_Region</th>\n",
       "    </tr>\n",
       "  </thead>\n",
       "  <tbody>\n",
       "    <tr>\n",
       "      <th>0</th>\n",
       "      <td>Australia</td>\n",
       "      <td>Australia New Zealand</td>\n",
       "      <td>Oceania</td>\n",
       "    </tr>\n",
       "    <tr>\n",
       "      <th>1</th>\n",
       "      <td>New Zealand</td>\n",
       "      <td>Australia New Zealand</td>\n",
       "      <td>Oceania</td>\n",
       "    </tr>\n",
       "    <tr>\n",
       "      <th>2</th>\n",
       "      <td>Anguilla</td>\n",
       "      <td>Caribbean</td>\n",
       "      <td>Latin America and The Caribbean</td>\n",
       "    </tr>\n",
       "    <tr>\n",
       "      <th>3</th>\n",
       "      <td>Antigua and Barbuda</td>\n",
       "      <td>Caribbean</td>\n",
       "      <td>Latin America and The Caribbean</td>\n",
       "    </tr>\n",
       "    <tr>\n",
       "      <th>4</th>\n",
       "      <td>Aruba</td>\n",
       "      <td>Caribbean</td>\n",
       "      <td>Latin America and The Caribbean</td>\n",
       "    </tr>\n",
       "  </tbody>\n",
       "</table>\n",
       "</div>"
      ],
      "text/plain": [
       "               Country                 Region                        UN_Region\n",
       "0            Australia  Australia New Zealand                          Oceania\n",
       "1          New Zealand  Australia New Zealand                          Oceania\n",
       "2             Anguilla              Caribbean  Latin America and The Caribbean\n",
       "3  Antigua and Barbuda              Caribbean  Latin America and The Caribbean\n",
       "4                Aruba              Caribbean  Latin America and The Caribbean"
      ]
     },
     "execution_count": 49,
     "metadata": {},
     "output_type": "execute_result"
    }
   ],
   "source": [
    "result2.head()"
   ]
  },
  {
   "cell_type": "markdown",
   "metadata": {},
   "source": [
    "## 3 Process influenza data"
   ]
  },
  {
   "cell_type": "markdown",
   "metadata": {},
   "source": [
    "### 3.1 Combine all influenza csv files "
   ]
  },
  {
   "cell_type": "code",
   "execution_count": 50,
   "metadata": {},
   "outputs": [],
   "source": [
    "# change current directory path\n",
    "os.chdir(\"./Influenza_165\")"
   ]
  },
  {
   "cell_type": "code",
   "execution_count": 51,
   "metadata": {},
   "outputs": [],
   "source": [
    "# set extension\n",
    "extension = 'csv'\n",
    "all_filenames = [i for i in glob.glob('*.{}'.format(extension))]\n",
    "\n",
    "# combine all files in the list\n",
    "combined_csv = pd.concat([pd.read_csv(f, header = 2, engine=\"python\") for f in all_filenames], sort=False)\n",
    "\n",
    "# export to csv\n",
    "#combined_csv.to_csv(\"a_combined_data.csv\", index=False, encoding='utf-8-sig')\n",
    "\n",
    "# reference: https://www.freecodecamp.org/news/how-to-combine-multiple-csv-files-with-8-lines-of-code-265183e0854/"
   ]
  },
  {
   "cell_type": "code",
   "execution_count": 52,
   "metadata": {},
   "outputs": [],
   "source": [
    "df = combined_csv.copy()"
   ]
  },
  {
   "cell_type": "code",
   "execution_count": 53,
   "metadata": {},
   "outputs": [
    {
     "data": {
      "text/plain": [
       "Index(['Country', 'WHOREGION', 'FLUREGION', 'Year', 'Week', 'SDATE', 'EDATE',\n",
       "       'SPEC_RECEIVED_NB', 'SPEC_PROCESSED_NB', 'AH1', 'AH1N12009', 'AH3',\n",
       "       'AH5', 'ANOTSUBTYPED', 'INF_A', 'BYAMAGATA', 'BVICTORIA',\n",
       "       'BNOTDETERMINED', 'INF_B', 'ALL_INF', 'ALL_INF2', 'TITLE'],\n",
       "      dtype='object')"
      ]
     },
     "execution_count": 53,
     "metadata": {},
     "output_type": "execute_result"
    }
   ],
   "source": [
    "df.columns"
   ]
  },
  {
   "cell_type": "markdown",
   "metadata": {},
   "source": [
    "### 3.2 Calculate influenza cases by country and by year "
   ]
  },
  {
   "cell_type": "code",
   "execution_count": 54,
   "metadata": {},
   "outputs": [
    {
     "data": {
      "text/plain": [
       "Country    False\n",
       "Year       False\n",
       "ALL_INF    False\n",
       "dtype: bool"
      ]
     },
     "execution_count": 54,
     "metadata": {},
     "output_type": "execute_result"
    }
   ],
   "source": [
    "# subset only useful columns\n",
    "df = df[['Country', 'Year', 'ALL_INF']]\n",
    "\n",
    "# fill nan with 0\n",
    "df_orig = df.copy()\n",
    "df = df.fillna(0)\n",
    "\n",
    "# apply group by function to the dataframe\n",
    "df_allinf = df.groupby(['Country', 'Year'])['ALL_INF'].sum()\n",
    "df_allinf = pd.DataFrame(df_allinf).reset_index()\n",
    "#df_allinf.head(2)\n",
    "\n",
    "# check null\n",
    "df_allinf.isnull().any()"
   ]
  },
  {
   "cell_type": "code",
   "execution_count": 55,
   "metadata": {},
   "outputs": [
    {
     "data": {
      "text/html": [
       "<div>\n",
       "<style scoped>\n",
       "    .dataframe tbody tr th:only-of-type {\n",
       "        vertical-align: middle;\n",
       "    }\n",
       "\n",
       "    .dataframe tbody tr th {\n",
       "        vertical-align: top;\n",
       "    }\n",
       "\n",
       "    .dataframe thead th {\n",
       "        text-align: right;\n",
       "    }\n",
       "</style>\n",
       "<table border=\"1\" class=\"dataframe\">\n",
       "  <thead>\n",
       "    <tr style=\"text-align: right;\">\n",
       "      <th>Year</th>\n",
       "      <th>Country</th>\n",
       "      <th>Influenza2005</th>\n",
       "      <th>Influenza2006</th>\n",
       "      <th>Influenza2007</th>\n",
       "      <th>Influenza2008</th>\n",
       "      <th>Influenza2009</th>\n",
       "      <th>Influenza2010</th>\n",
       "      <th>Influenza2011</th>\n",
       "      <th>Influenza2012</th>\n",
       "      <th>Influenza2013</th>\n",
       "      <th>Influenza2014</th>\n",
       "      <th>Influenza2015</th>\n",
       "      <th>Influenza2016</th>\n",
       "      <th>Influenza2017</th>\n",
       "      <th>Influenza2018</th>\n",
       "      <th>Influenza2019</th>\n",
       "    </tr>\n",
       "  </thead>\n",
       "  <tbody>\n",
       "    <tr>\n",
       "      <th>0</th>\n",
       "      <td>Afghanistan</td>\n",
       "      <td>0.0</td>\n",
       "      <td>0.0</td>\n",
       "      <td>0.0</td>\n",
       "      <td>0.0</td>\n",
       "      <td>283.0</td>\n",
       "      <td>26.0</td>\n",
       "      <td>5.0</td>\n",
       "      <td>2.0</td>\n",
       "      <td>0.0</td>\n",
       "      <td>0.0</td>\n",
       "      <td>13.0</td>\n",
       "      <td>257.0</td>\n",
       "      <td>108.0</td>\n",
       "      <td>187.0</td>\n",
       "      <td>278.0</td>\n",
       "    </tr>\n",
       "    <tr>\n",
       "      <th>1</th>\n",
       "      <td>Albania</td>\n",
       "      <td>0.0</td>\n",
       "      <td>0.0</td>\n",
       "      <td>0.0</td>\n",
       "      <td>0.0</td>\n",
       "      <td>0.0</td>\n",
       "      <td>10.0</td>\n",
       "      <td>133.0</td>\n",
       "      <td>122.0</td>\n",
       "      <td>97.0</td>\n",
       "      <td>157.0</td>\n",
       "      <td>67.0</td>\n",
       "      <td>314.0</td>\n",
       "      <td>136.0</td>\n",
       "      <td>350.0</td>\n",
       "      <td>527.0</td>\n",
       "    </tr>\n",
       "  </tbody>\n",
       "</table>\n",
       "</div>"
      ],
      "text/plain": [
       "Year      Country  Influenza2005  Influenza2006  Influenza2007  Influenza2008  \\\n",
       "0     Afghanistan            0.0            0.0            0.0            0.0   \n",
       "1         Albania            0.0            0.0            0.0            0.0   \n",
       "\n",
       "Year  Influenza2009  Influenza2010  Influenza2011  Influenza2012  \\\n",
       "0             283.0           26.0            5.0            2.0   \n",
       "1               0.0           10.0          133.0          122.0   \n",
       "\n",
       "Year  Influenza2013  Influenza2014  Influenza2015  Influenza2016  \\\n",
       "0               0.0            0.0           13.0          257.0   \n",
       "1              97.0          157.0           67.0          314.0   \n",
       "\n",
       "Year  Influenza2017  Influenza2018  Influenza2019  \n",
       "0             108.0          187.0          278.0  \n",
       "1             136.0          350.0          527.0  "
      ]
     },
     "execution_count": 55,
     "metadata": {},
     "output_type": "execute_result"
    }
   ],
   "source": [
    "# Pivot table\n",
    "df_allinf = df_allinf.pivot(index = 'Country', columns = 'Year',\n",
    "                            values = 'ALL_INF').add_prefix('Influenza').reset_index()\n",
    "df_allinf.head(2)"
   ]
  },
  {
   "cell_type": "code",
   "execution_count": 56,
   "metadata": {},
   "outputs": [
    {
     "data": {
      "text/plain": [
       "Year\n",
       "Country          False\n",
       "Influenza2005     True\n",
       "Influenza2006     True\n",
       "Influenza2007     True\n",
       "Influenza2008     True\n",
       "Influenza2009     True\n",
       "Influenza2010    False\n",
       "Influenza2011    False\n",
       "Influenza2012    False\n",
       "Influenza2013    False\n",
       "Influenza2014    False\n",
       "Influenza2015    False\n",
       "Influenza2016    False\n",
       "Influenza2017    False\n",
       "Influenza2018    False\n",
       "Influenza2019    False\n",
       "dtype: bool"
      ]
     },
     "execution_count": 56,
     "metadata": {},
     "output_type": "execute_result"
    }
   ],
   "source": [
    "df_allinf.isnull().any()"
   ]
  },
  {
   "cell_type": "code",
   "execution_count": 57,
   "metadata": {},
   "outputs": [
    {
     "data": {
      "text/plain": [
       "Year\n",
       "Country          False\n",
       "Influenza2005    False\n",
       "Influenza2006    False\n",
       "Influenza2007    False\n",
       "Influenza2008    False\n",
       "Influenza2009    False\n",
       "Influenza2010    False\n",
       "Influenza2011    False\n",
       "Influenza2012    False\n",
       "Influenza2013    False\n",
       "Influenza2014    False\n",
       "Influenza2015    False\n",
       "Influenza2016    False\n",
       "Influenza2017    False\n",
       "Influenza2018    False\n",
       "Influenza2019    False\n",
       "dtype: bool"
      ]
     },
     "execution_count": 57,
     "metadata": {},
     "output_type": "execute_result"
    }
   ],
   "source": [
    "df_allinf = df_allinf.fillna(0)\n",
    "df_allinf.isnull().any()"
   ]
  },
  {
   "cell_type": "code",
   "execution_count": 58,
   "metadata": {},
   "outputs": [
    {
     "data": {
      "text/plain": [
       "Year\n",
       "Country           object\n",
       "Influenza2005    float64\n",
       "Influenza2006    float64\n",
       "Influenza2007    float64\n",
       "Influenza2008    float64\n",
       "Influenza2009    float64\n",
       "Influenza2010    float64\n",
       "Influenza2011    float64\n",
       "Influenza2012    float64\n",
       "Influenza2013    float64\n",
       "Influenza2014    float64\n",
       "Influenza2015    float64\n",
       "Influenza2016    float64\n",
       "Influenza2017    float64\n",
       "Influenza2018    float64\n",
       "Influenza2019    float64\n",
       "dtype: object"
      ]
     },
     "execution_count": 58,
     "metadata": {},
     "output_type": "execute_result"
    }
   ],
   "source": [
    "df_allinf.dtypes"
   ]
  },
  {
   "cell_type": "markdown",
   "metadata": {},
   "source": [
    "### 3.3 Unify country names"
   ]
  },
  {
   "cell_type": "code",
   "execution_count": 59,
   "metadata": {},
   "outputs": [
    {
     "data": {
      "text/plain": [
       "\"Côte d'Ivoire\""
      ]
     },
     "execution_count": 59,
     "metadata": {},
     "output_type": "execute_result"
    }
   ],
   "source": [
    "# find the country name that used by UN\n",
    "UN_cote_divore = region_country_dict['Western Africa'][3]\n",
    "UN_cote_divore"
   ]
  },
  {
   "cell_type": "code",
   "execution_count": 60,
   "metadata": {},
   "outputs": [
    {
     "data": {
      "text/html": [
       "<div>\n",
       "<style scoped>\n",
       "    .dataframe tbody tr th:only-of-type {\n",
       "        vertical-align: middle;\n",
       "    }\n",
       "\n",
       "    .dataframe tbody tr th {\n",
       "        vertical-align: top;\n",
       "    }\n",
       "\n",
       "    .dataframe thead th {\n",
       "        text-align: right;\n",
       "    }\n",
       "</style>\n",
       "<table border=\"1\" class=\"dataframe\">\n",
       "  <thead>\n",
       "    <tr style=\"text-align: right;\">\n",
       "      <th>Year</th>\n",
       "      <th>Country</th>\n",
       "      <th>Influenza2005</th>\n",
       "      <th>Influenza2006</th>\n",
       "      <th>Influenza2007</th>\n",
       "      <th>Influenza2008</th>\n",
       "      <th>Influenza2009</th>\n",
       "      <th>Influenza2010</th>\n",
       "      <th>Influenza2011</th>\n",
       "      <th>Influenza2012</th>\n",
       "      <th>Influenza2013</th>\n",
       "      <th>Influenza2014</th>\n",
       "      <th>Influenza2015</th>\n",
       "      <th>Influenza2016</th>\n",
       "      <th>Influenza2017</th>\n",
       "      <th>Influenza2018</th>\n",
       "      <th>Influenza2019</th>\n",
       "    </tr>\n",
       "  </thead>\n",
       "  <tbody>\n",
       "    <tr>\n",
       "      <th>40</th>\n",
       "      <td>Czechia</td>\n",
       "      <td>46.0</td>\n",
       "      <td>161.0</td>\n",
       "      <td>262.0</td>\n",
       "      <td>187.0</td>\n",
       "      <td>990.0</td>\n",
       "      <td>72.0</td>\n",
       "      <td>427.0</td>\n",
       "      <td>249.0</td>\n",
       "      <td>1030.0</td>\n",
       "      <td>56.0</td>\n",
       "      <td>725.0</td>\n",
       "      <td>486.0</td>\n",
       "      <td>368.0</td>\n",
       "      <td>575.0</td>\n",
       "      <td>276.0</td>\n",
       "    </tr>\n",
       "    <tr>\n",
       "      <th>41</th>\n",
       "      <td>CÃ´te d'Ivoire</td>\n",
       "      <td>0.0</td>\n",
       "      <td>0.0</td>\n",
       "      <td>0.0</td>\n",
       "      <td>0.0</td>\n",
       "      <td>344.0</td>\n",
       "      <td>214.0</td>\n",
       "      <td>417.0</td>\n",
       "      <td>261.0</td>\n",
       "      <td>351.0</td>\n",
       "      <td>212.0</td>\n",
       "      <td>287.0</td>\n",
       "      <td>360.0</td>\n",
       "      <td>337.0</td>\n",
       "      <td>262.0</td>\n",
       "      <td>458.0</td>\n",
       "    </tr>\n",
       "  </tbody>\n",
       "</table>\n",
       "</div>"
      ],
      "text/plain": [
       "Year         Country  Influenza2005  Influenza2006  Influenza2007  \\\n",
       "40           Czechia           46.0          161.0          262.0   \n",
       "41    CÃ´te d'Ivoire            0.0            0.0            0.0   \n",
       "\n",
       "Year  Influenza2008  Influenza2009  Influenza2010  Influenza2011  \\\n",
       "40            187.0          990.0           72.0          427.0   \n",
       "41              0.0          344.0          214.0          417.0   \n",
       "\n",
       "Year  Influenza2012  Influenza2013  Influenza2014  Influenza2015  \\\n",
       "40            249.0         1030.0           56.0          725.0   \n",
       "41            261.0          351.0          212.0          287.0   \n",
       "\n",
       "Year  Influenza2016  Influenza2017  Influenza2018  Influenza2019  \n",
       "40            486.0          368.0          575.0          276.0  \n",
       "41            360.0          337.0          262.0          458.0  "
      ]
     },
     "execution_count": 60,
     "metadata": {},
     "output_type": "execute_result"
    }
   ],
   "source": [
    "# locate the position of the special letter country name in the influenza df\n",
    "df_allinf.iloc[40:42]"
   ]
  },
  {
   "cell_type": "code",
   "execution_count": 61,
   "metadata": {},
   "outputs": [],
   "source": [
    "# change the corresponding name used by WHO to that adopted by UN\n",
    "df_allinf.loc[41, ['Country']] = UN_cote_divore\n",
    "\n",
    "# check whether it has been changed"
   ]
  },
  {
   "cell_type": "code",
   "execution_count": 62,
   "metadata": {},
   "outputs": [
    {
     "data": {
      "text/html": [
       "<div>\n",
       "<style scoped>\n",
       "    .dataframe tbody tr th:only-of-type {\n",
       "        vertical-align: middle;\n",
       "    }\n",
       "\n",
       "    .dataframe tbody tr th {\n",
       "        vertical-align: top;\n",
       "    }\n",
       "\n",
       "    .dataframe thead th {\n",
       "        text-align: right;\n",
       "    }\n",
       "</style>\n",
       "<table border=\"1\" class=\"dataframe\">\n",
       "  <thead>\n",
       "    <tr style=\"text-align: right;\">\n",
       "      <th>Year</th>\n",
       "      <th>Country</th>\n",
       "      <th>Influenza2005</th>\n",
       "      <th>Influenza2006</th>\n",
       "      <th>Influenza2007</th>\n",
       "      <th>Influenza2008</th>\n",
       "      <th>Influenza2009</th>\n",
       "      <th>Influenza2010</th>\n",
       "      <th>Influenza2011</th>\n",
       "      <th>Influenza2012</th>\n",
       "      <th>Influenza2013</th>\n",
       "      <th>Influenza2014</th>\n",
       "      <th>Influenza2015</th>\n",
       "      <th>Influenza2016</th>\n",
       "      <th>Influenza2017</th>\n",
       "      <th>Influenza2018</th>\n",
       "      <th>Influenza2019</th>\n",
       "    </tr>\n",
       "  </thead>\n",
       "  <tbody>\n",
       "    <tr>\n",
       "      <th>40</th>\n",
       "      <td>Czechia</td>\n",
       "      <td>46.0</td>\n",
       "      <td>161.0</td>\n",
       "      <td>262.0</td>\n",
       "      <td>187.0</td>\n",
       "      <td>990.0</td>\n",
       "      <td>72.0</td>\n",
       "      <td>427.0</td>\n",
       "      <td>249.0</td>\n",
       "      <td>1030.0</td>\n",
       "      <td>56.0</td>\n",
       "      <td>725.0</td>\n",
       "      <td>486.0</td>\n",
       "      <td>368.0</td>\n",
       "      <td>575.0</td>\n",
       "      <td>276.0</td>\n",
       "    </tr>\n",
       "    <tr>\n",
       "      <th>41</th>\n",
       "      <td>Côte d'Ivoire</td>\n",
       "      <td>0.0</td>\n",
       "      <td>0.0</td>\n",
       "      <td>0.0</td>\n",
       "      <td>0.0</td>\n",
       "      <td>344.0</td>\n",
       "      <td>214.0</td>\n",
       "      <td>417.0</td>\n",
       "      <td>261.0</td>\n",
       "      <td>351.0</td>\n",
       "      <td>212.0</td>\n",
       "      <td>287.0</td>\n",
       "      <td>360.0</td>\n",
       "      <td>337.0</td>\n",
       "      <td>262.0</td>\n",
       "      <td>458.0</td>\n",
       "    </tr>\n",
       "  </tbody>\n",
       "</table>\n",
       "</div>"
      ],
      "text/plain": [
       "Year        Country  Influenza2005  Influenza2006  Influenza2007  \\\n",
       "40          Czechia           46.0          161.0          262.0   \n",
       "41    Côte d'Ivoire            0.0            0.0            0.0   \n",
       "\n",
       "Year  Influenza2008  Influenza2009  Influenza2010  Influenza2011  \\\n",
       "40            187.0          990.0           72.0          427.0   \n",
       "41              0.0          344.0          214.0          417.0   \n",
       "\n",
       "Year  Influenza2012  Influenza2013  Influenza2014  Influenza2015  \\\n",
       "40            249.0         1030.0           56.0          725.0   \n",
       "41            261.0          351.0          212.0          287.0   \n",
       "\n",
       "Year  Influenza2016  Influenza2017  Influenza2018  Influenza2019  \n",
       "40            486.0          368.0          575.0          276.0  \n",
       "41            360.0          337.0          262.0          458.0  "
      ]
     },
     "execution_count": 62,
     "metadata": {},
     "output_type": "execute_result"
    }
   ],
   "source": [
    "# check whether it has been changed\n",
    "df_allinf.iloc[40:42]"
   ]
  },
  {
   "cell_type": "code",
   "execution_count": 63,
   "metadata": {},
   "outputs": [],
   "source": [
    "# replace names in df_allinf\n",
    "# certain country names adopted by WHO is different from that of UN\n",
    "\n",
    "df_allinf_unified = df_allinf.replace({\"United Kingdom of Great Britain and Northern Ireland\": \"United Kingdom\",\n",
    "                  \"Lao People's Democratic Republic\": \"Lao People's Democratic Republic\",\n",
    "                  \"Turks and Caicos is.\": \"Turks and Caicos Islands\",\n",
    "                  \"Democratic People's Republic of Korea\": \"Dem. People's Republic of Korea\"})"
   ]
  },
  {
   "cell_type": "code",
   "execution_count": 64,
   "metadata": {},
   "outputs": [
    {
     "data": {
      "text/plain": [
       "Year\n",
       "Country          Turks and Caicos Is.\n",
       "Influenza2005                       0\n",
       "Influenza2006                       0\n",
       "Influenza2007                       0\n",
       "Influenza2008                       0\n",
       "Influenza2009                       0\n",
       "Influenza2010                       0\n",
       "Influenza2011                       0\n",
       "Influenza2012                       0\n",
       "Influenza2013                       0\n",
       "Influenza2014                       0\n",
       "Influenza2015                       0\n",
       "Influenza2016                       0\n",
       "Influenza2017                       0\n",
       "Influenza2018                       0\n",
       "Influenza2019                      12\n",
       "Name: 153, dtype: object"
      ]
     },
     "execution_count": 64,
     "metadata": {},
     "output_type": "execute_result"
    }
   ],
   "source": [
    "# check\n",
    "df_allinf_unified.iloc[153]\n",
    "\n",
    "# The following results show that Turks and Caicos Is.'s name has not been changed yet"
   ]
  },
  {
   "cell_type": "code",
   "execution_count": 65,
   "metadata": {},
   "outputs": [
    {
     "data": {
      "text/plain": [
       "Year\n",
       "Country          Turks and Caicos Islands\n",
       "Influenza2005                           0\n",
       "Influenza2006                           0\n",
       "Influenza2007                           0\n",
       "Influenza2008                           0\n",
       "Influenza2009                           0\n",
       "Influenza2010                           0\n",
       "Influenza2011                           0\n",
       "Influenza2012                           0\n",
       "Influenza2013                           0\n",
       "Influenza2014                           0\n",
       "Influenza2015                           0\n",
       "Influenza2016                           0\n",
       "Influenza2017                           0\n",
       "Influenza2018                           0\n",
       "Influenza2019                          12\n",
       "Name: 153, dtype: object"
      ]
     },
     "execution_count": 65,
     "metadata": {},
     "output_type": "execute_result"
    }
   ],
   "source": [
    "# change name by hand\n",
    "df_allinf_unified.at[153, 'Country'] = \"Turks and Caicos Islands\"\n",
    "df_allinf_unified.iloc[153]"
   ]
  },
  {
   "cell_type": "code",
   "execution_count": null,
   "metadata": {},
   "outputs": [],
   "source": []
  },
  {
   "cell_type": "markdown",
   "metadata": {},
   "source": [
    "## 4 Merge the influenza df and the country nodes df "
   ]
  },
  {
   "cell_type": "code",
   "execution_count": 66,
   "metadata": {},
   "outputs": [
    {
     "data": {
      "text/html": [
       "<div>\n",
       "<style scoped>\n",
       "    .dataframe tbody tr th:only-of-type {\n",
       "        vertical-align: middle;\n",
       "    }\n",
       "\n",
       "    .dataframe tbody tr th {\n",
       "        vertical-align: top;\n",
       "    }\n",
       "\n",
       "    .dataframe thead th {\n",
       "        text-align: right;\n",
       "    }\n",
       "</style>\n",
       "<table border=\"1\" class=\"dataframe\">\n",
       "  <thead>\n",
       "    <tr style=\"text-align: right;\">\n",
       "      <th></th>\n",
       "      <th>Country</th>\n",
       "      <th>Region</th>\n",
       "      <th>UN_Region</th>\n",
       "      <th>Influenza2005</th>\n",
       "      <th>Influenza2006</th>\n",
       "      <th>Influenza2007</th>\n",
       "      <th>Influenza2008</th>\n",
       "      <th>Influenza2009</th>\n",
       "      <th>Influenza2010</th>\n",
       "      <th>Influenza2011</th>\n",
       "      <th>Influenza2012</th>\n",
       "      <th>Influenza2013</th>\n",
       "      <th>Influenza2014</th>\n",
       "      <th>Influenza2015</th>\n",
       "      <th>Influenza2016</th>\n",
       "      <th>Influenza2017</th>\n",
       "      <th>Influenza2018</th>\n",
       "      <th>Influenza2019</th>\n",
       "    </tr>\n",
       "  </thead>\n",
       "  <tbody>\n",
       "    <tr>\n",
       "      <th>0</th>\n",
       "      <td>Australia</td>\n",
       "      <td>Australia New Zealand</td>\n",
       "      <td>Oceania</td>\n",
       "      <td>712.0</td>\n",
       "      <td>259.0</td>\n",
       "      <td>1355.0</td>\n",
       "      <td>768.0</td>\n",
       "      <td>5107.0</td>\n",
       "      <td>1252.0</td>\n",
       "      <td>2040.0</td>\n",
       "      <td>4798.0</td>\n",
       "      <td>2002.0</td>\n",
       "      <td>3473.0</td>\n",
       "      <td>3622.0</td>\n",
       "      <td>6705.0</td>\n",
       "      <td>10509.0</td>\n",
       "      <td>4264.0</td>\n",
       "      <td>14002.0</td>\n",
       "    </tr>\n",
       "    <tr>\n",
       "      <th>1</th>\n",
       "      <td>New Zealand</td>\n",
       "      <td>Australia New Zealand</td>\n",
       "      <td>Oceania</td>\n",
       "      <td>269.0</td>\n",
       "      <td>285.0</td>\n",
       "      <td>207.0</td>\n",
       "      <td>548.0</td>\n",
       "      <td>1542.0</td>\n",
       "      <td>326.0</td>\n",
       "      <td>1218.0</td>\n",
       "      <td>2261.0</td>\n",
       "      <td>2185.0</td>\n",
       "      <td>3418.0</td>\n",
       "      <td>5102.0</td>\n",
       "      <td>294.0</td>\n",
       "      <td>945.0</td>\n",
       "      <td>475.0</td>\n",
       "      <td>957.0</td>\n",
       "    </tr>\n",
       "  </tbody>\n",
       "</table>\n",
       "</div>"
      ],
      "text/plain": [
       "       Country                 Region UN_Region  Influenza2005  Influenza2006  \\\n",
       "0    Australia  Australia New Zealand   Oceania          712.0          259.0   \n",
       "1  New Zealand  Australia New Zealand   Oceania          269.0          285.0   \n",
       "\n",
       "   Influenza2007  Influenza2008  Influenza2009  Influenza2010  Influenza2011  \\\n",
       "0         1355.0          768.0         5107.0         1252.0         2040.0   \n",
       "1          207.0          548.0         1542.0          326.0         1218.0   \n",
       "\n",
       "   Influenza2012  Influenza2013  Influenza2014  Influenza2015  Influenza2016  \\\n",
       "0         4798.0         2002.0         3473.0         3622.0         6705.0   \n",
       "1         2261.0         2185.0         3418.0         5102.0          294.0   \n",
       "\n",
       "   Influenza2017  Influenza2018  Influenza2019  \n",
       "0        10509.0         4264.0        14002.0  \n",
       "1          945.0          475.0          957.0  "
      ]
     },
     "execution_count": 66,
     "metadata": {},
     "output_type": "execute_result"
    }
   ],
   "source": [
    "# merge\n",
    "df_merge = pd.merge(result2, df_allinf_unified, how = 'left', \n",
    "                    left_on = 'Country', right_on = 'Country').fillna(0)\n",
    "df_merge.head(2)"
   ]
  },
  {
   "cell_type": "code",
   "execution_count": 67,
   "metadata": {},
   "outputs": [
    {
     "data": {
      "text/plain": [
       "232"
      ]
     },
     "execution_count": 67,
     "metadata": {},
     "output_type": "execute_result"
    }
   ],
   "source": [
    "len(df_merge)"
   ]
  },
  {
   "cell_type": "code",
   "execution_count": 68,
   "metadata": {},
   "outputs": [
    {
     "data": {
      "text/plain": [
       "0"
      ]
     },
     "execution_count": 68,
     "metadata": {},
     "output_type": "execute_result"
    }
   ],
   "source": [
    "df_merge.isnull().sum().sum()"
   ]
  },
  {
   "cell_type": "code",
   "execution_count": null,
   "metadata": {},
   "outputs": [],
   "source": []
  },
  {
   "cell_type": "code",
   "execution_count": null,
   "metadata": {},
   "outputs": [],
   "source": []
  },
  {
   "cell_type": "markdown",
   "metadata": {},
   "source": [
    "## 5 Export country node csv file"
   ]
  },
  {
   "cell_type": "code",
   "execution_count": 69,
   "metadata": {},
   "outputs": [],
   "source": [
    "# set directory path\n",
    "path = \"C:/Users/Winnie/Documents/NeilJohnson/Migration/Version_7_March_31/\"\n",
    "\n",
    "# export csv files for 232 countres\n",
    "df_merge.to_csv(path + 'CountryNodes_All.csv', index=False)"
   ]
  },
  {
   "cell_type": "code",
   "execution_count": null,
   "metadata": {},
   "outputs": [],
   "source": []
  },
  {
   "cell_type": "code",
   "execution_count": 70,
   "metadata": {},
   "outputs": [
    {
     "data": {
      "text/plain": [
       "232"
      ]
     },
     "execution_count": 70,
     "metadata": {},
     "output_type": "execute_result"
    }
   ],
   "source": [
    "len(df_merge['Country'].unique())"
   ]
  },
  {
   "cell_type": "code",
   "execution_count": null,
   "metadata": {},
   "outputs": [],
   "source": []
  },
  {
   "cell_type": "code",
   "execution_count": null,
   "metadata": {},
   "outputs": [],
   "source": []
  },
  {
   "cell_type": "code",
   "execution_count": null,
   "metadata": {},
   "outputs": [],
   "source": []
  },
  {
   "cell_type": "code",
   "execution_count": null,
   "metadata": {},
   "outputs": [],
   "source": []
  },
  {
   "cell_type": "code",
   "execution_count": null,
   "metadata": {},
   "outputs": [],
   "source": []
  },
  {
   "cell_type": "code",
   "execution_count": null,
   "metadata": {},
   "outputs": [],
   "source": []
  },
  {
   "cell_type": "code",
   "execution_count": null,
   "metadata": {},
   "outputs": [],
   "source": []
  },
  {
   "cell_type": "code",
   "execution_count": null,
   "metadata": {},
   "outputs": [],
   "source": []
  },
  {
   "cell_type": "code",
   "execution_count": null,
   "metadata": {},
   "outputs": [],
   "source": []
  },
  {
   "cell_type": "code",
   "execution_count": null,
   "metadata": {},
   "outputs": [],
   "source": []
  },
  {
   "cell_type": "code",
   "execution_count": null,
   "metadata": {},
   "outputs": [],
   "source": []
  },
  {
   "cell_type": "code",
   "execution_count": null,
   "metadata": {},
   "outputs": [],
   "source": []
  },
  {
   "cell_type": "code",
   "execution_count": null,
   "metadata": {},
   "outputs": [],
   "source": []
  }
 ],
 "metadata": {
  "kernelspec": {
   "display_name": "Python 3",
   "language": "python",
   "name": "python3"
  },
  "language_info": {
   "codemirror_mode": {
    "name": "ipython",
    "version": 3
   },
   "file_extension": ".py",
   "mimetype": "text/x-python",
   "name": "python",
   "nbconvert_exporter": "python",
   "pygments_lexer": "ipython3",
   "version": "3.6.5"
  }
 },
 "nbformat": 4,
 "nbformat_minor": 2
}
